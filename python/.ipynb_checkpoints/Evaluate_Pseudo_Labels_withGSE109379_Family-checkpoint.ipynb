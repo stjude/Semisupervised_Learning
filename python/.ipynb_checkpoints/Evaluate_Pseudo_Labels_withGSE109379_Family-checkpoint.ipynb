{
 "cells": [
  {
   "cell_type": "markdown",
   "metadata": {},
   "source": [
    "# Evaluate Pseudo Labels"
   ]
  },
  {
   "cell_type": "markdown",
   "metadata": {},
   "source": [
    "Questions:\n",
    "1. Do labels obtained from semisupervised classifier improve a supervised classifier performance?\n",
    "2. Do high confident labels from a SSL model improve a supervised classifier performance?"
   ]
  },
  {
   "cell_type": "markdown",
   "metadata": {},
   "source": [
    "## Design\n",
    "\n",
    "Original data set has 2801 samples x 5072 features. This data were split into 70% train and 30% test. This process was repeated 7 times to create 7 different train-test splits.\n",
    "\n",
    "For each split:\n",
    "1. Create a random forest model\n",
    "2. Evaluate the model on 35% data with itest\n",
    "3. Evaluate the model on 35% data  + SSL GSE109379 with itest\n",
    "4. Evaluate the model on 35% data + 35% pseudo-label data + GSE109379 pseudo-label data with itest\n",
    "5. Evaluate the model on 35% data + 35% pseudo-label data + HC GSE1093790 pseudo-label data with itest\n",
    "6. Evaluate the model on 35% data + high confident pseudo-label +  GSE109379 pseudo-label data with itest\n",
    "7. Evaluate the model on 35% data + high confident pseudo-label +  HC GSE109379 pseudo-label data with itest\n",
    "\n",
    "\n",
    "Box plots for each model (1 box plot show the average accuracies of each model over the 7 train-test splits)"
   ]
  },
  {
   "cell_type": "code",
   "execution_count": 1,
   "metadata": {},
   "outputs": [],
   "source": [
    "import scipy.io\n",
    "from sklearn.ensemble import RandomForestClassifier\n",
    "from sklearn.model_selection import cross_validate, RepeatedStratifiedKFold\n",
    "from sklearn.metrics import accuracy_score, precision_score, recall_score, balanced_accuracy_score\n",
    "from sklearn.metrics import confusion_matrix\n",
    "import pandas as pd\n",
    "import numpy as np\n",
    "import collections\n",
    "\n",
    "def CountFrequency(arr):\n",
    "    return collections.Counter(arr)  \n",
    "\n",
    "def combine(y, str):\n",
    "    freq = CountFrequency(y)\n",
    "    d = pandas.DataFrame(freq.items(), columns=['Sample', 'pseudo_class_label'] )    \n",
    "    schema = [str] * len(d)\n",
    "    d['Dataset'] = schema\n",
    "    return d\n",
    "\n",
    "def get_freq_series(y):\n",
    "    freq = CountFrequency(y)\n",
    "    s = pandas.Series(freq.values(), index = freq.keys())\n",
    "    return s\n",
    "\n",
    "def process_csv(filename):\n",
    "    df = pandas.read_csv(filename, index_col=0)\n",
    "    y = df.y\n",
    "    X = df.drop(columns=['y'])\n",
    "    return (X, y)\n",
    "\n",
    "def append_result(p, df):\n",
    "    s = pandas.Series(p, index=df.columns)\n",
    "    return df.append(s, ignore_index=True)\n",
    "\n",
    "def apply_CV(mod, cv, X, y):\n",
    "    return cross_validate(mod, X, y, cv=cv, scoring=['balanced_accuracy', 'accuracy', 'recall_weighted'])\n",
    "\n",
    "\n",
    "\n",
    "def append_cv_results(df, r, seed_name, dataset_name):\n",
    "    df = append_result([seed_name, dataset_name, 'cross_val', 'balanced_acc', r['test_balanced_accuracy'].mean().round(2)], df)\n",
    "    df = append_result([seed_name, dataset_name, 'cross_val', 'accuracy', r['test_accuracy'].mean().round(2)], df)\n",
    "    df = append_result([seed_name, dataset_name, 'cross_val', 'recall_weighted', r['test_recall_weighted'].mean().round(2)], df)\n",
    "    return df\n",
    "\n",
    "def accuracy_per_class(y_true, y_pred):\n",
    "    cm = confusion_matrix(y_true, y_pred)\n",
    "    classes = np.unique(y_true)\n",
    "    per_class_accuracies = cm.diagonal()/cm.sum(axis=1)\n",
    "    per_class_acc_wKeys = {}\n",
    "    for idx, cls in enumerate(classes):\n",
    "        per_class_acc_wKeys[cls] = per_class_accuracies[idx]\n",
    "    return per_class_acc_wKeys\n",
    "\n",
    "def evaluate_against_test_set(mod, x_train, y_train, x_test, y_test):\n",
    "    mod.fit(x_train, y_train)\n",
    "    y_pred = mod.predict(x_test)\n",
    "    per_class_acc = accuracy_per_class(y_test, y_pred)\n",
    "    rec = recall_score(y_test, y_pred,  average='weighted', zero_division=0).round(3)\n",
    "    acc = accuracy_score(y_pred, y_test).round(3)\n",
    "    b_acc = balanced_accuracy_score(y_pred, y_test).round(3)\n",
    "    return (rec, acc, b_acc, per_class_acc)\n",
    "\n",
    "def append_testset_results(df, r, seed_name, dataset_name):\n",
    "    df = append_result([seed_name, dataset_name, 'vs_testset', 'accuracy', r[0]], df)\n",
    "    df = append_result([seed_name, dataset_name, 'vs_testset', 'balanced_acc', r[1]], df)\n",
    "    df = append_result([seed_name, dataset_name, 'vs_testset', 'recall_weighted', r[2]], df)\n",
    "    return df\n",
    "\n",
    "\n",
    "def create_per_class_acc_df(class_acc, seed, type_dset):\n",
    "    d = pd.DataFrame(columns = ['Seed', 'Dataset'])\n",
    "    d = d.append(class_acc, ignore_index=True)\n",
    "    d['Seed'] = seed\n",
    "    d['Dataset'] = type_dset\n",
    "    return d\n",
    "\n",
    "def evaluate(seed, model, cv, mcf=False):\n",
    "    print('1. Read files (seed={})'.format(seed))\n",
    "       \n",
    "    file35 = './data_family/seed{}_35perc.csv'.format(seed)\n",
    "    file70='./data_family/seed{}_70perc.csv'.format(seed)\n",
    "    file70HC= './data_family/seed{}_70percHC.csv'.format(seed)\n",
    "    \n",
    "    file35_GSE='./data_family/seed{}_35perc_gse109379.csv'.format(seed)\n",
    "    file35_GSEHC ='./data_family/seed{}_35perc_HCgse109379.csv'.format(seed)\n",
    "    file70_GSE = './data_family/seed{}_70perc_gse109379.csv'.format(seed)\n",
    "    \n",
    "    file70HC_GSE = './data_family/seed{}_70HC_gse109379.csv'.format(seed)\n",
    "    file70_GSEHC = './data_family/seed{}_70perc_gse109379HC.csv'.format(seed)\n",
    "    file70HC_GSEHC = './data_family/seed{}_70HC_gse109379HC.csv'.format(seed)\n",
    "    \n",
    "    \n",
    "    fileHoldOut = './data_family/seed{}_holdOutTest.csv'.format(seed)\n",
    "    #########\n",
    "    print('\\tReading', file35)\n",
    "    X35, y35 = process_csv(file35)\n",
    "    print('\\tReading', file70)\n",
    "    X70, y70 = process_csv(file70)\n",
    "    print('\\tReading', file70HC)\n",
    "    X70HC, y70HC = process_csv(file70HC)\n",
    "    \n",
    "    print('\\tReading', file35_GSE)\n",
    "    X35gse, y35gse = process_csv(file35_GSE)\n",
    "    print('\\tReading', file35_GSEHC)\n",
    "    X35gseHC, y35gseHC = process_csv(file35_GSEHC)\n",
    "    print('\\tReading', file70_GSE)\n",
    "    X70gse, y70gse = process_csv(file70_GSE)\n",
    "    \n",
    "    print('\\tReading', file70HC_GSE)\n",
    "    X70HCgse, y70HCgse = process_csv(file70HC_GSE)\n",
    "    print('\\tReading', file70_GSEHC)\n",
    "    X70gseHC, y70gseHC = process_csv(file70_GSEHC)\n",
    "    print('\\tReading', file70HC_GSEHC)\n",
    "    XHC, yHC = process_csv(file70HC_GSEHC)\n",
    "    \n",
    "    print('\\tReading', fileHoldOut)\n",
    "    xitest, yitest = process_csv(fileHoldOut)\n",
    "    ###################\n",
    "    \n",
    "    \n",
    "    print('2. Evaluate model with 35% data')\n",
    "    print('\\tcross validate', model, 'with', cv)\n",
    "    result_cv_35 = apply_CV(model, cv, X35, y35)\n",
    "    print('\\tvalidate against test set')\n",
    "    result_ts_35 = evaluate_against_test_set(model, X35, y35, xitest, yitest)\n",
    "          \n",
    "    print('3. Evaluate model with 70% data')\n",
    "    print('\\tcross validate', model, 'with', cv)\n",
    "    result_cv_70 = apply_CV(model, cv, X70, y70)\n",
    "    print('\\tvalidate against test set')\n",
    "    result_ts_70 = evaluate_against_test_set(model, X70, y70, xitest, yitest)\n",
    "\n",
    "    print('4. Evaluate model with 70% HC')    \n",
    "    print('\\tcross validate', model, 'with', cv)\n",
    "    result_cv_70HC = apply_CV(model, cv, X70HC, y70HC)\n",
    "    print('\\tvalidate against test set')\n",
    "    result_ts_70HC = evaluate_against_test_set(model, X70HC, y70HC, xitest, yitest)\n",
    "    \n",
    "    #########\n",
    "    \n",
    "    print('5. Evaluate model with 35% data with GSE109379')\n",
    "    print('\\tcross validate', model, 'with', cv)\n",
    "    result_cv_35gse = apply_CV(model, cv, X35gse, y35gse)\n",
    "    print('\\tvalidate against test set')\n",
    "    result_ts_35gse = evaluate_against_test_set(model, X35gse, y35gse, xitest, yitest)\n",
    "    \n",
    "    print('6. Evaluate model with 35% data with High confident GSE109379')\n",
    "    print('\\tcross validate', model, 'with', cv)\n",
    "    result_cv_35gseHC = apply_CV(model, cv, X35gseHC, y35gseHC)\n",
    "    print('\\tvalidate against test set')\n",
    "    result_ts_35gseHC = evaluate_against_test_set(model, X35gseHC, y35gseHC, xitest, yitest)\n",
    "    \n",
    "    print('7. Evaluate model with 70% + GSE90496 pseudo-labeled data')    \n",
    "    print('\\tcross validate', model, 'with', cv)\n",
    "    result_cv_70gse = apply_CV(model, cv, X70gse, y70gse)\n",
    "    print('\\tvalidate against test set')\n",
    "    result_ts_70gse = evaluate_against_test_set(model, X70gse, y70gse, xitest, yitest)\n",
    "    \n",
    "    ##########    \n",
    "             \n",
    "    print('8. Evaluate model with 70% HC + GSE109379')\n",
    "    print('\\tcross validate', model, 'with', cv)\n",
    "    result_cv_70HCgse = apply_CV(model, cv, X70HCgse, y70HCgse)\n",
    "    print('\\tvalidate against test set')\n",
    "    result_ts_70HCgse = evaluate_against_test_set(model, X70HCgse, y70HCgse, xitest, yitest)\n",
    "\n",
    "    print('9. Evaluate model with 70% + HC GSE90496 ')    \n",
    "    print('\\tcross validate', model, 'with', cv)\n",
    "    result_cv_70gseHC = apply_CV(model, cv, X70gseHC, y70gseHC)\n",
    "    print('\\tvalidate against test set')\n",
    "    result_ts_70gseHC = evaluate_against_test_set(model, X70gseHC, y70gseHC, xitest, yitest)\n",
    "      \n",
    "    print('10. Evaluate model with HC pseudo-labeled data')    \n",
    "    print('\\tcross validate', model, 'with', cv)\n",
    "    result_cv_HC = apply_CV(model, cv, XHC, yHC)\n",
    "    print('\\tvalidate against test set')\n",
    "    result_ts_HC = evaluate_against_test_set(model, XHC, yHC, xitest, yitest)\n",
    "\n",
    "    \n",
    "    print('6. Store results.')\n",
    "    df = pd.DataFrame(data=[], columns=['Seed','Dataset','Validation','Metric','Value'])\n",
    "    df = append_cv_results(df, result_cv_35, seed, '35')\n",
    "    df = append_testset_results(df, result_ts_35, seed, '35')\n",
    "    \n",
    "    df = append_cv_results(df, result_cv_70, seed, '70')\n",
    "    df = append_testset_results(df, result_ts_70, seed, '70')\n",
    "    \n",
    "    df = append_cv_results(df, result_cv_70HC, seed, '70HC')\n",
    "    df = append_testset_results(df, result_ts_70HC, seed, '70HC')\n",
    "    \n",
    "    df = append_cv_results(df, result_cv_35gse, seed, '35_GSE')\n",
    "    df = append_testset_results(df, result_ts_35gse, seed, '35_GSE')\n",
    "    \n",
    "    df = append_cv_results(df, result_cv_35gseHC, seed, '35_gseHC')\n",
    "    df = append_testset_results(df, result_ts_35gseHC, seed, '35_gseHC')\n",
    "    \n",
    "    df = append_cv_results(df, result_cv_70gse, seed, '70_GSE')\n",
    "    df = append_testset_results(df, result_ts_70gse, seed, '70_GSE')\n",
    "    \n",
    "    df = append_cv_results(df, result_cv_70HCgse, seed, '70HC_GSE')\n",
    "    df = append_testset_results(df, result_ts_70HCgse, seed, '70HC_GSE')\n",
    "    df = append_cv_results(df, result_cv_70gseHC, seed, '70_gseHC')\n",
    "    df = append_testset_results(df, result_ts_70gseHC, seed, '70_gseHC')\n",
    "    df = append_cv_results(df, result_cv_HC, seed, 'HC')\n",
    "    df = append_testset_results(df, result_ts_HC, seed, 'HC')\n",
    "    \n",
    "    #df_class_acc = pd.DataFrame(columns = ['Seed', 'Dataset'])\n",
    "    \n",
    "    df_class = create_per_class_acc_df(result_ts_35[3], seed, '35')\n",
    "    \n",
    "    df_class = df_class.append(create_per_class_acc_df(result_ts_70[3], seed, '70'))\n",
    "    df_class = df_class.append(create_per_class_acc_df(result_ts_70HC[3], seed, '70HC'))\n",
    "    \n",
    "    df_class = df_class.append(create_per_class_acc_df(result_ts_35gse[3], seed, '35GSE'))\n",
    "    df_class = df_class.append(create_per_class_acc_df(result_ts_35gseHC[3], seed, '35_gseHC'))\n",
    "    df_class = df_class.append(create_per_class_acc_df(result_ts_70gse[3], seed, '70_GSE'))\n",
    "    \n",
    "    df_class = df_class.append(create_per_class_acc_df(result_ts_70HCgse[3], seed, '70HC_GSE'))\n",
    "    df_class = df_class.append(create_per_class_acc_df(result_ts_70gseHC[3], seed, '70_gseHC'))\n",
    "    df_class = df_class.append(create_per_class_acc_df(result_ts_HC[3], seed, 'HC'))\n",
    "    \n",
    "    return (df, df_class)\n",
    "\n",
    "\n",
    "def count_pseudo_label_per_family(seed):\n",
    "    print('1. Read files (seed={})'.format(seed))\n",
    "       \n",
    "    file35 = './data_family/seed{}_35perc.csv'.format(seed)\n",
    "    file70='./data_family/seed{}_70perc.csv'.format(seed)\n",
    "    file70HC= './data_family/seed{}_70percHC.csv'.format(seed)\n",
    "    \n",
    "    file35_GSE='./data_family/seed{}_35perc_gse109379.csv'.format(seed)\n",
    "    file35_GSEHC ='./data_family/seed{}_35perc_HCgse109379.csv'.format(seed)\n",
    "    file70_GSE = './data_family/seed{}_70perc_gse109379.csv'.format(seed)\n",
    "    \n",
    "    file70HC_GSE = './data_family/seed{}_70HC_gse109379.csv'.format(seed)\n",
    "    file70_GSEHC = './data_family/seed{}_70perc_gse109379HC.csv'.format(seed)\n",
    "    file70HC_GSEHC = './data_family/seed{}_70HC_gse109379HC.csv'.format(seed)\n",
    "    \n",
    "    fileHoldOut = './data_family/seed{}_holdOutTest.csv'.format(seed)\n",
    "    \n",
    "    #########\n",
    "    \n",
    "    print('\\tReading', file35)\n",
    "    X35, y35 = process_csv(file35)\n",
    "    f35 = get_freq_series(y35)\n",
    "    print('\\tReading', file70)\n",
    "    X70, y70 = process_csv(file70)\n",
    "    f70 = get_freq_series(y70)\n",
    "    print('\\tReading', file70HC)\n",
    "    X70HC, y70HC = process_csv(file70HC)\n",
    "    f70HC = get_freq_series(y70HC)\n",
    "    \n",
    "    print('\\tReading', file35_GSE)\n",
    "    X35gse, y35gse = process_csv(file35_GSE)\n",
    "    f35gse = get_freq_series(y35gse)\n",
    "    print('\\tReading', file35_GSEHC)\n",
    "    X35gseHC, y35gseHC = process_csv(file35_GSEHC)\n",
    "    f35gseHC = get_freq_series(y35gseHC)\n",
    "    print('\\tReading', file70_GSE)\n",
    "    X70gse, y70gse = process_csv(file70_GSE)\n",
    "    f70gse = get_freq_series(y70gse)\n",
    "    \n",
    "    print('\\tReading', file70HC_GSE)\n",
    "    X70HCgse, y70HCgse = process_csv(file70HC_GSE)\n",
    "    f70HCgse = get_freq_series(y70HCgse)\n",
    "    print('\\tReading', file70_GSEHC)\n",
    "    X70gseHC, y70gseHC = process_csv(file70_GSEHC)\n",
    "    f70gseHC = get_freq_series(y70gseHC)\n",
    "    print('\\tReading', file70HC_GSEHC)\n",
    "    XHC, yHC = process_csv(file70HC_GSEHC)\n",
    "    fHC = get_freq_series(yHC)\n",
    "    \n",
    "    print('\\tReading', fileHoldOut)\n",
    "    xitest, yitest = process_csv(fileHoldOut)\n",
    "    fitest = get_freq_series(yitest)\n",
    "    \n",
    " \n",
    "    print('2. Store pseudo_label_counts')\n",
    "    df = pandas.DataFrame(data=[], columns = f35.keys())\n",
    "    df = df.append(f35, ignore_index=True)\n",
    "    df = df.append(f70, ignore_index=True)  \n",
    "    df = df.append(f70HC, ignore_index=True)\n",
    "    df = df.append(f35gse, ignore_index=True)\n",
    "    df = df.append(f35gseHC, ignore_index=True)\n",
    "    df = df.append(f70gse, ignore_index=True)\n",
    "    df = df.append(f70HCgse, ignore_index=True)\n",
    "    df = df.append(f70gseHC, ignore_index=True)\n",
    "    df = df.append(fHC, ignore_index=True)\n",
    "    df = df.append(fitest, ignore_index=True)\n",
    "    \n",
    "    df.insert(0, 'Dataset', ['35', '70', '70HC', '35gse', '35gseHC', '70gse', '70HCgse', '70gseHC', 'HC', 'holdOut'])\n",
    "    df.insert(1, 'Seed', [seed]*10)\n",
    "    \n",
    "    return df\n",
    "   \n",
    "\n",
    "def combine_input_label2(seed):\n",
    "    print('1. Read files (seed={})'.format(seed))\n",
    "       \n",
    "    file35 = './data_family/seed{}_35perc.csv'.format(seed)\n",
    "    file70='./data_family/seed{}_70perc.csv'.format(seed)\n",
    "    file70HC= './data_family/seed{}_70percHC.csv'.format(seed)\n",
    "    \n",
    "    file35_GSE='./data_family/seed{}_35perc_gse109379.csv'.format(seed)\n",
    "    file35_GSEHC ='./data_family/seed{}_35perc_HCgse109379.csv'.format(seed)\n",
    "    file70_GSE = './data_family/seed{}_70perc_gse109379.csv'.format(seed)\n",
    "    \n",
    "    file70HC_GSE = './data_family/seed{}_70HC_gse109379.csv'.format(seed)\n",
    "    file70_GSEHC = './data_family/seed{}_70perc_gse109379HC.csv'.format(seed)\n",
    "    file70HC_GSEHC = './data_family/seed{}_70HC_gse109379HC.csv'.format(seed)\n",
    "    \n",
    "    \n",
    "    fileHoldOut = './data_family/seed{}_holdOutTest.csv'.format(seed)\n",
    "    #########\n",
    "    \n",
    "    #########\n",
    "    \n",
    "    print('\\tReading', file35)\n",
    "    X35, y35 = process_csv(file35)\n",
    "    f35 = get_freq_series(y35)\n",
    "    print('\\tReading', file70)\n",
    "    X70, y70 = process_csv(file70)\n",
    "    f70 = get_freq_series(y70)\n",
    "    print('\\tReading', file70HC)\n",
    "    X70HC, y70HC = process_csv(file70HC)\n",
    "    f70HC = get_freq_series(y70HC)\n",
    "    \n",
    "    print('\\tReading', file35_GSE)\n",
    "    X35gse, y35gse = process_csv(file35_GSE)\n",
    "    f35gse = get_freq_series(y35gse)\n",
    "    print('\\tReading', file35_GSEHC)\n",
    "    X35gseHC, y35gseHC = process_csv(file35_GSEHC)\n",
    "    f35gseHC = get_freq_series(y35gseHC)\n",
    "    print('\\tReading', file70_GSE)\n",
    "    X70gse, y70gse = process_csv(file70_GSE)\n",
    "    f70gse = get_freq_series(y70gse)\n",
    "    \n",
    "    print('\\tReading', file70HC_GSE)\n",
    "    X70HCgse, y70HCgse = process_csv(file70HC_GSE)\n",
    "    f70HCgse = get_freq_series(y70HCgse)\n",
    "    print('\\tReading', file70_GSEHC)\n",
    "    X70gseHC, y70gseHC = process_csv(file70_GSEHC)\n",
    "    f70gseHC = get_freq_series(y70gseHC)\n",
    "    print('\\tReading', file70HC_GSEHC)\n",
    "    XHC, yHC = process_csv(file70HC_GSEHC)\n",
    "    fHC = get_freq_series(yHC)\n",
    "    \n",
    "    print('\\tReading', fileHoldOut)\n",
    "    xitest, yitest = process_csv(fileHoldOut)\n",
    "    fitest = get_freq_series(yitest)\n",
    "    \n",
    " \n",
    "    print('2. Store pseudo_label_counts')\n",
    "    df = pandas.DataFrame(data=[], columns = f35.keys())\n",
    "    df = df.append(f35, ignore_index=True)\n",
    "    df = df.append(f70, ignore_index=True)  \n",
    "    df = df.append(f70HC, ignore_index=True)\n",
    "    df = df.append(f35gse, ignore_index=True)\n",
    "    df = df.append(f35gseHC, ignore_index=True)\n",
    "    df = df.append(f70gse, ignore_index=True)\n",
    "    df = df.append(f70HCgse, ignore_index=True)\n",
    "    df = df.append(f70gseHC, ignore_index=True)\n",
    "    df = df.append(fHC, ignore_index=True)\n",
    "    df = df.append(fitest, ignore_index=True)\n",
    "    \n",
    "    df.insert(0, 'Dataset', ['35', '70', '70HC', '35gse', '35gseHC', '70gse', '70HCgse', '70gseHC', 'HC', 'holdOut'])\n",
    "    df.insert(1, 'Seed', [seed]*10)\n",
    "    \n",
    "    return df\n",
    "\n",
    "def evaluate_short(seed, model, cv, mcf=False):\n",
    "    print('1. Read files (seed={})'.format(seed))\n",
    "       \n",
    "    file35 = './data_family/seed{}_35perc.csv'.format(seed)\n",
    "    file70='./data_family/seed{}_70perc.csv'.format(seed)\n",
    "    file70HC= './data_family/seed{}_70percHC.csv'.format(seed)\n",
    "    \n",
    "    \n",
    "    \n",
    "    fileHoldOut = './data_family/seed{}_holdOutTest.csv'.format(seed)\n",
    "    #########\n",
    "    print('\\tReading', file35)\n",
    "    X35, y35 = process_csv(file35)\n",
    "    print('\\tReading', file70)\n",
    "    X70, y70 = process_csv(file70)\n",
    "    print('\\tReading', file70HC)\n",
    "    X70HC, y70HC = process_csv(file70HC)\n",
    "    \n",
    "        \n",
    "    print('\\tReading', fileHoldOut)\n",
    "    xitest, yitest = process_csv(fileHoldOut)\n",
    "    ###################\n",
    "    \n",
    "    \n",
    "    print('2. Evaluate model with 35% data')\n",
    "    print('\\tcross validate', model, 'with', cv)\n",
    "    result_cv_35 = apply_CV(model, cv, X35, y35)\n",
    "    print('\\tvalidate against test set')\n",
    "    result_ts_35 = evaluate_against_test_set(model, X35, y35, xitest, yitest)\n",
    "          \n",
    "    print('3. Evaluate model with 70% data')\n",
    "    print('\\tcross validate', model, 'with', cv)\n",
    "    result_cv_70 = apply_CV(model, cv, X70, y70)\n",
    "    print('\\tvalidate against test set')\n",
    "    result_ts_70 = evaluate_against_test_set(model, X70, y70, xitest, yitest)\n",
    "\n",
    "    \n",
    "    #########\n",
    "    \n",
    "        \n",
    "    print('6. Store results.')\n",
    "    df = pd.DataFrame(data=[], columns=['Seed','Dataset','Validation','Metric','Value'])\n",
    "    df = append_cv_results(df, result_cv_35, seed, '35')\n",
    "    df = append_testset_results(df, result_ts_35, seed, '35')\n",
    "    \n",
    "    df = append_cv_results(df, result_cv_70, seed, '70')\n",
    "    df = append_testset_results(df, result_ts_70, seed, '70')\n",
    "    \n",
    "    \n",
    "    #df_class_acc = pd.DataFrame(columns = ['Seed', 'Dataset'])\n",
    "    \n",
    "    df_class_acc = create_per_class_acc_df(result_ts_35[3], seed, '35')\n",
    "    df_class_acc = df_class_acc.append(create_per_class_acc_df(result_ts_70[3], seed, '70'))\n",
    "       \n",
    "    return (df, df_class_acc)\n",
    "\n",
    "def run_all_seeds(rand):\n",
    "    model = RandomForestClassifier(n_estimators = 50, max_depth=100, random_state=rand)\n",
    "    cv = RepeatedStratifiedKFold(n_splits=3, n_repeats=5)\n",
    "    for seed in [1, 2, 20, 40, 80, 160, 320]:\n",
    "        result = evaluate(seed, model, cv)\n",
    "        output_file = 'result_family_seed{}_GSE109379_{}.csv'.format(seed, rand)\n",
    "        output_per_family_file = './output_acc_perFamily/result_acc_perFamily_seed{}_GSE109379_{}.csv'.format(seed, rand)\n",
    "        result[0].to_csv(output_file, index=False)\n",
    "        result[1].to_csv(output_per_family_file, index=False)\n",
    "        print('Result saved to', output_file)\n",
    "\n",
    "def run_one_seeds(rand):\n",
    "    model = RandomForestClassifier(n_estimators = 50, max_depth=100, random_state=rand)\n",
    "    cv = RepeatedStratifiedKFold(n_splits=3, n_repeats=1)\n",
    "    for seed in [ 2]:\n",
    "        result = evaluate_short(seed, model, cv)\n",
    "        output_file = './output/result_family_seed{}_GSE109379_{}.csv'.format(seed, rand)\n",
    "        output_per_family_file = './output_acc_perFamily/result_acc_perFamily_seed{}_GSE109379_{}.csv'.format(seed, rand)\n",
    "        result[0].to_csv(output_file, index=False)\n",
    "        result[1].to_csv(output_per_family_file, index=False)\n",
    "        print('Result saved to', output_file)\n",
    "        \n",
    "def create_pseudo_labels_file():\n",
    "    for seed in [1, 2, 20, 40, 80, 160, 320]:\n",
    "        combined_labels = count_pseudo_label_per_family(seed)\n",
    "        output_file = 'pseudo_label_family_seed{}.csv'.format(seed)\n",
    "        combined_labels.to_csv(output_file, index=True)"
   ]
  },
  {
   "cell_type": "code",
   "execution_count": 4,
   "metadata": {},
   "outputs": [],
   "source": [
    "class_label = './raw_data/GSE90496_methylation_family_label.csv'"
   ]
  },
  {
   "cell_type": "code",
   "execution_count": 13,
   "metadata": {},
   "outputs": [
    {
     "data": {
      "text/html": [
       "<div>\n",
       "<style scoped>\n",
       "    .dataframe tbody tr th:only-of-type {\n",
       "        vertical-align: middle;\n",
       "    }\n",
       "\n",
       "    .dataframe tbody tr th {\n",
       "        vertical-align: top;\n",
       "    }\n",
       "\n",
       "    .dataframe thead th {\n",
       "        text-align: right;\n",
       "    }\n",
       "</style>\n",
       "<table border=\"1\" class=\"dataframe\">\n",
       "  <thead>\n",
       "    <tr style=\"text-align: right;\">\n",
       "      <th></th>\n",
       "      <th>y</th>\n",
       "    </tr>\n",
       "  </thead>\n",
       "  <tbody>\n",
       "    <tr>\n",
       "      <th>GSM2402854_5684819014_R03C02</th>\n",
       "      <td>GBM, G34</td>\n",
       "    </tr>\n",
       "    <tr>\n",
       "      <th>GSM2402863_5684819013_R04C01</th>\n",
       "      <td>DMG, K27</td>\n",
       "    </tr>\n",
       "    <tr>\n",
       "      <th>GSM2402953_6164621144_R03C02</th>\n",
       "      <td>MCF ATRT</td>\n",
       "    </tr>\n",
       "    <tr>\n",
       "      <th>GSM2403853_9305651003_R06C02</th>\n",
       "      <td>EPN, RELA</td>\n",
       "    </tr>\n",
       "    <tr>\n",
       "      <th>GSM2403854_9305651005_R03C02</th>\n",
       "      <td>EPN, PF B</td>\n",
       "    </tr>\n",
       "    <tr>\n",
       "      <th>...</th>\n",
       "      <td>...</td>\n",
       "    </tr>\n",
       "    <tr>\n",
       "      <th>GSM2403848_9305651037_R02C02</th>\n",
       "      <td>CPH, PAP</td>\n",
       "    </tr>\n",
       "    <tr>\n",
       "      <th>GSM2403849_9305651037_R06C01</th>\n",
       "      <td>CPH, PAP</td>\n",
       "    </tr>\n",
       "    <tr>\n",
       "      <th>GSM2403850_9305651037_R04C01</th>\n",
       "      <td>EPN, MPE</td>\n",
       "    </tr>\n",
       "    <tr>\n",
       "      <th>GSM2403851_9305651037_R01C02</th>\n",
       "      <td>PITUI</td>\n",
       "    </tr>\n",
       "    <tr>\n",
       "      <th>GSM2403852_9305651037_R06C02</th>\n",
       "      <td>SCHW</td>\n",
       "    </tr>\n",
       "  </tbody>\n",
       "</table>\n",
       "<p>2801 rows × 1 columns</p>\n",
       "</div>"
      ],
      "text/plain": [
       "                                      y\n",
       "GSM2402854_5684819014_R03C02   GBM, G34\n",
       "GSM2402863_5684819013_R04C01   DMG, K27\n",
       "GSM2402953_6164621144_R03C02   MCF ATRT\n",
       "GSM2403853_9305651003_R06C02  EPN, RELA\n",
       "GSM2403854_9305651005_R03C02  EPN, PF B\n",
       "...                                 ...\n",
       "GSM2403848_9305651037_R02C02   CPH, PAP\n",
       "GSM2403849_9305651037_R06C01   CPH, PAP\n",
       "GSM2403850_9305651037_R04C01   EPN, MPE\n",
       "GSM2403851_9305651037_R01C02      PITUI\n",
       "GSM2403852_9305651037_R06C02       SCHW\n",
       "\n",
       "[2801 rows x 1 columns]"
      ]
     },
     "execution_count": 13,
     "metadata": {},
     "output_type": "execute_result"
    }
   ],
   "source": [
    "labels = pd.read_csv(class_label, header=0, names=['y'])\n",
    "\n",
    "labels"
   ]
  },
  {
   "cell_type": "code",
   "execution_count": 20,
   "metadata": {},
   "outputs": [],
   "source": [
    "labels.y = [x.strip() for x in labels.y.values]"
   ]
  },
  {
   "cell_type": "code",
   "execution_count": 22,
   "metadata": {},
   "outputs": [
    {
     "data": {
      "text/html": [
       "<div>\n",
       "<style scoped>\n",
       "    .dataframe tbody tr th:only-of-type {\n",
       "        vertical-align: middle;\n",
       "    }\n",
       "\n",
       "    .dataframe tbody tr th {\n",
       "        vertical-align: top;\n",
       "    }\n",
       "\n",
       "    .dataframe thead th {\n",
       "        text-align: right;\n",
       "    }\n",
       "</style>\n",
       "<table border=\"1\" class=\"dataframe\">\n",
       "  <thead>\n",
       "    <tr style=\"text-align: right;\">\n",
       "      <th></th>\n",
       "      <th>y</th>\n",
       "    </tr>\n",
       "  </thead>\n",
       "  <tbody>\n",
       "    <tr>\n",
       "      <th>GSM2402854_5684819014_R03C02</th>\n",
       "      <td>GBM, G34</td>\n",
       "    </tr>\n",
       "    <tr>\n",
       "      <th>GSM2402863_5684819013_R04C01</th>\n",
       "      <td>DMG, K27</td>\n",
       "    </tr>\n",
       "    <tr>\n",
       "      <th>GSM2402953_6164621144_R03C02</th>\n",
       "      <td>MCF ATRT</td>\n",
       "    </tr>\n",
       "    <tr>\n",
       "      <th>GSM2403853_9305651003_R06C02</th>\n",
       "      <td>EPN, RELA</td>\n",
       "    </tr>\n",
       "    <tr>\n",
       "      <th>GSM2403854_9305651005_R03C02</th>\n",
       "      <td>EPN, PF B</td>\n",
       "    </tr>\n",
       "    <tr>\n",
       "      <th>...</th>\n",
       "      <td>...</td>\n",
       "    </tr>\n",
       "    <tr>\n",
       "      <th>GSM2403848_9305651037_R02C02</th>\n",
       "      <td>CPH, PAP</td>\n",
       "    </tr>\n",
       "    <tr>\n",
       "      <th>GSM2403849_9305651037_R06C01</th>\n",
       "      <td>CPH, PAP</td>\n",
       "    </tr>\n",
       "    <tr>\n",
       "      <th>GSM2403850_9305651037_R04C01</th>\n",
       "      <td>EPN, MPE</td>\n",
       "    </tr>\n",
       "    <tr>\n",
       "      <th>GSM2403851_9305651037_R01C02</th>\n",
       "      <td>PITUI</td>\n",
       "    </tr>\n",
       "    <tr>\n",
       "      <th>GSM2403852_9305651037_R06C02</th>\n",
       "      <td>SCHW</td>\n",
       "    </tr>\n",
       "  </tbody>\n",
       "</table>\n",
       "<p>2801 rows × 1 columns</p>\n",
       "</div>"
      ],
      "text/plain": [
       "                                      y\n",
       "GSM2402854_5684819014_R03C02   GBM, G34\n",
       "GSM2402863_5684819013_R04C01   DMG, K27\n",
       "GSM2402953_6164621144_R03C02   MCF ATRT\n",
       "GSM2403853_9305651003_R06C02  EPN, RELA\n",
       "GSM2403854_9305651005_R03C02  EPN, PF B\n",
       "...                                 ...\n",
       "GSM2403848_9305651037_R02C02   CPH, PAP\n",
       "GSM2403849_9305651037_R06C01   CPH, PAP\n",
       "GSM2403850_9305651037_R04C01   EPN, MPE\n",
       "GSM2403851_9305651037_R01C02      PITUI\n",
       "GSM2403852_9305651037_R06C02       SCHW\n",
       "\n",
       "[2801 rows x 1 columns]"
      ]
     },
     "execution_count": 22,
     "metadata": {},
     "output_type": "execute_result"
    }
   ],
   "source": [
    "labels"
   ]
  },
  {
   "cell_type": "code",
   "execution_count": null,
   "metadata": {},
   "outputs": [],
   "source": []
  },
  {
   "cell_type": "code",
   "execution_count": 24,
   "metadata": {},
   "outputs": [
    {
     "name": "stdout",
     "output_type": "stream",
     "text": [
      "1. Read files (seed=1)\n",
      "\tReading ./data_family/seed1_35perc.csv\n",
      "\tReading ./data_family/seed1_70perc.csv\n",
      "\tReading ./data_family/seed1_70percHC.csv\n",
      "\tReading ./data_family/seed1_35perc_gse109379.csv\n",
      "\tReading ./data_family/seed1_35perc_HCgse109379.csv\n",
      "\tReading ./data_family/seed1_70perc_gse109379.csv\n",
      "\tReading ./data_family/seed1_70HC_gse109379.csv\n",
      "\tReading ./data_family/seed1_70perc_gse109379HC.csv\n",
      "\tReading ./data_family/seed1_70HC_gse109379HC.csv\n",
      "\tReading ./data_family/seed1_holdOutTest.csv\n",
      "2. Evaluate model with 35% data\n",
      "\tcross validate RandomForestClassifier(max_depth=100, n_estimators=50, random_state=123456) with RepeatedStratifiedKFold(n_repeats=5, n_splits=3, random_state=None)\n",
      "\tvalidate against test set\n"
     ]
    },
    {
     "name": "stderr",
     "output_type": "stream",
     "text": [
      "/opt/anaconda3/lib/python3.8/site-packages/sklearn/metrics/_classification.py:1814: UserWarning: y_pred contains classes not in y_true\n",
      "  warnings.warn('y_pred contains classes not in y_true')\n"
     ]
    },
    {
     "name": "stdout",
     "output_type": "stream",
     "text": [
      "3. Evaluate model with 70% data\n",
      "\tcross validate RandomForestClassifier(max_depth=100, n_estimators=50, random_state=123456) with RepeatedStratifiedKFold(n_repeats=5, n_splits=3, random_state=None)\n",
      "\tvalidate against test set\n"
     ]
    },
    {
     "name": "stderr",
     "output_type": "stream",
     "text": [
      "/opt/anaconda3/lib/python3.8/site-packages/sklearn/metrics/_classification.py:1814: UserWarning: y_pred contains classes not in y_true\n",
      "  warnings.warn('y_pred contains classes not in y_true')\n"
     ]
    },
    {
     "name": "stdout",
     "output_type": "stream",
     "text": [
      "4. Evaluate model with 70% HC\n",
      "\tcross validate RandomForestClassifier(max_depth=100, n_estimators=50, random_state=123456) with RepeatedStratifiedKFold(n_repeats=5, n_splits=3, random_state=None)\n",
      "\tvalidate against test set\n"
     ]
    },
    {
     "name": "stderr",
     "output_type": "stream",
     "text": [
      "/opt/anaconda3/lib/python3.8/site-packages/sklearn/metrics/_classification.py:1814: UserWarning: y_pred contains classes not in y_true\n",
      "  warnings.warn('y_pred contains classes not in y_true')\n"
     ]
    },
    {
     "name": "stdout",
     "output_type": "stream",
     "text": [
      "5. Evaluate model with 35% data with GSE109379\n",
      "\tcross validate RandomForestClassifier(max_depth=100, n_estimators=50, random_state=123456) with RepeatedStratifiedKFold(n_repeats=5, n_splits=3, random_state=None)\n",
      "\tvalidate against test set\n"
     ]
    },
    {
     "name": "stderr",
     "output_type": "stream",
     "text": [
      "/opt/anaconda3/lib/python3.8/site-packages/sklearn/metrics/_classification.py:1814: UserWarning: y_pred contains classes not in y_true\n",
      "  warnings.warn('y_pred contains classes not in y_true')\n"
     ]
    },
    {
     "name": "stdout",
     "output_type": "stream",
     "text": [
      "5. Evaluate model with 35% data with High confident GSE109379\n",
      "\tcross validate RandomForestClassifier(max_depth=100, n_estimators=50, random_state=123456) with RepeatedStratifiedKFold(n_repeats=5, n_splits=3, random_state=None)\n",
      "\tvalidate against test set\n"
     ]
    },
    {
     "name": "stderr",
     "output_type": "stream",
     "text": [
      "/opt/anaconda3/lib/python3.8/site-packages/sklearn/metrics/_classification.py:1814: UserWarning: y_pred contains classes not in y_true\n",
      "  warnings.warn('y_pred contains classes not in y_true')\n"
     ]
    },
    {
     "name": "stdout",
     "output_type": "stream",
     "text": [
      "6. Evaluate model with 70% + GSE90496 pseudo-labeled data\n",
      "\tcross validate RandomForestClassifier(max_depth=100, n_estimators=50, random_state=123456) with RepeatedStratifiedKFold(n_repeats=5, n_splits=3, random_state=None)\n",
      "\tvalidate against test set\n"
     ]
    },
    {
     "name": "stderr",
     "output_type": "stream",
     "text": [
      "/opt/anaconda3/lib/python3.8/site-packages/sklearn/metrics/_classification.py:1814: UserWarning: y_pred contains classes not in y_true\n",
      "  warnings.warn('y_pred contains classes not in y_true')\n"
     ]
    },
    {
     "name": "stdout",
     "output_type": "stream",
     "text": [
      "7. Evaluate model with 70% HC + GSE109379\n",
      "\tcross validate RandomForestClassifier(max_depth=100, n_estimators=50, random_state=123456) with RepeatedStratifiedKFold(n_repeats=5, n_splits=3, random_state=None)\n",
      "\tvalidate against test set\n"
     ]
    },
    {
     "name": "stderr",
     "output_type": "stream",
     "text": [
      "/opt/anaconda3/lib/python3.8/site-packages/sklearn/metrics/_classification.py:1814: UserWarning: y_pred contains classes not in y_true\n",
      "  warnings.warn('y_pred contains classes not in y_true')\n"
     ]
    },
    {
     "name": "stdout",
     "output_type": "stream",
     "text": [
      "8. Evaluate model with 70% + HC GSE90496 \n",
      "\tcross validate RandomForestClassifier(max_depth=100, n_estimators=50, random_state=123456) with RepeatedStratifiedKFold(n_repeats=5, n_splits=3, random_state=None)\n",
      "\tvalidate against test set\n"
     ]
    },
    {
     "name": "stderr",
     "output_type": "stream",
     "text": [
      "/opt/anaconda3/lib/python3.8/site-packages/sklearn/metrics/_classification.py:1814: UserWarning: y_pred contains classes not in y_true\n",
      "  warnings.warn('y_pred contains classes not in y_true')\n"
     ]
    },
    {
     "name": "stdout",
     "output_type": "stream",
     "text": [
      "9. Evaluate model with HC pseudo-labeled data\n",
      "\tcross validate RandomForestClassifier(max_depth=100, n_estimators=50, random_state=123456) with RepeatedStratifiedKFold(n_repeats=5, n_splits=3, random_state=None)\n",
      "\tvalidate against test set\n"
     ]
    },
    {
     "name": "stderr",
     "output_type": "stream",
     "text": [
      "/opt/anaconda3/lib/python3.8/site-packages/sklearn/metrics/_classification.py:1814: UserWarning: y_pred contains classes not in y_true\n",
      "  warnings.warn('y_pred contains classes not in y_true')\n"
     ]
    },
    {
     "name": "stdout",
     "output_type": "stream",
     "text": [
      "6. Store results.\n",
      "Result saved to result_family_seed1_GSE109379_123456.csv\n",
      "1. Read files (seed=2)\n",
      "\tReading ./data_family/seed2_35perc.csv\n",
      "\tReading ./data_family/seed2_70perc.csv\n",
      "\tReading ./data_family/seed2_70percHC.csv\n",
      "\tReading ./data_family/seed2_35perc_gse109379.csv\n",
      "\tReading ./data_family/seed2_35perc_HCgse109379.csv\n",
      "\tReading ./data_family/seed2_70perc_gse109379.csv\n",
      "\tReading ./data_family/seed2_70HC_gse109379.csv\n",
      "\tReading ./data_family/seed2_70perc_gse109379HC.csv\n",
      "\tReading ./data_family/seed2_70HC_gse109379HC.csv\n",
      "\tReading ./data_family/seed2_holdOutTest.csv\n",
      "2. Evaluate model with 35% data\n",
      "\tcross validate RandomForestClassifier(max_depth=100, n_estimators=50, random_state=123456) with RepeatedStratifiedKFold(n_repeats=5, n_splits=3, random_state=None)\n",
      "\tvalidate against test set\n"
     ]
    },
    {
     "name": "stderr",
     "output_type": "stream",
     "text": [
      "/opt/anaconda3/lib/python3.8/site-packages/sklearn/metrics/_classification.py:1814: UserWarning: y_pred contains classes not in y_true\n",
      "  warnings.warn('y_pred contains classes not in y_true')\n"
     ]
    },
    {
     "name": "stdout",
     "output_type": "stream",
     "text": [
      "3. Evaluate model with 70% data\n",
      "\tcross validate RandomForestClassifier(max_depth=100, n_estimators=50, random_state=123456) with RepeatedStratifiedKFold(n_repeats=5, n_splits=3, random_state=None)\n",
      "\tvalidate against test set\n"
     ]
    },
    {
     "name": "stderr",
     "output_type": "stream",
     "text": [
      "/opt/anaconda3/lib/python3.8/site-packages/sklearn/metrics/_classification.py:1814: UserWarning: y_pred contains classes not in y_true\n",
      "  warnings.warn('y_pred contains classes not in y_true')\n"
     ]
    },
    {
     "name": "stdout",
     "output_type": "stream",
     "text": [
      "4. Evaluate model with 70% HC\n",
      "\tcross validate RandomForestClassifier(max_depth=100, n_estimators=50, random_state=123456) with RepeatedStratifiedKFold(n_repeats=5, n_splits=3, random_state=None)\n",
      "\tvalidate against test set\n"
     ]
    },
    {
     "name": "stderr",
     "output_type": "stream",
     "text": [
      "/opt/anaconda3/lib/python3.8/site-packages/sklearn/metrics/_classification.py:1814: UserWarning: y_pred contains classes not in y_true\n",
      "  warnings.warn('y_pred contains classes not in y_true')\n"
     ]
    },
    {
     "name": "stdout",
     "output_type": "stream",
     "text": [
      "5. Evaluate model with 35% data with GSE109379\n",
      "\tcross validate RandomForestClassifier(max_depth=100, n_estimators=50, random_state=123456) with RepeatedStratifiedKFold(n_repeats=5, n_splits=3, random_state=None)\n",
      "\tvalidate against test set\n"
     ]
    },
    {
     "name": "stderr",
     "output_type": "stream",
     "text": [
      "/opt/anaconda3/lib/python3.8/site-packages/sklearn/metrics/_classification.py:1814: UserWarning: y_pred contains classes not in y_true\n",
      "  warnings.warn('y_pred contains classes not in y_true')\n"
     ]
    },
    {
     "name": "stdout",
     "output_type": "stream",
     "text": [
      "5. Evaluate model with 35% data with High confident GSE109379\n",
      "\tcross validate RandomForestClassifier(max_depth=100, n_estimators=50, random_state=123456) with RepeatedStratifiedKFold(n_repeats=5, n_splits=3, random_state=None)\n",
      "\tvalidate against test set\n"
     ]
    },
    {
     "name": "stderr",
     "output_type": "stream",
     "text": [
      "/opt/anaconda3/lib/python3.8/site-packages/sklearn/metrics/_classification.py:1814: UserWarning: y_pred contains classes not in y_true\n",
      "  warnings.warn('y_pred contains classes not in y_true')\n"
     ]
    },
    {
     "name": "stdout",
     "output_type": "stream",
     "text": [
      "6. Evaluate model with 70% + GSE90496 pseudo-labeled data\n",
      "\tcross validate RandomForestClassifier(max_depth=100, n_estimators=50, random_state=123456) with RepeatedStratifiedKFold(n_repeats=5, n_splits=3, random_state=None)\n",
      "\tvalidate against test set\n"
     ]
    },
    {
     "name": "stderr",
     "output_type": "stream",
     "text": [
      "/opt/anaconda3/lib/python3.8/site-packages/sklearn/metrics/_classification.py:1814: UserWarning: y_pred contains classes not in y_true\n",
      "  warnings.warn('y_pred contains classes not in y_true')\n"
     ]
    },
    {
     "name": "stdout",
     "output_type": "stream",
     "text": [
      "7. Evaluate model with 70% HC + GSE109379\n",
      "\tcross validate RandomForestClassifier(max_depth=100, n_estimators=50, random_state=123456) with RepeatedStratifiedKFold(n_repeats=5, n_splits=3, random_state=None)\n",
      "\tvalidate against test set\n"
     ]
    },
    {
     "name": "stderr",
     "output_type": "stream",
     "text": [
      "/opt/anaconda3/lib/python3.8/site-packages/sklearn/metrics/_classification.py:1814: UserWarning: y_pred contains classes not in y_true\n",
      "  warnings.warn('y_pred contains classes not in y_true')\n"
     ]
    },
    {
     "name": "stdout",
     "output_type": "stream",
     "text": [
      "8. Evaluate model with 70% + HC GSE90496 \n",
      "\tcross validate RandomForestClassifier(max_depth=100, n_estimators=50, random_state=123456) with RepeatedStratifiedKFold(n_repeats=5, n_splits=3, random_state=None)\n",
      "\tvalidate against test set\n"
     ]
    },
    {
     "name": "stderr",
     "output_type": "stream",
     "text": [
      "/opt/anaconda3/lib/python3.8/site-packages/sklearn/metrics/_classification.py:1814: UserWarning: y_pred contains classes not in y_true\n",
      "  warnings.warn('y_pred contains classes not in y_true')\n"
     ]
    },
    {
     "name": "stdout",
     "output_type": "stream",
     "text": [
      "9. Evaluate model with HC pseudo-labeled data\n",
      "\tcross validate RandomForestClassifier(max_depth=100, n_estimators=50, random_state=123456) with RepeatedStratifiedKFold(n_repeats=5, n_splits=3, random_state=None)\n",
      "\tvalidate against test set\n"
     ]
    },
    {
     "name": "stderr",
     "output_type": "stream",
     "text": [
      "/opt/anaconda3/lib/python3.8/site-packages/sklearn/metrics/_classification.py:1814: UserWarning: y_pred contains classes not in y_true\n",
      "  warnings.warn('y_pred contains classes not in y_true')\n"
     ]
    },
    {
     "name": "stdout",
     "output_type": "stream",
     "text": [
      "6. Store results.\n",
      "Result saved to result_family_seed2_GSE109379_123456.csv\n",
      "1. Read files (seed=20)\n",
      "\tReading ./data_family/seed20_35perc.csv\n",
      "\tReading ./data_family/seed20_70perc.csv\n",
      "\tReading ./data_family/seed20_70percHC.csv\n",
      "\tReading ./data_family/seed20_35perc_gse109379.csv\n",
      "\tReading ./data_family/seed20_35perc_HCgse109379.csv\n",
      "\tReading ./data_family/seed20_70perc_gse109379.csv\n",
      "\tReading ./data_family/seed20_70HC_gse109379.csv\n",
      "\tReading ./data_family/seed20_70perc_gse109379HC.csv\n",
      "\tReading ./data_family/seed20_70HC_gse109379HC.csv\n",
      "\tReading ./data_family/seed20_holdOutTest.csv\n",
      "2. Evaluate model with 35% data\n",
      "\tcross validate RandomForestClassifier(max_depth=100, n_estimators=50, random_state=123456) with RepeatedStratifiedKFold(n_repeats=5, n_splits=3, random_state=None)\n",
      "\tvalidate against test set\n"
     ]
    },
    {
     "name": "stderr",
     "output_type": "stream",
     "text": [
      "/opt/anaconda3/lib/python3.8/site-packages/sklearn/metrics/_classification.py:1814: UserWarning: y_pred contains classes not in y_true\n",
      "  warnings.warn('y_pred contains classes not in y_true')\n"
     ]
    },
    {
     "name": "stdout",
     "output_type": "stream",
     "text": [
      "3. Evaluate model with 70% data\n",
      "\tcross validate RandomForestClassifier(max_depth=100, n_estimators=50, random_state=123456) with RepeatedStratifiedKFold(n_repeats=5, n_splits=3, random_state=None)\n",
      "\tvalidate against test set\n"
     ]
    },
    {
     "name": "stderr",
     "output_type": "stream",
     "text": [
      "/opt/anaconda3/lib/python3.8/site-packages/sklearn/metrics/_classification.py:1814: UserWarning: y_pred contains classes not in y_true\n",
      "  warnings.warn('y_pred contains classes not in y_true')\n"
     ]
    },
    {
     "name": "stdout",
     "output_type": "stream",
     "text": [
      "4. Evaluate model with 70% HC\n",
      "\tcross validate RandomForestClassifier(max_depth=100, n_estimators=50, random_state=123456) with RepeatedStratifiedKFold(n_repeats=5, n_splits=3, random_state=None)\n",
      "\tvalidate against test set\n"
     ]
    },
    {
     "name": "stderr",
     "output_type": "stream",
     "text": [
      "/opt/anaconda3/lib/python3.8/site-packages/sklearn/metrics/_classification.py:1814: UserWarning: y_pred contains classes not in y_true\n",
      "  warnings.warn('y_pred contains classes not in y_true')\n"
     ]
    },
    {
     "name": "stdout",
     "output_type": "stream",
     "text": [
      "5. Evaluate model with 35% data with GSE109379\n",
      "\tcross validate RandomForestClassifier(max_depth=100, n_estimators=50, random_state=123456) with RepeatedStratifiedKFold(n_repeats=5, n_splits=3, random_state=None)\n",
      "\tvalidate against test set\n"
     ]
    },
    {
     "name": "stderr",
     "output_type": "stream",
     "text": [
      "/opt/anaconda3/lib/python3.8/site-packages/sklearn/metrics/_classification.py:1814: UserWarning: y_pred contains classes not in y_true\n",
      "  warnings.warn('y_pred contains classes not in y_true')\n"
     ]
    },
    {
     "name": "stdout",
     "output_type": "stream",
     "text": [
      "5. Evaluate model with 35% data with High confident GSE109379\n",
      "\tcross validate RandomForestClassifier(max_depth=100, n_estimators=50, random_state=123456) with RepeatedStratifiedKFold(n_repeats=5, n_splits=3, random_state=None)\n",
      "\tvalidate against test set\n"
     ]
    },
    {
     "name": "stderr",
     "output_type": "stream",
     "text": [
      "/opt/anaconda3/lib/python3.8/site-packages/sklearn/metrics/_classification.py:1814: UserWarning: y_pred contains classes not in y_true\n",
      "  warnings.warn('y_pred contains classes not in y_true')\n"
     ]
    },
    {
     "name": "stdout",
     "output_type": "stream",
     "text": [
      "6. Evaluate model with 70% + GSE90496 pseudo-labeled data\n",
      "\tcross validate RandomForestClassifier(max_depth=100, n_estimators=50, random_state=123456) with RepeatedStratifiedKFold(n_repeats=5, n_splits=3, random_state=None)\n",
      "\tvalidate against test set\n"
     ]
    },
    {
     "name": "stderr",
     "output_type": "stream",
     "text": [
      "/opt/anaconda3/lib/python3.8/site-packages/sklearn/metrics/_classification.py:1814: UserWarning: y_pred contains classes not in y_true\n",
      "  warnings.warn('y_pred contains classes not in y_true')\n"
     ]
    },
    {
     "name": "stdout",
     "output_type": "stream",
     "text": [
      "7. Evaluate model with 70% HC + GSE109379\n",
      "\tcross validate RandomForestClassifier(max_depth=100, n_estimators=50, random_state=123456) with RepeatedStratifiedKFold(n_repeats=5, n_splits=3, random_state=None)\n",
      "\tvalidate against test set\n"
     ]
    },
    {
     "name": "stderr",
     "output_type": "stream",
     "text": [
      "/opt/anaconda3/lib/python3.8/site-packages/sklearn/metrics/_classification.py:1814: UserWarning: y_pred contains classes not in y_true\n",
      "  warnings.warn('y_pred contains classes not in y_true')\n"
     ]
    },
    {
     "name": "stdout",
     "output_type": "stream",
     "text": [
      "8. Evaluate model with 70% + HC GSE90496 \n",
      "\tcross validate RandomForestClassifier(max_depth=100, n_estimators=50, random_state=123456) with RepeatedStratifiedKFold(n_repeats=5, n_splits=3, random_state=None)\n",
      "\tvalidate against test set\n"
     ]
    },
    {
     "name": "stderr",
     "output_type": "stream",
     "text": [
      "/opt/anaconda3/lib/python3.8/site-packages/sklearn/metrics/_classification.py:1814: UserWarning: y_pred contains classes not in y_true\n",
      "  warnings.warn('y_pred contains classes not in y_true')\n"
     ]
    },
    {
     "name": "stdout",
     "output_type": "stream",
     "text": [
      "9. Evaluate model with HC pseudo-labeled data\n",
      "\tcross validate RandomForestClassifier(max_depth=100, n_estimators=50, random_state=123456) with RepeatedStratifiedKFold(n_repeats=5, n_splits=3, random_state=None)\n",
      "\tvalidate against test set\n"
     ]
    },
    {
     "name": "stderr",
     "output_type": "stream",
     "text": [
      "/opt/anaconda3/lib/python3.8/site-packages/sklearn/metrics/_classification.py:1814: UserWarning: y_pred contains classes not in y_true\n",
      "  warnings.warn('y_pred contains classes not in y_true')\n"
     ]
    },
    {
     "name": "stdout",
     "output_type": "stream",
     "text": [
      "6. Store results.\n",
      "Result saved to result_family_seed20_GSE109379_123456.csv\n",
      "1. Read files (seed=40)\n",
      "\tReading ./data_family/seed40_35perc.csv\n",
      "\tReading ./data_family/seed40_70perc.csv\n",
      "\tReading ./data_family/seed40_70percHC.csv\n",
      "\tReading ./data_family/seed40_35perc_gse109379.csv\n",
      "\tReading ./data_family/seed40_35perc_HCgse109379.csv\n",
      "\tReading ./data_family/seed40_70perc_gse109379.csv\n",
      "\tReading ./data_family/seed40_70HC_gse109379.csv\n",
      "\tReading ./data_family/seed40_70perc_gse109379HC.csv\n",
      "\tReading ./data_family/seed40_70HC_gse109379HC.csv\n",
      "\tReading ./data_family/seed40_holdOutTest.csv\n",
      "2. Evaluate model with 35% data\n",
      "\tcross validate RandomForestClassifier(max_depth=100, n_estimators=50, random_state=123456) with RepeatedStratifiedKFold(n_repeats=5, n_splits=3, random_state=None)\n",
      "\tvalidate against test set\n"
     ]
    },
    {
     "name": "stderr",
     "output_type": "stream",
     "text": [
      "/opt/anaconda3/lib/python3.8/site-packages/sklearn/metrics/_classification.py:1814: UserWarning: y_pred contains classes not in y_true\n",
      "  warnings.warn('y_pred contains classes not in y_true')\n"
     ]
    },
    {
     "name": "stdout",
     "output_type": "stream",
     "text": [
      "3. Evaluate model with 70% data\n",
      "\tcross validate RandomForestClassifier(max_depth=100, n_estimators=50, random_state=123456) with RepeatedStratifiedKFold(n_repeats=5, n_splits=3, random_state=None)\n",
      "\tvalidate against test set\n"
     ]
    },
    {
     "name": "stderr",
     "output_type": "stream",
     "text": [
      "/opt/anaconda3/lib/python3.8/site-packages/sklearn/metrics/_classification.py:1814: UserWarning: y_pred contains classes not in y_true\n",
      "  warnings.warn('y_pred contains classes not in y_true')\n"
     ]
    },
    {
     "name": "stdout",
     "output_type": "stream",
     "text": [
      "4. Evaluate model with 70% HC\n",
      "\tcross validate RandomForestClassifier(max_depth=100, n_estimators=50, random_state=123456) with RepeatedStratifiedKFold(n_repeats=5, n_splits=3, random_state=None)\n",
      "\tvalidate against test set\n"
     ]
    },
    {
     "name": "stderr",
     "output_type": "stream",
     "text": [
      "/opt/anaconda3/lib/python3.8/site-packages/sklearn/metrics/_classification.py:1814: UserWarning: y_pred contains classes not in y_true\n",
      "  warnings.warn('y_pred contains classes not in y_true')\n"
     ]
    },
    {
     "name": "stdout",
     "output_type": "stream",
     "text": [
      "5. Evaluate model with 35% data with GSE109379\n",
      "\tcross validate RandomForestClassifier(max_depth=100, n_estimators=50, random_state=123456) with RepeatedStratifiedKFold(n_repeats=5, n_splits=3, random_state=None)\n",
      "\tvalidate against test set\n"
     ]
    },
    {
     "name": "stderr",
     "output_type": "stream",
     "text": [
      "/opt/anaconda3/lib/python3.8/site-packages/sklearn/metrics/_classification.py:1814: UserWarning: y_pred contains classes not in y_true\n",
      "  warnings.warn('y_pred contains classes not in y_true')\n"
     ]
    },
    {
     "name": "stdout",
     "output_type": "stream",
     "text": [
      "5. Evaluate model with 35% data with High confident GSE109379\n",
      "\tcross validate RandomForestClassifier(max_depth=100, n_estimators=50, random_state=123456) with RepeatedStratifiedKFold(n_repeats=5, n_splits=3, random_state=None)\n",
      "\tvalidate against test set\n"
     ]
    },
    {
     "name": "stderr",
     "output_type": "stream",
     "text": [
      "/opt/anaconda3/lib/python3.8/site-packages/sklearn/metrics/_classification.py:1814: UserWarning: y_pred contains classes not in y_true\n",
      "  warnings.warn('y_pred contains classes not in y_true')\n"
     ]
    },
    {
     "name": "stdout",
     "output_type": "stream",
     "text": [
      "6. Evaluate model with 70% + GSE90496 pseudo-labeled data\n",
      "\tcross validate RandomForestClassifier(max_depth=100, n_estimators=50, random_state=123456) with RepeatedStratifiedKFold(n_repeats=5, n_splits=3, random_state=None)\n",
      "\tvalidate against test set\n"
     ]
    },
    {
     "name": "stderr",
     "output_type": "stream",
     "text": [
      "/opt/anaconda3/lib/python3.8/site-packages/sklearn/metrics/_classification.py:1814: UserWarning: y_pred contains classes not in y_true\n",
      "  warnings.warn('y_pred contains classes not in y_true')\n"
     ]
    },
    {
     "name": "stdout",
     "output_type": "stream",
     "text": [
      "7. Evaluate model with 70% HC + GSE109379\n",
      "\tcross validate RandomForestClassifier(max_depth=100, n_estimators=50, random_state=123456) with RepeatedStratifiedKFold(n_repeats=5, n_splits=3, random_state=None)\n",
      "\tvalidate against test set\n"
     ]
    },
    {
     "name": "stderr",
     "output_type": "stream",
     "text": [
      "/opt/anaconda3/lib/python3.8/site-packages/sklearn/metrics/_classification.py:1814: UserWarning: y_pred contains classes not in y_true\n",
      "  warnings.warn('y_pred contains classes not in y_true')\n"
     ]
    },
    {
     "name": "stdout",
     "output_type": "stream",
     "text": [
      "8. Evaluate model with 70% + HC GSE90496 \n",
      "\tcross validate RandomForestClassifier(max_depth=100, n_estimators=50, random_state=123456) with RepeatedStratifiedKFold(n_repeats=5, n_splits=3, random_state=None)\n",
      "\tvalidate against test set\n"
     ]
    },
    {
     "name": "stderr",
     "output_type": "stream",
     "text": [
      "/opt/anaconda3/lib/python3.8/site-packages/sklearn/metrics/_classification.py:1814: UserWarning: y_pred contains classes not in y_true\n",
      "  warnings.warn('y_pred contains classes not in y_true')\n"
     ]
    },
    {
     "name": "stdout",
     "output_type": "stream",
     "text": [
      "9. Evaluate model with HC pseudo-labeled data\n",
      "\tcross validate RandomForestClassifier(max_depth=100, n_estimators=50, random_state=123456) with RepeatedStratifiedKFold(n_repeats=5, n_splits=3, random_state=None)\n",
      "\tvalidate against test set\n"
     ]
    },
    {
     "name": "stderr",
     "output_type": "stream",
     "text": [
      "/opt/anaconda3/lib/python3.8/site-packages/sklearn/metrics/_classification.py:1814: UserWarning: y_pred contains classes not in y_true\n",
      "  warnings.warn('y_pred contains classes not in y_true')\n"
     ]
    },
    {
     "name": "stdout",
     "output_type": "stream",
     "text": [
      "6. Store results.\n",
      "Result saved to result_family_seed40_GSE109379_123456.csv\n",
      "1. Read files (seed=80)\n",
      "\tReading ./data_family/seed80_35perc.csv\n",
      "\tReading ./data_family/seed80_70perc.csv\n",
      "\tReading ./data_family/seed80_70percHC.csv\n",
      "\tReading ./data_family/seed80_35perc_gse109379.csv\n",
      "\tReading ./data_family/seed80_35perc_HCgse109379.csv\n",
      "\tReading ./data_family/seed80_70perc_gse109379.csv\n",
      "\tReading ./data_family/seed80_70HC_gse109379.csv\n",
      "\tReading ./data_family/seed80_70perc_gse109379HC.csv\n",
      "\tReading ./data_family/seed80_70HC_gse109379HC.csv\n",
      "\tReading ./data_family/seed80_holdOutTest.csv\n",
      "2. Evaluate model with 35% data\n",
      "\tcross validate RandomForestClassifier(max_depth=100, n_estimators=50, random_state=123456) with RepeatedStratifiedKFold(n_repeats=5, n_splits=3, random_state=None)\n",
      "\tvalidate against test set\n"
     ]
    },
    {
     "name": "stderr",
     "output_type": "stream",
     "text": [
      "/opt/anaconda3/lib/python3.8/site-packages/sklearn/metrics/_classification.py:1814: UserWarning: y_pred contains classes not in y_true\n",
      "  warnings.warn('y_pred contains classes not in y_true')\n"
     ]
    },
    {
     "name": "stdout",
     "output_type": "stream",
     "text": [
      "3. Evaluate model with 70% data\n",
      "\tcross validate RandomForestClassifier(max_depth=100, n_estimators=50, random_state=123456) with RepeatedStratifiedKFold(n_repeats=5, n_splits=3, random_state=None)\n",
      "\tvalidate against test set\n"
     ]
    },
    {
     "name": "stderr",
     "output_type": "stream",
     "text": [
      "/opt/anaconda3/lib/python3.8/site-packages/sklearn/metrics/_classification.py:1814: UserWarning: y_pred contains classes not in y_true\n",
      "  warnings.warn('y_pred contains classes not in y_true')\n"
     ]
    },
    {
     "name": "stdout",
     "output_type": "stream",
     "text": [
      "4. Evaluate model with 70% HC\n",
      "\tcross validate RandomForestClassifier(max_depth=100, n_estimators=50, random_state=123456) with RepeatedStratifiedKFold(n_repeats=5, n_splits=3, random_state=None)\n",
      "\tvalidate against test set\n"
     ]
    },
    {
     "name": "stderr",
     "output_type": "stream",
     "text": [
      "/opt/anaconda3/lib/python3.8/site-packages/sklearn/metrics/_classification.py:1814: UserWarning: y_pred contains classes not in y_true\n",
      "  warnings.warn('y_pred contains classes not in y_true')\n"
     ]
    },
    {
     "name": "stdout",
     "output_type": "stream",
     "text": [
      "5. Evaluate model with 35% data with GSE109379\n",
      "\tcross validate RandomForestClassifier(max_depth=100, n_estimators=50, random_state=123456) with RepeatedStratifiedKFold(n_repeats=5, n_splits=3, random_state=None)\n",
      "\tvalidate against test set\n"
     ]
    },
    {
     "name": "stderr",
     "output_type": "stream",
     "text": [
      "/opt/anaconda3/lib/python3.8/site-packages/sklearn/metrics/_classification.py:1814: UserWarning: y_pred contains classes not in y_true\n",
      "  warnings.warn('y_pred contains classes not in y_true')\n"
     ]
    },
    {
     "name": "stdout",
     "output_type": "stream",
     "text": [
      "5. Evaluate model with 35% data with High confident GSE109379\n",
      "\tcross validate RandomForestClassifier(max_depth=100, n_estimators=50, random_state=123456) with RepeatedStratifiedKFold(n_repeats=5, n_splits=3, random_state=None)\n",
      "\tvalidate against test set\n"
     ]
    },
    {
     "name": "stderr",
     "output_type": "stream",
     "text": [
      "/opt/anaconda3/lib/python3.8/site-packages/sklearn/metrics/_classification.py:1814: UserWarning: y_pred contains classes not in y_true\n",
      "  warnings.warn('y_pred contains classes not in y_true')\n"
     ]
    },
    {
     "name": "stdout",
     "output_type": "stream",
     "text": [
      "6. Evaluate model with 70% + GSE90496 pseudo-labeled data\n",
      "\tcross validate RandomForestClassifier(max_depth=100, n_estimators=50, random_state=123456) with RepeatedStratifiedKFold(n_repeats=5, n_splits=3, random_state=None)\n",
      "\tvalidate against test set\n"
     ]
    },
    {
     "name": "stderr",
     "output_type": "stream",
     "text": [
      "/opt/anaconda3/lib/python3.8/site-packages/sklearn/metrics/_classification.py:1814: UserWarning: y_pred contains classes not in y_true\n",
      "  warnings.warn('y_pred contains classes not in y_true')\n"
     ]
    },
    {
     "name": "stdout",
     "output_type": "stream",
     "text": [
      "7. Evaluate model with 70% HC + GSE109379\n",
      "\tcross validate RandomForestClassifier(max_depth=100, n_estimators=50, random_state=123456) with RepeatedStratifiedKFold(n_repeats=5, n_splits=3, random_state=None)\n",
      "\tvalidate against test set\n"
     ]
    },
    {
     "name": "stderr",
     "output_type": "stream",
     "text": [
      "/opt/anaconda3/lib/python3.8/site-packages/sklearn/metrics/_classification.py:1814: UserWarning: y_pred contains classes not in y_true\n",
      "  warnings.warn('y_pred contains classes not in y_true')\n"
     ]
    },
    {
     "name": "stdout",
     "output_type": "stream",
     "text": [
      "8. Evaluate model with 70% + HC GSE90496 \n",
      "\tcross validate RandomForestClassifier(max_depth=100, n_estimators=50, random_state=123456) with RepeatedStratifiedKFold(n_repeats=5, n_splits=3, random_state=None)\n",
      "\tvalidate against test set\n"
     ]
    },
    {
     "name": "stderr",
     "output_type": "stream",
     "text": [
      "/opt/anaconda3/lib/python3.8/site-packages/sklearn/metrics/_classification.py:1814: UserWarning: y_pred contains classes not in y_true\n",
      "  warnings.warn('y_pred contains classes not in y_true')\n"
     ]
    },
    {
     "name": "stdout",
     "output_type": "stream",
     "text": [
      "9. Evaluate model with HC pseudo-labeled data\n",
      "\tcross validate RandomForestClassifier(max_depth=100, n_estimators=50, random_state=123456) with RepeatedStratifiedKFold(n_repeats=5, n_splits=3, random_state=None)\n",
      "\tvalidate against test set\n"
     ]
    },
    {
     "name": "stderr",
     "output_type": "stream",
     "text": [
      "/opt/anaconda3/lib/python3.8/site-packages/sklearn/metrics/_classification.py:1814: UserWarning: y_pred contains classes not in y_true\n",
      "  warnings.warn('y_pred contains classes not in y_true')\n"
     ]
    },
    {
     "name": "stdout",
     "output_type": "stream",
     "text": [
      "6. Store results.\n",
      "Result saved to result_family_seed80_GSE109379_123456.csv\n",
      "1. Read files (seed=160)\n",
      "\tReading ./data_family/seed160_35perc.csv\n",
      "\tReading ./data_family/seed160_70perc.csv\n",
      "\tReading ./data_family/seed160_70percHC.csv\n",
      "\tReading ./data_family/seed160_35perc_gse109379.csv\n",
      "\tReading ./data_family/seed160_35perc_HCgse109379.csv\n",
      "\tReading ./data_family/seed160_70perc_gse109379.csv\n",
      "\tReading ./data_family/seed160_70HC_gse109379.csv\n",
      "\tReading ./data_family/seed160_70perc_gse109379HC.csv\n",
      "\tReading ./data_family/seed160_70HC_gse109379HC.csv\n",
      "\tReading ./data_family/seed160_holdOutTest.csv\n",
      "2. Evaluate model with 35% data\n",
      "\tcross validate RandomForestClassifier(max_depth=100, n_estimators=50, random_state=123456) with RepeatedStratifiedKFold(n_repeats=5, n_splits=3, random_state=None)\n",
      "\tvalidate against test set\n"
     ]
    },
    {
     "name": "stderr",
     "output_type": "stream",
     "text": [
      "/opt/anaconda3/lib/python3.8/site-packages/sklearn/metrics/_classification.py:1814: UserWarning: y_pred contains classes not in y_true\n",
      "  warnings.warn('y_pred contains classes not in y_true')\n"
     ]
    },
    {
     "name": "stdout",
     "output_type": "stream",
     "text": [
      "3. Evaluate model with 70% data\n",
      "\tcross validate RandomForestClassifier(max_depth=100, n_estimators=50, random_state=123456) with RepeatedStratifiedKFold(n_repeats=5, n_splits=3, random_state=None)\n",
      "\tvalidate against test set\n"
     ]
    },
    {
     "name": "stderr",
     "output_type": "stream",
     "text": [
      "/opt/anaconda3/lib/python3.8/site-packages/sklearn/metrics/_classification.py:1814: UserWarning: y_pred contains classes not in y_true\n",
      "  warnings.warn('y_pred contains classes not in y_true')\n"
     ]
    },
    {
     "name": "stdout",
     "output_type": "stream",
     "text": [
      "4. Evaluate model with 70% HC\n",
      "\tcross validate RandomForestClassifier(max_depth=100, n_estimators=50, random_state=123456) with RepeatedStratifiedKFold(n_repeats=5, n_splits=3, random_state=None)\n",
      "\tvalidate against test set\n"
     ]
    },
    {
     "name": "stderr",
     "output_type": "stream",
     "text": [
      "/opt/anaconda3/lib/python3.8/site-packages/sklearn/metrics/_classification.py:1814: UserWarning: y_pred contains classes not in y_true\n",
      "  warnings.warn('y_pred contains classes not in y_true')\n"
     ]
    },
    {
     "name": "stdout",
     "output_type": "stream",
     "text": [
      "5. Evaluate model with 35% data with GSE109379\n",
      "\tcross validate RandomForestClassifier(max_depth=100, n_estimators=50, random_state=123456) with RepeatedStratifiedKFold(n_repeats=5, n_splits=3, random_state=None)\n",
      "\tvalidate against test set\n"
     ]
    },
    {
     "name": "stderr",
     "output_type": "stream",
     "text": [
      "/opt/anaconda3/lib/python3.8/site-packages/sklearn/metrics/_classification.py:1814: UserWarning: y_pred contains classes not in y_true\n",
      "  warnings.warn('y_pred contains classes not in y_true')\n"
     ]
    },
    {
     "name": "stdout",
     "output_type": "stream",
     "text": [
      "5. Evaluate model with 35% data with High confident GSE109379\n",
      "\tcross validate RandomForestClassifier(max_depth=100, n_estimators=50, random_state=123456) with RepeatedStratifiedKFold(n_repeats=5, n_splits=3, random_state=None)\n",
      "\tvalidate against test set\n"
     ]
    },
    {
     "name": "stderr",
     "output_type": "stream",
     "text": [
      "/opt/anaconda3/lib/python3.8/site-packages/sklearn/metrics/_classification.py:1814: UserWarning: y_pred contains classes not in y_true\n",
      "  warnings.warn('y_pred contains classes not in y_true')\n"
     ]
    },
    {
     "name": "stdout",
     "output_type": "stream",
     "text": [
      "6. Evaluate model with 70% + GSE90496 pseudo-labeled data\n",
      "\tcross validate RandomForestClassifier(max_depth=100, n_estimators=50, random_state=123456) with RepeatedStratifiedKFold(n_repeats=5, n_splits=3, random_state=None)\n",
      "\tvalidate against test set\n"
     ]
    },
    {
     "name": "stderr",
     "output_type": "stream",
     "text": [
      "/opt/anaconda3/lib/python3.8/site-packages/sklearn/metrics/_classification.py:1814: UserWarning: y_pred contains classes not in y_true\n",
      "  warnings.warn('y_pred contains classes not in y_true')\n"
     ]
    },
    {
     "name": "stdout",
     "output_type": "stream",
     "text": [
      "7. Evaluate model with 70% HC + GSE109379\n",
      "\tcross validate RandomForestClassifier(max_depth=100, n_estimators=50, random_state=123456) with RepeatedStratifiedKFold(n_repeats=5, n_splits=3, random_state=None)\n",
      "\tvalidate against test set\n"
     ]
    },
    {
     "name": "stderr",
     "output_type": "stream",
     "text": [
      "/opt/anaconda3/lib/python3.8/site-packages/sklearn/metrics/_classification.py:1814: UserWarning: y_pred contains classes not in y_true\n",
      "  warnings.warn('y_pred contains classes not in y_true')\n"
     ]
    },
    {
     "name": "stdout",
     "output_type": "stream",
     "text": [
      "8. Evaluate model with 70% + HC GSE90496 \n",
      "\tcross validate RandomForestClassifier(max_depth=100, n_estimators=50, random_state=123456) with RepeatedStratifiedKFold(n_repeats=5, n_splits=3, random_state=None)\n",
      "\tvalidate against test set\n"
     ]
    },
    {
     "name": "stderr",
     "output_type": "stream",
     "text": [
      "/opt/anaconda3/lib/python3.8/site-packages/sklearn/metrics/_classification.py:1814: UserWarning: y_pred contains classes not in y_true\n",
      "  warnings.warn('y_pred contains classes not in y_true')\n"
     ]
    },
    {
     "name": "stdout",
     "output_type": "stream",
     "text": [
      "9. Evaluate model with HC pseudo-labeled data\n",
      "\tcross validate RandomForestClassifier(max_depth=100, n_estimators=50, random_state=123456) with RepeatedStratifiedKFold(n_repeats=5, n_splits=3, random_state=None)\n",
      "\tvalidate against test set\n"
     ]
    },
    {
     "name": "stderr",
     "output_type": "stream",
     "text": [
      "/opt/anaconda3/lib/python3.8/site-packages/sklearn/metrics/_classification.py:1814: UserWarning: y_pred contains classes not in y_true\n",
      "  warnings.warn('y_pred contains classes not in y_true')\n"
     ]
    },
    {
     "name": "stdout",
     "output_type": "stream",
     "text": [
      "6. Store results.\n",
      "Result saved to result_family_seed160_GSE109379_123456.csv\n",
      "1. Read files (seed=320)\n",
      "\tReading ./data_family/seed320_35perc.csv\n",
      "\tReading ./data_family/seed320_70perc.csv\n",
      "\tReading ./data_family/seed320_70percHC.csv\n",
      "\tReading ./data_family/seed320_35perc_gse109379.csv\n",
      "\tReading ./data_family/seed320_35perc_HCgse109379.csv\n",
      "\tReading ./data_family/seed320_70perc_gse109379.csv\n",
      "\tReading ./data_family/seed320_70HC_gse109379.csv\n",
      "\tReading ./data_family/seed320_70perc_gse109379HC.csv\n",
      "\tReading ./data_family/seed320_70HC_gse109379HC.csv\n",
      "\tReading ./data_family/seed320_holdOutTest.csv\n",
      "2. Evaluate model with 35% data\n",
      "\tcross validate RandomForestClassifier(max_depth=100, n_estimators=50, random_state=123456) with RepeatedStratifiedKFold(n_repeats=5, n_splits=3, random_state=None)\n",
      "\tvalidate against test set\n"
     ]
    },
    {
     "name": "stderr",
     "output_type": "stream",
     "text": [
      "/opt/anaconda3/lib/python3.8/site-packages/sklearn/metrics/_classification.py:1814: UserWarning: y_pred contains classes not in y_true\n",
      "  warnings.warn('y_pred contains classes not in y_true')\n"
     ]
    },
    {
     "name": "stdout",
     "output_type": "stream",
     "text": [
      "3. Evaluate model with 70% data\n",
      "\tcross validate RandomForestClassifier(max_depth=100, n_estimators=50, random_state=123456) with RepeatedStratifiedKFold(n_repeats=5, n_splits=3, random_state=None)\n",
      "\tvalidate against test set\n"
     ]
    },
    {
     "name": "stderr",
     "output_type": "stream",
     "text": [
      "/opt/anaconda3/lib/python3.8/site-packages/sklearn/metrics/_classification.py:1814: UserWarning: y_pred contains classes not in y_true\n",
      "  warnings.warn('y_pred contains classes not in y_true')\n"
     ]
    },
    {
     "name": "stdout",
     "output_type": "stream",
     "text": [
      "4. Evaluate model with 70% HC\n",
      "\tcross validate RandomForestClassifier(max_depth=100, n_estimators=50, random_state=123456) with RepeatedStratifiedKFold(n_repeats=5, n_splits=3, random_state=None)\n",
      "\tvalidate against test set\n"
     ]
    },
    {
     "name": "stderr",
     "output_type": "stream",
     "text": [
      "/opt/anaconda3/lib/python3.8/site-packages/sklearn/metrics/_classification.py:1814: UserWarning: y_pred contains classes not in y_true\n",
      "  warnings.warn('y_pred contains classes not in y_true')\n"
     ]
    },
    {
     "name": "stdout",
     "output_type": "stream",
     "text": [
      "5. Evaluate model with 35% data with GSE109379\n",
      "\tcross validate RandomForestClassifier(max_depth=100, n_estimators=50, random_state=123456) with RepeatedStratifiedKFold(n_repeats=5, n_splits=3, random_state=None)\n",
      "\tvalidate against test set\n"
     ]
    },
    {
     "name": "stderr",
     "output_type": "stream",
     "text": [
      "/opt/anaconda3/lib/python3.8/site-packages/sklearn/metrics/_classification.py:1814: UserWarning: y_pred contains classes not in y_true\n",
      "  warnings.warn('y_pred contains classes not in y_true')\n"
     ]
    },
    {
     "name": "stdout",
     "output_type": "stream",
     "text": [
      "5. Evaluate model with 35% data with High confident GSE109379\n",
      "\tcross validate RandomForestClassifier(max_depth=100, n_estimators=50, random_state=123456) with RepeatedStratifiedKFold(n_repeats=5, n_splits=3, random_state=None)\n",
      "\tvalidate against test set\n"
     ]
    },
    {
     "name": "stderr",
     "output_type": "stream",
     "text": [
      "/opt/anaconda3/lib/python3.8/site-packages/sklearn/metrics/_classification.py:1814: UserWarning: y_pred contains classes not in y_true\n",
      "  warnings.warn('y_pred contains classes not in y_true')\n"
     ]
    },
    {
     "name": "stdout",
     "output_type": "stream",
     "text": [
      "6. Evaluate model with 70% + GSE90496 pseudo-labeled data\n",
      "\tcross validate RandomForestClassifier(max_depth=100, n_estimators=50, random_state=123456) with RepeatedStratifiedKFold(n_repeats=5, n_splits=3, random_state=None)\n",
      "\tvalidate against test set\n"
     ]
    },
    {
     "name": "stderr",
     "output_type": "stream",
     "text": [
      "/opt/anaconda3/lib/python3.8/site-packages/sklearn/metrics/_classification.py:1814: UserWarning: y_pred contains classes not in y_true\n",
      "  warnings.warn('y_pred contains classes not in y_true')\n"
     ]
    },
    {
     "name": "stdout",
     "output_type": "stream",
     "text": [
      "7. Evaluate model with 70% HC + GSE109379\n",
      "\tcross validate RandomForestClassifier(max_depth=100, n_estimators=50, random_state=123456) with RepeatedStratifiedKFold(n_repeats=5, n_splits=3, random_state=None)\n",
      "\tvalidate against test set\n"
     ]
    },
    {
     "name": "stderr",
     "output_type": "stream",
     "text": [
      "/opt/anaconda3/lib/python3.8/site-packages/sklearn/metrics/_classification.py:1814: UserWarning: y_pred contains classes not in y_true\n",
      "  warnings.warn('y_pred contains classes not in y_true')\n"
     ]
    },
    {
     "name": "stdout",
     "output_type": "stream",
     "text": [
      "8. Evaluate model with 70% + HC GSE90496 \n",
      "\tcross validate RandomForestClassifier(max_depth=100, n_estimators=50, random_state=123456) with RepeatedStratifiedKFold(n_repeats=5, n_splits=3, random_state=None)\n",
      "\tvalidate against test set\n"
     ]
    },
    {
     "name": "stderr",
     "output_type": "stream",
     "text": [
      "/opt/anaconda3/lib/python3.8/site-packages/sklearn/metrics/_classification.py:1814: UserWarning: y_pred contains classes not in y_true\n",
      "  warnings.warn('y_pred contains classes not in y_true')\n"
     ]
    },
    {
     "name": "stdout",
     "output_type": "stream",
     "text": [
      "9. Evaluate model with HC pseudo-labeled data\n",
      "\tcross validate RandomForestClassifier(max_depth=100, n_estimators=50, random_state=123456) with RepeatedStratifiedKFold(n_repeats=5, n_splits=3, random_state=None)\n",
      "\tvalidate against test set\n",
      "6. Store results.\n",
      "Result saved to result_family_seed320_GSE109379_123456.csv\n"
     ]
    },
    {
     "name": "stderr",
     "output_type": "stream",
     "text": [
      "/opt/anaconda3/lib/python3.8/site-packages/sklearn/metrics/_classification.py:1814: UserWarning: y_pred contains classes not in y_true\n",
      "  warnings.warn('y_pred contains classes not in y_true')\n"
     ]
    }
   ],
   "source": [
    "run_all_seeds(123456)"
   ]
  },
  {
   "cell_type": "code",
   "execution_count": null,
   "metadata": {},
   "outputs": [],
   "source": []
  },
  {
   "cell_type": "code",
   "execution_count": 3,
   "metadata": {
    "jupyter": {
     "source_hidden": true
    }
   },
   "outputs": [],
   "source": [
    "file1 = './data/seed2_35perc_train.Mat'\n",
    "file2='./data/seed2_70perc_SSLabel.csv'\n",
    "file3='./data/seed2_SSLabel_HC.csv'\n",
    "X35, y35, xitest, yitest = read_Mat(file1)\n",
    "X70, y70 = process_csv(file2)\n",
    "XHC, yHC = process_csv(file3)"
   ]
  },
  {
   "cell_type": "code",
   "execution_count": 7,
   "metadata": {
    "collapsed": true,
    "jupyter": {
     "outputs_hidden": true,
     "source_hidden": true
    }
   },
   "outputs": [
    {
     "name": "stderr",
     "output_type": "stream",
     "text": [
      "/opt/anaconda3/lib/python3.8/site-packages/sklearn/metrics/_classification.py:1814: UserWarning: y_pred contains classes not in y_true\n",
      "  warnings.warn('y_pred contains classes not in y_true')\n"
     ]
    }
   ],
   "source": [
    "result35 = apply_CV(model, cv, X35, y35)\n",
    "result_ts_35 = evaluate_against_test_set(model, X35, y35, xitest, yitest)"
   ]
  },
  {
   "cell_type": "code",
   "execution_count": 8,
   "metadata": {
    "collapsed": true,
    "jupyter": {
     "outputs_hidden": true,
     "source_hidden": true
    }
   },
   "outputs": [
    {
     "name": "stderr",
     "output_type": "stream",
     "text": [
      "/opt/anaconda3/lib/python3.8/site-packages/sklearn/metrics/_classification.py:1814: UserWarning: y_pred contains classes not in y_true\n",
      "  warnings.warn('y_pred contains classes not in y_true')\n"
     ]
    }
   ],
   "source": [
    "result70 = apply_CV(model, cv, X70, y70)\n",
    "result_ts_70 = evaluate_against_test_set(model, X70, y70, xitest, yitest)"
   ]
  },
  {
   "cell_type": "code",
   "execution_count": 9,
   "metadata": {
    "collapsed": true,
    "jupyter": {
     "outputs_hidden": true,
     "source_hidden": true
    }
   },
   "outputs": [
    {
     "name": "stderr",
     "output_type": "stream",
     "text": [
      "/opt/anaconda3/lib/python3.8/site-packages/sklearn/metrics/_classification.py:1814: UserWarning: y_pred contains classes not in y_true\n",
      "  warnings.warn('y_pred contains classes not in y_true')\n"
     ]
    }
   ],
   "source": [
    "resultHC = apply_CV(model, cv, XHC, yHC)\n",
    "result_ts_HC = evaluate_against_test_set(model, XHC, yHC, xitest, yitest)"
   ]
  },
  {
   "cell_type": "code",
   "execution_count": 10,
   "metadata": {
    "jupyter": {
     "source_hidden": true
    }
   },
   "outputs": [],
   "source": [
    "result_df = pandas.DataFrame(data=[], columns=['Seed','Dataset','Validation','Metric','Value'])"
   ]
  },
  {
   "cell_type": "code",
   "execution_count": 11,
   "metadata": {
    "jupyter": {
     "source_hidden": true
    }
   },
   "outputs": [],
   "source": [
    "result_df = append_cv_results(result_df, result35, 2, '35%')\n",
    "result_df = append_testset_results(result_df, result_ts_35, 2, '35%')\n",
    "result_df = append_cv_results(result_df, result70, 2, '70%')\n",
    "result_df = append_testset_results(result_df, result_ts_70, 2, '70%')\n",
    "result_df = append_cv_results(result_df, resultHC, 2, 'HC')\n",
    "result_df = append_testset_results(result_df, result_ts_HC, 2, 'HC')"
   ]
  },
  {
   "cell_type": "code",
   "execution_count": 15,
   "metadata": {
    "collapsed": true,
    "jupyter": {
     "outputs_hidden": true,
     "source_hidden": true
    }
   },
   "outputs": [
    {
     "data": {
      "text/html": [
       "<div>\n",
       "<style scoped>\n",
       "    .dataframe tbody tr th:only-of-type {\n",
       "        vertical-align: middle;\n",
       "    }\n",
       "\n",
       "    .dataframe tbody tr th {\n",
       "        vertical-align: top;\n",
       "    }\n",
       "\n",
       "    .dataframe thead th {\n",
       "        text-align: right;\n",
       "    }\n",
       "</style>\n",
       "<table border=\"1\" class=\"dataframe\">\n",
       "  <thead>\n",
       "    <tr style=\"text-align: right;\">\n",
       "      <th></th>\n",
       "      <th>Seed</th>\n",
       "      <th>Dataset</th>\n",
       "      <th>Validation</th>\n",
       "      <th>Metric</th>\n",
       "      <th>Value</th>\n",
       "    </tr>\n",
       "  </thead>\n",
       "  <tbody>\n",
       "    <tr>\n",
       "      <th>0</th>\n",
       "      <td>2</td>\n",
       "      <td>35%</td>\n",
       "      <td>cross_val</td>\n",
       "      <td>balanced_acc</td>\n",
       "      <td>0.710</td>\n",
       "    </tr>\n",
       "    <tr>\n",
       "      <th>1</th>\n",
       "      <td>2</td>\n",
       "      <td>35%</td>\n",
       "      <td>cross_val</td>\n",
       "      <td>f1</td>\n",
       "      <td>0.810</td>\n",
       "    </tr>\n",
       "    <tr>\n",
       "      <th>2</th>\n",
       "      <td>2</td>\n",
       "      <td>35%</td>\n",
       "      <td>cross_val</td>\n",
       "      <td>roc_auc_ovr</td>\n",
       "      <td>0.990</td>\n",
       "    </tr>\n",
       "    <tr>\n",
       "      <th>3</th>\n",
       "      <td>2</td>\n",
       "      <td>35%</td>\n",
       "      <td>vs_testset</td>\n",
       "      <td>prec</td>\n",
       "      <td>0.860</td>\n",
       "    </tr>\n",
       "    <tr>\n",
       "      <th>4</th>\n",
       "      <td>2</td>\n",
       "      <td>35%</td>\n",
       "      <td>vs_testset</td>\n",
       "      <td>rec</td>\n",
       "      <td>0.880</td>\n",
       "    </tr>\n",
       "    <tr>\n",
       "      <th>5</th>\n",
       "      <td>2</td>\n",
       "      <td>35%</td>\n",
       "      <td>vs_testset</td>\n",
       "      <td>acc</td>\n",
       "      <td>0.880</td>\n",
       "    </tr>\n",
       "    <tr>\n",
       "      <th>6</th>\n",
       "      <td>2</td>\n",
       "      <td>35%</td>\n",
       "      <td>vs_testset</td>\n",
       "      <td>balanced_acc</td>\n",
       "      <td>0.903</td>\n",
       "    </tr>\n",
       "    <tr>\n",
       "      <th>7</th>\n",
       "      <td>2</td>\n",
       "      <td>70%</td>\n",
       "      <td>cross_val</td>\n",
       "      <td>balanced_acc</td>\n",
       "      <td>0.830</td>\n",
       "    </tr>\n",
       "    <tr>\n",
       "      <th>8</th>\n",
       "      <td>2</td>\n",
       "      <td>70%</td>\n",
       "      <td>cross_val</td>\n",
       "      <td>f1</td>\n",
       "      <td>0.900</td>\n",
       "    </tr>\n",
       "    <tr>\n",
       "      <th>9</th>\n",
       "      <td>2</td>\n",
       "      <td>70%</td>\n",
       "      <td>cross_val</td>\n",
       "      <td>roc_auc_ovr</td>\n",
       "      <td>1.000</td>\n",
       "    </tr>\n",
       "    <tr>\n",
       "      <th>10</th>\n",
       "      <td>2</td>\n",
       "      <td>70%</td>\n",
       "      <td>vs_testset</td>\n",
       "      <td>prec</td>\n",
       "      <td>0.912</td>\n",
       "    </tr>\n",
       "    <tr>\n",
       "      <th>11</th>\n",
       "      <td>2</td>\n",
       "      <td>70%</td>\n",
       "      <td>vs_testset</td>\n",
       "      <td>rec</td>\n",
       "      <td>0.918</td>\n",
       "    </tr>\n",
       "    <tr>\n",
       "      <th>12</th>\n",
       "      <td>2</td>\n",
       "      <td>70%</td>\n",
       "      <td>vs_testset</td>\n",
       "      <td>acc</td>\n",
       "      <td>0.918</td>\n",
       "    </tr>\n",
       "    <tr>\n",
       "      <th>13</th>\n",
       "      <td>2</td>\n",
       "      <td>70%</td>\n",
       "      <td>vs_testset</td>\n",
       "      <td>balanced_acc</td>\n",
       "      <td>0.930</td>\n",
       "    </tr>\n",
       "    <tr>\n",
       "      <th>14</th>\n",
       "      <td>2</td>\n",
       "      <td>HC</td>\n",
       "      <td>cross_val</td>\n",
       "      <td>balanced_acc</td>\n",
       "      <td>0.820</td>\n",
       "    </tr>\n",
       "    <tr>\n",
       "      <th>15</th>\n",
       "      <td>2</td>\n",
       "      <td>HC</td>\n",
       "      <td>cross_val</td>\n",
       "      <td>f1</td>\n",
       "      <td>0.910</td>\n",
       "    </tr>\n",
       "    <tr>\n",
       "      <th>16</th>\n",
       "      <td>2</td>\n",
       "      <td>HC</td>\n",
       "      <td>cross_val</td>\n",
       "      <td>roc_auc_ovr</td>\n",
       "      <td>1.000</td>\n",
       "    </tr>\n",
       "    <tr>\n",
       "      <th>17</th>\n",
       "      <td>2</td>\n",
       "      <td>HC</td>\n",
       "      <td>vs_testset</td>\n",
       "      <td>prec</td>\n",
       "      <td>0.893</td>\n",
       "    </tr>\n",
       "    <tr>\n",
       "      <th>18</th>\n",
       "      <td>2</td>\n",
       "      <td>HC</td>\n",
       "      <td>vs_testset</td>\n",
       "      <td>rec</td>\n",
       "      <td>0.913</td>\n",
       "    </tr>\n",
       "    <tr>\n",
       "      <th>19</th>\n",
       "      <td>2</td>\n",
       "      <td>HC</td>\n",
       "      <td>vs_testset</td>\n",
       "      <td>acc</td>\n",
       "      <td>0.913</td>\n",
       "    </tr>\n",
       "    <tr>\n",
       "      <th>20</th>\n",
       "      <td>2</td>\n",
       "      <td>HC</td>\n",
       "      <td>vs_testset</td>\n",
       "      <td>balanced_acc</td>\n",
       "      <td>0.936</td>\n",
       "    </tr>\n",
       "  </tbody>\n",
       "</table>\n",
       "</div>"
      ],
      "text/plain": [
       "   Seed Dataset  Validation        Metric  Value\n",
       "0     2     35%   cross_val  balanced_acc  0.710\n",
       "1     2     35%   cross_val            f1  0.810\n",
       "2     2     35%   cross_val   roc_auc_ovr  0.990\n",
       "3     2     35%  vs_testset          prec  0.860\n",
       "4     2     35%  vs_testset           rec  0.880\n",
       "5     2     35%  vs_testset           acc  0.880\n",
       "6     2     35%  vs_testset  balanced_acc  0.903\n",
       "7     2     70%   cross_val  balanced_acc  0.830\n",
       "8     2     70%   cross_val            f1  0.900\n",
       "9     2     70%   cross_val   roc_auc_ovr  1.000\n",
       "10    2     70%  vs_testset          prec  0.912\n",
       "11    2     70%  vs_testset           rec  0.918\n",
       "12    2     70%  vs_testset           acc  0.918\n",
       "13    2     70%  vs_testset  balanced_acc  0.930\n",
       "14    2      HC   cross_val  balanced_acc  0.820\n",
       "15    2      HC   cross_val            f1  0.910\n",
       "16    2      HC   cross_val   roc_auc_ovr  1.000\n",
       "17    2      HC  vs_testset          prec  0.893\n",
       "18    2      HC  vs_testset           rec  0.913\n",
       "19    2      HC  vs_testset           acc  0.913\n",
       "20    2      HC  vs_testset  balanced_acc  0.936"
      ]
     },
     "execution_count": 15,
     "metadata": {},
     "output_type": "execute_result"
    }
   ],
   "source": [
    "result_df"
   ]
  }
 ],
 "metadata": {
  "kernelspec": {
   "display_name": "Python 3",
   "language": "python",
   "name": "python3"
  },
  "language_info": {
   "codemirror_mode": {
    "name": "ipython",
    "version": 3
   },
   "file_extension": ".py",
   "mimetype": "text/x-python",
   "name": "python",
   "nbconvert_exporter": "python",
   "pygments_lexer": "ipython3",
   "version": "3.8.5"
  }
 },
 "nbformat": 4,
 "nbformat_minor": 4
}
