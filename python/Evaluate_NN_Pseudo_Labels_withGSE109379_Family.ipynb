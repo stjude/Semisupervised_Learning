{
 "cells": [
  {
   "cell_type": "markdown",
   "metadata": {},
   "source": [
    "# Evaluate Pseudo Labels"
   ]
  },
  {
   "cell_type": "markdown",
   "metadata": {},
   "source": [
    "Questions:\n",
    "1. Do labels obtained from semisupervised classifier improve a supervised classifier performance?\n",
    "2. Do high confident labels from a SSL model improve a supervised classifier performance?"
   ]
  },
  {
   "cell_type": "markdown",
   "metadata": {},
   "source": [
    "## Design\n",
    "\n",
    "Original data set has 2801 samples x 5072 features. This data were split into 70% train and 30% test. This process was repeated 7 times to create 7 different train-test splits.\n",
    "\n",
    "For each split:\n",
    "1. Create a random forest model\n",
    "2. Evaluate the model on 35% data with itest\n",
    "3. Evaluate the model on 35% data  + SSL GSE109379 with itest\n",
    "4. Evaluate the model on 35% data + 35% pseudo-label data + GSE109379 pseudo-label data with itest\n",
    "5. Evaluate the model on 35% data + 35% pseudo-label data + HC GSE1093790 pseudo-label data with itest\n",
    "6. Evaluate the model on 35% data + high confident pseudo-label +  GSE109379 pseudo-label data with itest\n",
    "7. Evaluate the model on 35% data + high confident pseudo-label +  HC GSE109379 pseudo-label data with itest\n",
    "\n",
    "\n",
    "Box plots for each model (1 box plot show the average accuracies of each model over the 7 train-test splits)"
   ]
  },
  {
   "cell_type": "code",
   "execution_count": 193,
   "metadata": {},
   "outputs": [],
   "source": [
    "import scipy.io\n",
    "from sklearn.ensemble import RandomForestClassifier\n",
    "from sklearn.model_selection import cross_validate, RepeatedStratifiedKFold, cross_val_score, StratifiedKFold, KFold\n",
    "from sklearn.metrics import accuracy_score, precision_score, recall_score, balanced_accuracy_score\n",
    "from sklearn.metrics import confusion_matrix\n",
    "from sklearn.preprocessing import LabelEncoder, OneHotEncoder\n",
    "from numpy import array\n",
    "from numpy import argmax\n",
    "from keras.utils import to_categorical\n",
    "from keras.wrappers.scikit_learn import KerasClassifier\n",
    "\n",
    "import pandas as pd\n",
    "import numpy as np\n",
    "import collections\n",
    "\n",
    "import tensorflow as tf\n",
    "from tensorflow import keras\n",
    "\n",
    "from tensorflow import feature_column\n",
    "from tensorflow.keras import layers\n",
    "#from tensorflow.keras.layers.experimental import preprocessing\n",
    "#from sklearn.model_selection import train_test_split\n",
    "#from sklearn.model_selection import RepeatedKFold\n",
    "\n",
    "def CountFrequency(arr):\n",
    "    return collections.Counter(arr)  \n",
    "\n",
    "def combine(y, str):\n",
    "    freq = CountFrequency(y)\n",
    "    d = pd.DataFrame(freq.items(), columns=['Sample', 'pseudo_class_label'] )    \n",
    "    schema = [str] * len(d)\n",
    "    d['Dataset'] = schema\n",
    "    return d\n",
    "\n",
    "def get_freq_series(y):\n",
    "    freq = CountFrequency(y)\n",
    "    s = pd.Series(freq.values(), index = freq.keys())\n",
    "    return s\n",
    "\n",
    "def process_csv(filename):\n",
    "    df = pd.read_csv(filename, index_col=0)\n",
    "    y = df.y\n",
    "    X = df.drop(columns=['y'])\n",
    "    return (X, y)\n",
    "\n",
    "\n",
    "def process_csv_encoder(filename):\n",
    "    label_encoder = LabelEncoder()\n",
    "    df = pd.read_csv(filename, index_col=0)    \n",
    "    y = label_encoder.fit_transform(df.y)\n",
    "    X = df.drop(columns=['y'])\n",
    "    return(X, y)\n",
    "\n",
    "\n",
    "def process_csv_oneHotEncoder(filename):\n",
    "    df = pd.read_csv(filename, index_col=0)\n",
    "    label_encoder = LabelEncoder()\n",
    "    integer_encoded = label_encoder.fit_transform(df.y)\n",
    "    # one hot encode\n",
    "    encoded = keras.utils.to_categorical(integer_encoded)\n",
    "    X = df.drop(columns=['y'])\n",
    "    return(X, encoded)\n",
    "\n",
    "def append_result(p, df):\n",
    "    s = pd.Series(p, index=df.columns)\n",
    "    return df.append(s, ignore_index=True)\n",
    "\n",
    "def apply_CV(mod, cv, X, y):\n",
    "    return cross_validate(mod, X, y, cv=cv, scoring=['balanced_accuracy', 'accuracy', 'recall_weighted'])\n",
    "\n",
    "def append_cv_results(df, r, seed_name, dataset_name):\n",
    "    df = append_result([seed_name, dataset_name, 'cross_val', 'balanced_acc', r['test_balanced_accuracy'].mean().round(2)], df)\n",
    "    df = append_result([seed_name, dataset_name, 'cross_val', 'accuracy', r['test_accuracy'].mean().round(2)], df)\n",
    "    df = append_result([seed_name, dataset_name, 'cross_val', 'recall_weighted', r['test_recall_weighted'].mean().round(2)], df)\n",
    "    return df\n",
    "\n",
    "def accuracy_per_class(y_true, y_pred):\n",
    "    cm = confusion_matrix(y_true, y_pred)\n",
    "    classes = np.unique(y_true)\n",
    "    per_class_accuracies = cm.diagonal()/cm.sum(axis=1)\n",
    "    per_class_acc_wKeys = {}\n",
    "    for idx, cls in enumerate(classes):\n",
    "        per_class_acc_wKeys[cls] = per_class_accuracies[idx]\n",
    "    return per_class_acc_wKeys\n",
    "\n",
    "def evaluate_against_test_set(mod, x_train, y_train, x_test, y_test):\n",
    "    mod.fit(x_train, y_train)\n",
    "    y_pred = mod.predict(x_test)\n",
    "    per_class_acc = accuracy_per_class(y_test, y_pred)\n",
    "    rec = recall_score(y_test, y_pred,  average='weighted', zero_division=0).round(3)\n",
    "    acc = accuracy_score(y_pred, y_test).round(3)\n",
    "    b_acc = balanced_accuracy_score(y_pred, y_test).round(3)\n",
    "    return (rec, acc, b_acc, per_class_acc)\n",
    "\n",
    "def append_testset_results(df, r, seed_name, dataset_name):\n",
    "    df = append_result([seed_name, dataset_name, 'vs_testset', 'accuracy', r[0]], df)\n",
    "    df = append_result([seed_name, dataset_name, 'vs_testset', 'balanced_acc', r[1]], df)\n",
    "    df = append_result([seed_name, dataset_name, 'vs_testset', 'recall_weighted', r[2]], df)\n",
    "    return df\n",
    "\n",
    "\n",
    "def create_per_class_acc_df(class_acc, seed, type_dset):\n",
    "    d = pd.DataFrame(columns = ['Seed', 'Dataset'])\n",
    "    d = d.append(class_acc, ignore_index=True)\n",
    "    d['Seed'] = seed\n",
    "    d['Dataset'] = type_dset\n",
    "    return d\n",
    "\n",
    "def create_model(n_inputs):\n",
    "    model = keras.Sequential()\n",
    "    model.add(keras.layers.Dense(1000, input_dim=n_inputs, kernel_initializer='he_uniform', activation='relu'))\n",
    "    model.add(keras.layers.Dense(500, input_dim=n_inputs, kernel_initializer='he_uniform', activation='relu'))\n",
    "    model.add(keras.layers.Dense(75, activation=\"softmax\"))\n",
    "    \n",
    "    model.compile(optimizer = 'adam', loss= 'categorical_crossentropy', \n",
    "                  metrics=['accuracy', 'Precision','Recall', 'mae', 'mse'])\n",
    "    \n",
    "    return model\n",
    "\n",
    "# evaluate a model with a given number of repeats\n",
    "def evaluate_model(mod, X, y, repeats):\n",
    "    # prepare the repeated stratified cross-validation procedure\n",
    "    kfold = RepeatStratifiedKFold(n_splits=3, n_repeats=5, shuffle=True, random_state=1)\n",
    "    cvscores = []\n",
    "    for train, test in kfold.split(X, Y):\n",
    "        model = create_model()\n",
    "        model.fit(X[train], Y[train], epochs=100, batch_size=50, verbose=1)\n",
    "        scores = model.evaluate(X[test], Y[test], verbose=0)\n",
    "        print(\"%s: %.2f%%\" % (model.metrics_names[1], scores[1]*100))\n",
    "        cvscores.append(scores[1] * 100)\n",
    "        \n",
    "    return cvscores\n",
    " "
   ]
  },
  {
   "cell_type": "code",
   "execution_count": 194,
   "metadata": {},
   "outputs": [],
   "source": [
    "def evaluate(seed, model, cv, mcf=False):\n",
    "    print('1. Read files (seed={})'.format(seed))\n",
    "       \n",
    "    file35 = './data_family/seed{}_35perc.csv'.format(seed)\n",
    "    file70='./data_family/seed{}_70perc.csv'.format(seed)\n",
    "    file70HC= './data_family/seed{}_70percHC.csv'.format(seed)\n",
    "    \n",
    "    file35_GSE='./data_family/seed{}_35perc_gse109379.csv'.format(seed)\n",
    "    file35_GSEHC ='./data_family/seed{}_35perc_HCgse109379.csv'.format(seed)\n",
    "    file70_GSE = './data_family/seed{}_70perc_gse109379.csv'.format(seed)\n",
    "    \n",
    "    file70HC_GSE = './data_family/seed{}_70HC_gse109379.csv'.format(seed)\n",
    "    file70_GSEHC = './data_family/seed{}_70perc_gse109379HC.csv'.format(seed)\n",
    "    file70HC_GSEHC = './data_family/seed{}_70HC_gse109379HC.csv'.format(seed)\n",
    "    \n",
    "    \n",
    "    fileHoldOut = './data_family/seed{}_holdOutTest.csv'.format(seed)\n",
    "    #########\n",
    "    print('\\tReading', file35)\n",
    "    X35, y35 = process_csv(file35)\n",
    "    print('\\tReading', file70)\n",
    "    X70, y70 = process_csv(file70)\n",
    "    print('\\tReading', file70HC)\n",
    "    X70HC, y70HC = process_csv(file70HC)\n",
    "    \n",
    "    print('\\tReading', file35_GSE)\n",
    "    X35gse, y35gse = process_csv(file35_GSE)\n",
    "    print('\\tReading', file35_GSEHC)\n",
    "    X35gseHC, y35gseHC = process_csv(file35_GSEHC)\n",
    "    print('\\tReading', file70_GSE)\n",
    "    X70gse, y70gse = process_csv(file70_GSE)\n",
    "    \n",
    "    print('\\tReading', file70HC_GSE)\n",
    "    X70HCgse, y70HCgse = process_csv(file70HC_GSE)\n",
    "    print('\\tReading', file70_GSEHC)\n",
    "    X70gseHC, y70gseHC = process_csv(file70_GSEHC)\n",
    "    print('\\tReading', file70HC_GSEHC)\n",
    "    XHC, yHC = process_csv(file70HC_GSEHC)\n",
    "    \n",
    "    print('\\tReading', fileHoldOut)\n",
    "    xitest, yitest = process_csv(fileHoldOut)\n",
    "    ###################\n",
    "    \n",
    "    \n",
    "    print('2. Evaluate model with 35% data')\n",
    "    print('\\tcross validate', model, 'with', cv)\n",
    "    result_cv_35 = apply_CV(model, cv, X35, y35)\n",
    "    print('\\tvalidate against test set')\n",
    "    result_ts_35 = evaluate_against_test_set(model, X35, y35, xitest, yitest)\n",
    "          \n",
    "    print('3. Evaluate model with 70% data')\n",
    "    print('\\tcross validate', model, 'with', cv)\n",
    "    result_cv_70 = apply_CV(model, cv, X70, y70)\n",
    "    print('\\tvalidate against test set')\n",
    "    result_ts_70 = evaluate_against_test_set(model, X70, y70, xitest, yitest)\n",
    "\n",
    "    print('4. Evaluate model with 70% HC')    \n",
    "    print('\\tcross validate', model, 'with', cv)\n",
    "    result_cv_70HC = apply_CV(model, cv, X70HC, y70HC)\n",
    "    print('\\tvalidate against test set')\n",
    "    result_ts_70HC = evaluate_against_test_set(model, X70HC, y70HC, xitest, yitest)\n",
    "    \n",
    "    #########\n",
    "    \n",
    "    print('5. Evaluate model with 35% data with GSE109379')\n",
    "    print('\\tcross validate', model, 'with', cv)\n",
    "    result_cv_35gse = apply_CV(model, cv, X35gse, y35gse)\n",
    "    print('\\tvalidate against test set')\n",
    "    result_ts_35gse = evaluate_against_test_set(model, X35gse, y35gse, xitest, yitest)\n",
    "    \n",
    "    print('5. Evaluate model with 35% data with High confident GSE109379')\n",
    "    print('\\tcross validate', model, 'with', cv)\n",
    "    result_cv_35gseHC = apply_CV(model, cv, X35gseHC, y35gseHC)\n",
    "    print('\\tvalidate against test set')\n",
    "    result_ts_35gseHC = evaluate_against_test_set(model, X35gseHC, y35gseHC, xitest, yitest)\n",
    "    \n",
    "    print('6. Evaluate model with 70% + GSE90496 pseudo-labeled data')    \n",
    "    print('\\tcross validate', model, 'with', cv)\n",
    "    result_cv_70gse = apply_CV(model, cv, X70gse, y70gse)\n",
    "    print('\\tvalidate against test set')\n",
    "    result_ts_70gse = evaluate_against_test_set(model, X70gse, y70gse, xitest, yitest)\n",
    "    \n",
    "    ##########    \n",
    "             \n",
    "    print('7. Evaluate model with 70% HC + GSE109379')\n",
    "    print('\\tcross validate', model, 'with', cv)\n",
    "    result_cv_70HCgse = apply_CV(model, cv, X70HCgse, y70HCgse)\n",
    "    print('\\tvalidate against test set')\n",
    "    result_ts_70HCgse = evaluate_against_test_set(model, X70HCgse, y70HCgse, xitest, yitest)\n",
    "\n",
    "    print('8. Evaluate model with 70% + HC GSE90496 ')    \n",
    "    print('\\tcross validate', model, 'with', cv)\n",
    "    result_cv_70gseHC = apply_CV(model, cv, X70gseHC, y70gseHC)\n",
    "    print('\\tvalidate against test set')\n",
    "    result_ts_70gseHC = evaluate_against_test_set(model, X70gseHC, y70gseHC, xitest, yitest)\n",
    "      \n",
    "    print('9. Evaluate model with HC pseudo-labeled data')    \n",
    "    print('\\tcross validate', model, 'with', cv)\n",
    "    result_cv_HC = apply_CV(model, cv, XHC, yHC)\n",
    "    print('\\tvalidate against test set')\n",
    "    result_ts_HC = evaluate_against_test_set(model, XHC, yHC, xitest, yitest)\n",
    "\n",
    "    \n",
    "    print('6. Store results.')\n",
    "    df = pd.DataFrame(data=[], columns=['Seed','Dataset','Validation','Metric','Value'])\n",
    "    df = append_cv_results(df, result_cv_35, seed, '35')\n",
    "    df = append_testset_results(df, result_ts_35, seed, '35')\n",
    "    \n",
    "    df = append_cv_results(df, result_cv_70, seed, '70')\n",
    "    df = append_testset_results(df, result_ts_70, seed, '70')\n",
    "    \n",
    "    df = append_cv_results(df, result_cv_70HC, seed, '70HC')\n",
    "    df = append_testset_results(df, result_ts_70HC, seed, '70HC')\n",
    "    \n",
    "    df = append_cv_results(df, result_cv_35gse, seed, '35_GSE')\n",
    "    df = append_testset_results(df, result_ts_35gse, seed, '35_GSE')\n",
    "    \n",
    "    df = append_cv_results(df, result_cv_35gseHC, seed, '35_gseHC')\n",
    "    df = append_testset_results(df, result_ts_35gseHC, seed, '35_gseHC')\n",
    "    \n",
    "    df = append_cv_results(df, result_cv_70gse, seed, '70_GSE')\n",
    "    df = append_testset_results(df, result_ts_70gse, seed, '70_GSE')\n",
    "    \n",
    "    df = append_cv_results(df, result_cv_70HCgse, seed, '70HC_GSE')\n",
    "    df = append_testset_results(df, result_ts_70HCgse, seed, '70HC_GSE')\n",
    "    df = append_cv_results(df, result_cv_70gseHC, seed, '70_gseHC')\n",
    "    df = append_testset_results(df, result_ts_70gseHC, seed, '70_gseHC')\n",
    "    df = append_cv_results(df, result_cv_HC, seed, 'HC')\n",
    "    df = append_testset_results(df, result_ts_HC, seed, 'HC')\n",
    "    \n",
    "    #df_class_acc = pd.DataFrame(columns = ['Seed', 'Dataset'])\n",
    "    \n",
    "    df_class = create_per_class_acc_df(result_ts_35[3], seed, '35')\n",
    "    \n",
    "    df_class = df_class.append(create_per_class_acc_df(result_ts_70[3], seed, '70'))\n",
    "    df_class = df_class.append(create_per_class_acc_df(result_ts_70HC[3], seed, '70HC'))\n",
    "    \n",
    "    df_class = df_class.append(create_per_class_acc_df(result_ts_35gse[3], seed, '35GSE'))\n",
    "    df_class = df_class.append(create_per_class_acc_df(result_ts_35gseHC[3], seed, '35_gseHC'))\n",
    "    df_class = df_class.append(create_per_class_acc_df(result_ts_70gse[3], seed, '70_GSE'))\n",
    "    \n",
    "    df_class = df_class.append(create_per_class_acc_df(result_ts_70HCgse[3], seed, '70HC_GSE'))\n",
    "    df_class = df_class.append(create_per_class_acc_df(result_ts_70gseHC[3], seed, '70_gseHC'))\n",
    "    df_class = df_class.append(create_per_class_acc_df(result_ts_HC[3], seed, 'HC'))\n",
    "    \n",
    "    return (df, df_class)\n",
    "\n"
   ]
  },
  {
   "cell_type": "code",
   "execution_count": 4,
   "metadata": {
    "jupyter": {
     "source_hidden": true
    }
   },
   "outputs": [],
   "source": [
    "def count_pseudo_label_per_family(seed):\n",
    "    print('1. Read files (seed={})'.format(seed))\n",
    "       \n",
    "    file35 = './data_family/seed{}_35perc.csv'.format(seed)\n",
    "    file70='./data_family/seed{}_70perc.csv'.format(seed)\n",
    "    file70HC= './data_family/seed{}_70percHC.csv'.format(seed)\n",
    "    \n",
    "    file35_GSE='./data_family/seed{}_35perc_gse109379.csv'.format(seed)\n",
    "    file35_GSEHC ='./data_family/seed{}_35perc_HCgse109379.csv'.format(seed)\n",
    "    file70_GSE = './data_family/seed{}_70perc_gse109379.csv'.format(seed)\n",
    "    \n",
    "    file70HC_GSE = './data_family/seed{}_70HC_gse109379.csv'.format(seed)\n",
    "    file70_GSEHC = './data_family/seed{}_70perc_gse109379HC.csv'.format(seed)\n",
    "    file70HC_GSEHC = './data_family/seed{}_70HC_gse109379HC.csv'.format(seed)\n",
    "    \n",
    "    fileHoldOut = './data_family/seed{}_holdOutTest.csv'.format(seed)\n",
    "    \n",
    "    #########\n",
    "    \n",
    "    print('\\tReading', file35)\n",
    "    X35, y35 = process_csv(file35)\n",
    "    f35 = get_freq_series(y35)\n",
    "    print('\\tReading', file70)\n",
    "    X70, y70 = process_csv(file70)\n",
    "    f70 = get_freq_series(y70)\n",
    "    print('\\tReading', file70HC)\n",
    "    X70HC, y70HC = process_csv(file70HC)\n",
    "    f70HC = get_freq_series(y70HC)\n",
    "    \n",
    "    print('\\tReading', file35_GSE)\n",
    "    X35gse, y35gse = process_csv(file35_GSE)\n",
    "    f35gse = get_freq_series(y35gse)\n",
    "    print('\\tReading', file35_GSEHC)\n",
    "    X35gseHC, y35gseHC = process_csv(file35_GSEHC)\n",
    "    f35gseHC = get_freq_series(y35gseHC)\n",
    "    print('\\tReading', file70_GSE)\n",
    "    X70gse, y70gse = process_csv(file70_GSE)\n",
    "    f70gse = get_freq_series(y70gse)\n",
    "    \n",
    "    print('\\tReading', file70HC_GSE)\n",
    "    X70HCgse, y70HCgse = process_csv(file70HC_GSE)\n",
    "    f70HCgse = get_freq_series(y70HCgse)\n",
    "    print('\\tReading', file70_GSEHC)\n",
    "    X70gseHC, y70gseHC = process_csv(file70_GSEHC)\n",
    "    f70gseHC = get_freq_series(y70gseHC)\n",
    "    print('\\tReading', file70HC_GSEHC)\n",
    "    XHC, yHC = process_csv(file70HC_GSEHC)\n",
    "    fHC = get_freq_series(yHC)\n",
    "    \n",
    "    print('\\tReading', fileHoldOut)\n",
    "    xitest, yitest = process_csv(fileHoldOut)\n",
    "    fitest = get_freq_series(yitest)\n",
    "    \n",
    " \n",
    "    print('2. Store pseudo_label_counts')\n",
    "    df = pandas.DataFrame(data=[], columns = f35.keys())\n",
    "    df = df.append(f35, ignore_index=True)\n",
    "    df = df.append(f70, ignore_index=True)  \n",
    "    df = df.append(f70HC, ignore_index=True)\n",
    "    df = df.append(f35gse, ignore_index=True)\n",
    "    df = df.append(f35gseHC, ignore_index=True)\n",
    "    df = df.append(f70gse, ignore_index=True)\n",
    "    df = df.append(f70HCgse, ignore_index=True)\n",
    "    df = df.append(f70gseHC, ignore_index=True)\n",
    "    df = df.append(fHC, ignore_index=True)\n",
    "    df = df.append(fitest, ignore_index=True)\n",
    "    \n",
    "    df.insert(0, 'Dataset', ['35', '70', '70HC', '35gse', '35gseHC', '70gse', '70HCgse', '70gseHC', 'HC', 'holdOut'])\n",
    "    df.insert(1, 'Seed', [seed]*10)\n",
    "    \n",
    "    return df\n",
    "\n",
    "\n",
    "def combine_input_label2(seed):\n",
    "    print('1. Read files (seed={})'.format(seed))\n",
    "       \n",
    "    file35 = './data_family/seed{}_35perc.csv'.format(seed)\n",
    "    file70='./data_family/seed{}_70perc.csv'.format(seed)\n",
    "    file70HC= './data_family/seed{}_70percHC.csv'.format(seed)\n",
    "    \n",
    "    file35_GSE='./data_family/seed{}_35perc_gse109379.csv'.format(seed)\n",
    "    file35_GSEHC ='./data_family/seed{}_35perc_HCgse109379.csv'.format(seed)\n",
    "    file70_GSE = './data_family/seed{}_70perc_gse109379.csv'.format(seed)\n",
    "    \n",
    "    file70HC_GSE = './data_family/seed{}_70HC_gse109379.csv'.format(seed)\n",
    "    file70_GSEHC = './data_family/seed{}_70perc_gse109379HC.csv'.format(seed)\n",
    "    file70HC_GSEHC = './data_family/seed{}_70HC_gse109379HC.csv'.format(seed)\n",
    "    \n",
    "    \n",
    "    fileHoldOut = './data_family/seed{}_holdOutTest.csv'.format(seed)\n",
    "    #########\n",
    "    \n",
    "    #########\n",
    "    \n",
    "    print('\\tReading', file35)\n",
    "    X35, y35 = process_csv(file35)\n",
    "    f35 = get_freq_series(y35)\n",
    "    print('\\tReading', file70)\n",
    "    X70, y70 = process_csv(file70)\n",
    "    f70 = get_freq_series(y70)\n",
    "    print('\\tReading', file70HC)\n",
    "    X70HC, y70HC = process_csv(file70HC)\n",
    "    f70HC = get_freq_series(y70HC)\n",
    "    \n",
    "    print('\\tReading', file35_GSE)\n",
    "    X35gse, y35gse = process_csv(file35_GSE)\n",
    "    f35gse = get_freq_series(y35gse)\n",
    "    print('\\tReading', file35_GSEHC)\n",
    "    X35gseHC, y35gseHC = process_csv(file35_GSEHC)\n",
    "    f35gseHC = get_freq_series(y35gseHC)\n",
    "    print('\\tReading', file70_GSE)\n",
    "    X70gse, y70gse = process_csv(file70_GSE)\n",
    "    f70gse = get_freq_series(y70gse)\n",
    "    \n",
    "    print('\\tReading', file70HC_GSE)\n",
    "    X70HCgse, y70HCgse = process_csv(file70HC_GSE)\n",
    "    f70HCgse = get_freq_series(y70HCgse)\n",
    "    print('\\tReading', file70_GSEHC)\n",
    "    X70gseHC, y70gseHC = process_csv(file70_GSEHC)\n",
    "    f70gseHC = get_freq_series(y70gseHC)\n",
    "    print('\\tReading', file70HC_GSEHC)\n",
    "    XHC, yHC = process_csv(file70HC_GSEHC)\n",
    "    fHC = get_freq_series(yHC)\n",
    "    \n",
    "    print('\\tReading', fileHoldOut)\n",
    "    xitest, yitest = process_csv(fileHoldOut)\n",
    "    fitest = get_freq_series(yitest)\n",
    "    \n",
    " \n",
    "    print('2. Store pseudo_label_counts')\n",
    "    df = pandas.DataFrame(data=[], columns = f35.keys())\n",
    "    df = df.append(f35, ignore_index=True)\n",
    "    df = df.append(f70, ignore_index=True)  \n",
    "    df = df.append(f70HC, ignore_index=True)\n",
    "    df = df.append(f35gse, ignore_index=True)\n",
    "    df = df.append(f35gseHC, ignore_index=True)\n",
    "    df = df.append(f70gse, ignore_index=True)\n",
    "    df = df.append(f70HCgse, ignore_index=True)\n",
    "    df = df.append(f70gseHC, ignore_index=True)\n",
    "    df = df.append(fHC, ignore_index=True)\n",
    "    df = df.append(fitest, ignore_index=True)\n",
    "    \n",
    "    df.insert(0, 'Dataset', ['35', '70', '70HC', '35gse', '35gseHC', '70gse', '70HCgse', '70gseHC', 'HC', 'holdOut'])\n",
    "    df.insert(1, 'Seed', [seed]*10)\n",
    "    \n",
    "    return df"
   ]
  },
  {
   "cell_type": "code",
   "execution_count": null,
   "metadata": {
    "jupyter": {
     "source_hidden": true
    }
   },
   "outputs": [],
   "source": [
    "def evaluate_short(seed, model, cv, mcf=False):\n",
    "    print('1. Read files (seed={})'.format(seed))\n",
    "       \n",
    "    file35 = './data_family/seed{}_35perc.csv'.format(seed)\n",
    "    file70='./data_family/seed{}_70perc.csv'.format(seed)\n",
    "    file70HC= './data_family/seed{}_70percHC.csv'.format(seed)\n",
    "    \n",
    "    \n",
    "    \n",
    "    fileHoldOut = './data_family/seed{}_holdOutTest.csv'.format(seed)\n",
    "    #########\n",
    "    print('\\tReading', file35)\n",
    "    X35, y35 = process_csv(file35)\n",
    "    y35_one_hot = keras.utils.to_categorical(y35, num_classes)\n",
    "    print('\\tReading', file70)\n",
    "    X70, y70 = process_csv(file70)\n",
    "    print('\\tReading', file70HC)\n",
    "    X70HC, y70HC = process_csv(file70HC)\n",
    "    \n",
    "        \n",
    "    print('\\tReading', fileHoldOut)\n",
    "    xitest, yitest = process_csv(fileHoldOut)\n",
    "    ###################\n",
    "    \n",
    "    \n",
    "    print('2. Evaluate model with 35% data')\n",
    "    print('\\tcross validate', model, 'with', cv)\n",
    "    result_cv_35 = apply_CV(model, cv, X35, y35)\n",
    "    print('\\tvalidate against test set')\n",
    "    result_ts_35 = evaluate_against_test_set(model, X35, y35, xitest, yitest)\n",
    "          \n",
    "    print('3. Evaluate model with 70% data')\n",
    "    print('\\tcross validate', model, 'with', cv)\n",
    "    result_cv_70 = apply_CV(model, cv, X70, y70)\n",
    "    print('\\tvalidate against test set')\n",
    "    result_ts_70 = evaluate_against_test_set(model, X70, y70, xitest, yitest)\n",
    "\n",
    "    \n",
    "    #########\n",
    "    \n",
    "        \n",
    "    print('6. Store results.')\n",
    "    df = pd.DataFrame(data=[], columns=['Seed','Dataset','Validation','Metric','Value'])\n",
    "    df = append_cv_results(df, result_cv_35, seed, '35')\n",
    "    df = append_testset_results(df, result_ts_35, seed, '35')\n",
    "    \n",
    "    df = append_cv_results(df, result_cv_70, seed, '70')\n",
    "    df = append_testset_results(df, result_ts_70, seed, '70')\n",
    "    \n",
    "    \n",
    "    #df_class_acc = pd.DataFrame(columns = ['Seed', 'Dataset'])\n",
    "    \n",
    "    df_class_acc = create_per_class_acc_df(result_ts_35[3], seed, '35')\n",
    "    df_class_acc = df_class_acc.append(create_per_class_acc_df(result_ts_70[3], seed, '70'))\n",
    "       \n",
    "    return (df, df_class_acc)"
   ]
  },
  {
   "cell_type": "code",
   "execution_count": null,
   "metadata": {},
   "outputs": [],
   "source": [
    "\n",
    "def run_all_seeds(rand):\n",
    "    model = RandomForestClassifier(n_estimators = 50, max_depth=100, random_state=rand)\n",
    "    cv = RepeatedStratifiedKFold(n_splits=3, n_repeats=5)\n",
    "    for seed in [1, 2, 20, 40, 80, 160, 320]:\n",
    "        result = evaluate(seed, model, cv)\n",
    "        output_file = 'result_family_seed{}_GSE109379_{}.csv'.format(seed, rand)\n",
    "        output_per_family_file = './output_acc_perFamily/result_acc_perFamily_seed{}_GSE109379_{}.csv'.format(seed, rand)\n",
    "        result[0].to_csv(output_file, index=False)\n",
    "        result[1].to_csv(output_per_family_file, index=False)\n",
    "        print('Result saved to', output_file)\n",
    "\n",
    "def run_one_seeds(rand):\n",
    "    model = RandomForestClassifier(n_estimators = 50, max_depth=100, random_state=rand)\n",
    "    cv = RepeatedStratifiedKFold(n_splits=3, n_repeats=1)\n",
    "    for seed in [ 2]:\n",
    "        result = evaluate_short(seed, model, cv)\n",
    "        output_file = './output/result_family_seed{}_GSE109379_{}.csv'.format(seed, rand)\n",
    "        output_per_family_file = './output_acc_perFamily/result_acc_perFamily_seed{}_GSE109379_{}.csv'.format(seed, rand)\n",
    "        result[0].to_csv(output_file, index=False)\n",
    "        result[1].to_csv(output_per_family_file, index=False)\n",
    "        print('Result saved to', output_file)\n",
    "        \n",
    "def create_pseudo_labels_file():\n",
    "    for seed in [1, 2, 20, 40, 80, 160, 320]:\n",
    "        combined_labels = count_pseudo_label_per_family(seed)\n",
    "        output_file = 'pseudo_label_family_seed{}.csv'.format(seed)\n",
    "        combined_labels.to_csv(output_file, index=True)"
   ]
  },
  {
   "cell_type": "code",
   "execution_count": 133,
   "metadata": {},
   "outputs": [],
   "source": [
    "seed = 1\n",
    "file35 = './data_family/seed{}_35perc.csv'.format(seed)    \n",
    "fileHoldOut = './data_family/seed{}_holdOutTest.csv'.format(seed)\n",
    "file35_GSE='./data_family/seed{}_35perc_gse109379.csv'.format(seed)\n",
    "\n",
    "\n",
    "num_classes = 75\n",
    "\n",
    "df = pd.read_csv(file35_GSE, index_col=0)\n",
    "\n",
    "\n",
    "#########\n"
   ]
  },
  {
   "cell_type": "code",
   "execution_count": 102,
   "metadata": {},
   "outputs": [
    {
     "name": "stdout",
     "output_type": "stream",
     "text": [
      "[[1. 0. 0. ... 0. 0. 0.]\n",
      " [1. 0. 0. ... 0. 0. 0.]\n",
      " [1. 0. 0. ... 0. 0. 0.]\n",
      " ...\n",
      " [0. 0. 0. ... 0. 0. 0.]\n",
      " [0. 0. 0. ... 0. 0. 0.]\n",
      " [0. 0. 0. ... 0. 0. 0.]]\n"
     ]
    }
   ],
   "source": [
    "from numpy import array\n",
    "from numpy import argmax\n",
    "from keras.utils import to_categorical\n",
    "\n",
    "# one hot encode\n",
    "encoded = to_categorical(integer_encoded)\n",
    "print(encoded)"
   ]
  },
  {
   "cell_type": "code",
   "execution_count": 127,
   "metadata": {},
   "outputs": [
    {
     "name": "stdout",
     "output_type": "stream",
     "text": [
      "\tReading ./data_family/seed1_35perc.csv\n",
      "\tReading ./data_family/seed1_holdOutTest.csv\n"
     ]
    }
   ],
   "source": [
    "print('\\tReading', file35)\n",
    "X35, y35 = process_csv_encoder(file35)\n",
    "print('\\tReading', fileHoldOut)\n",
    "xitest, yitest = process_csv_encoder(fileHoldOut)\n",
    "\n"
   ]
  },
  {
   "cell_type": "code",
   "execution_count": 179,
   "metadata": {},
   "outputs": [
    {
     "name": "stdout",
     "output_type": "stream",
     "text": [
      "(2077, 5072) (2077, 75)\n"
     ]
    }
   ],
   "source": [
    "\n",
    "# split into input (X) and output (Y) variables\n",
    "X = df.drop(columns=['y'])\n",
    "integer_encoded = label_encoder.fit_transform(df.y)\n",
    "y = keras.utils.to_categorical(integer_encoded)\n",
    "\n",
    "print(X.shape, y.shape)"
   ]
  },
  {
   "cell_type": "code",
   "execution_count": 195,
   "metadata": {},
   "outputs": [
    {
     "name": "stdout",
     "output_type": "stream",
     "text": [
      "Epoch 1/10\n",
      "42/42 [==============================] - 1s 21ms/step - loss: 4.5249 - accuracy: 0.3665 - precision: 0.5925 - recall: 0.2802 - mae: 0.0191 - mse: 0.0108\n",
      "Epoch 2/10\n",
      "42/42 [==============================] - 1s 21ms/step - loss: 0.8870 - accuracy: 0.7905 - precision: 0.9317 - recall: 0.7111 - mae: 0.0081 - mse: 0.0037\n",
      "Epoch 3/10\n",
      "42/42 [==============================] - 1s 21ms/step - loss: 0.4735 - accuracy: 0.8813 - precision: 0.9723 - recall: 0.8127 - mae: 0.0055 - mse: 0.0023\n",
      "Epoch 4/10\n",
      "42/42 [==============================] - 1s 21ms/step - loss: 0.2857 - accuracy: 0.9238 - precision: 0.9690 - recall: 0.8849 - mae: 0.0037 - mse: 0.0015\n",
      "Epoch 5/10\n",
      "42/42 [==============================] - 1s 21ms/step - loss: 0.2426 - accuracy: 0.9314 - precision: 0.9706 - recall: 0.9044 - mae: 0.0033 - mse: 0.0013\n",
      "Epoch 6/10\n",
      "42/42 [==============================] - 1s 21ms/step - loss: 0.1687 - accuracy: 0.9488 - precision: 0.9741 - recall: 0.9250 - mae: 0.0024 - mse: 0.0010\n",
      "Epoch 7/10\n",
      "42/42 [==============================] - 1s 21ms/step - loss: 0.1113 - accuracy: 0.9732 - precision: 0.9866 - recall: 0.9536 - mae: 0.0017 - mse: 6.2902e-04\n",
      "Epoch 8/10\n",
      "42/42 [==============================] - 1s 21ms/step - loss: 0.0849 - accuracy: 0.9758 - precision: 0.9875 - recall: 0.9667 - mae: 0.0015 - mse: 5.1409e-04\n",
      "Epoch 9/10\n",
      "42/42 [==============================] - 1s 21ms/step - loss: 0.0635 - accuracy: 0.9799 - precision: 0.9839 - recall: 0.9761 - mae: 0.0011 - mse: 3.9820e-04\n",
      "Epoch 10/10\n",
      "42/42 [==============================] - 1s 21ms/step - loss: 0.0919 - accuracy: 0.9748 - precision: 0.9812 - recall: 0.9681 - mae: 0.0014 - mse: 5.7644e-04\n"
     ]
    },
    {
     "data": {
      "text/plain": [
       "<tensorflow.python.keras.callbacks.History at 0x7f8ffcad9fd0>"
      ]
     },
     "execution_count": 195,
     "metadata": {},
     "output_type": "execute_result"
    }
   ],
   "source": [
    "\n",
    "model = create_model(5072)\n",
    "model.fit(X,y, epochs=10, batch_size=50, verbose=1)"
   ]
  },
  {
   "cell_type": "code",
   "execution_count": 199,
   "metadata": {},
   "outputs": [
    {
     "ename": "TypeError",
     "evalue": "If no scoring is specified, the estimator passed should have a 'score' method. The estimator <tensorflow.python.keras.engine.sequential.Sequential object at 0x7f8ffcb08b20> does not.",
     "output_type": "error",
     "traceback": [
      "\u001b[0;31m---------------------------------------------------------------------------\u001b[0m",
      "\u001b[0;31mTypeError\u001b[0m                                 Traceback (most recent call last)",
      "\u001b[0;32m<ipython-input-199-3be37b291a68>\u001b[0m in \u001b[0;36m<module>\u001b[0;34m\u001b[0m\n\u001b[1;32m      3\u001b[0m \u001b[0;31m#estimator = KerasClassifier(build_fn=create_model(5072), epochs=10, batch_size=50, verbose=1)\u001b[0m\u001b[0;34m\u001b[0m\u001b[0;34m\u001b[0m\u001b[0;34m\u001b[0m\u001b[0m\n\u001b[1;32m      4\u001b[0m \u001b[0mkfold\u001b[0m \u001b[0;34m=\u001b[0m \u001b[0mKFold\u001b[0m\u001b[0;34m(\u001b[0m\u001b[0mn_splits\u001b[0m\u001b[0;34m=\u001b[0m\u001b[0;36m10\u001b[0m\u001b[0;34m,\u001b[0m \u001b[0mshuffle\u001b[0m\u001b[0;34m=\u001b[0m\u001b[0;32mTrue\u001b[0m\u001b[0;34m)\u001b[0m\u001b[0;34m\u001b[0m\u001b[0;34m\u001b[0m\u001b[0m\n\u001b[0;32m----> 5\u001b[0;31m \u001b[0mresults\u001b[0m \u001b[0;34m=\u001b[0m \u001b[0mcross_validate\u001b[0m\u001b[0;34m(\u001b[0m\u001b[0mmodel\u001b[0m\u001b[0;34m,\u001b[0m \u001b[0mX\u001b[0m\u001b[0;34m,\u001b[0m \u001b[0my\u001b[0m\u001b[0;34m,\u001b[0m \u001b[0mcv\u001b[0m\u001b[0;34m=\u001b[0m\u001b[0mkfold\u001b[0m\u001b[0;34m)\u001b[0m\u001b[0;34m\u001b[0m\u001b[0;34m\u001b[0m\u001b[0m\n\u001b[0m\u001b[1;32m      6\u001b[0m \u001b[0;31m#print(\"Baseline: %.2f%% (%.2f%%)\" % (results.mean()*100, results.std()*100))\u001b[0m\u001b[0;34m\u001b[0m\u001b[0;34m\u001b[0m\u001b[0;34m\u001b[0m\u001b[0m\n\u001b[1;32m      7\u001b[0m \u001b[0;34m\u001b[0m\u001b[0m\n",
      "\u001b[0;32m/opt/anaconda3/lib/python3.8/site-packages/sklearn/utils/validation.py\u001b[0m in \u001b[0;36minner_f\u001b[0;34m(*args, **kwargs)\u001b[0m\n\u001b[1;32m     70\u001b[0m                           FutureWarning)\n\u001b[1;32m     71\u001b[0m         \u001b[0mkwargs\u001b[0m\u001b[0;34m.\u001b[0m\u001b[0mupdate\u001b[0m\u001b[0;34m(\u001b[0m\u001b[0;34m{\u001b[0m\u001b[0mk\u001b[0m\u001b[0;34m:\u001b[0m \u001b[0marg\u001b[0m \u001b[0;32mfor\u001b[0m \u001b[0mk\u001b[0m\u001b[0;34m,\u001b[0m \u001b[0marg\u001b[0m \u001b[0;32min\u001b[0m \u001b[0mzip\u001b[0m\u001b[0;34m(\u001b[0m\u001b[0msig\u001b[0m\u001b[0;34m.\u001b[0m\u001b[0mparameters\u001b[0m\u001b[0;34m,\u001b[0m \u001b[0margs\u001b[0m\u001b[0;34m)\u001b[0m\u001b[0;34m}\u001b[0m\u001b[0;34m)\u001b[0m\u001b[0;34m\u001b[0m\u001b[0;34m\u001b[0m\u001b[0m\n\u001b[0;32m---> 72\u001b[0;31m         \u001b[0;32mreturn\u001b[0m \u001b[0mf\u001b[0m\u001b[0;34m(\u001b[0m\u001b[0;34m**\u001b[0m\u001b[0mkwargs\u001b[0m\u001b[0;34m)\u001b[0m\u001b[0;34m\u001b[0m\u001b[0;34m\u001b[0m\u001b[0m\n\u001b[0m\u001b[1;32m     73\u001b[0m     \u001b[0;32mreturn\u001b[0m \u001b[0minner_f\u001b[0m\u001b[0;34m\u001b[0m\u001b[0;34m\u001b[0m\u001b[0m\n\u001b[1;32m     74\u001b[0m \u001b[0;34m\u001b[0m\u001b[0m\n",
      "\u001b[0;32m/opt/anaconda3/lib/python3.8/site-packages/sklearn/model_selection/_validation.py\u001b[0m in \u001b[0;36mcross_validate\u001b[0;34m(estimator, X, y, groups, scoring, cv, n_jobs, verbose, fit_params, pre_dispatch, return_train_score, return_estimator, error_score)\u001b[0m\n\u001b[1;32m    234\u001b[0m \u001b[0;34m\u001b[0m\u001b[0m\n\u001b[1;32m    235\u001b[0m     \u001b[0mcv\u001b[0m \u001b[0;34m=\u001b[0m \u001b[0mcheck_cv\u001b[0m\u001b[0;34m(\u001b[0m\u001b[0mcv\u001b[0m\u001b[0;34m,\u001b[0m \u001b[0my\u001b[0m\u001b[0;34m,\u001b[0m \u001b[0mclassifier\u001b[0m\u001b[0;34m=\u001b[0m\u001b[0mis_classifier\u001b[0m\u001b[0;34m(\u001b[0m\u001b[0mestimator\u001b[0m\u001b[0;34m)\u001b[0m\u001b[0;34m)\u001b[0m\u001b[0;34m\u001b[0m\u001b[0;34m\u001b[0m\u001b[0m\n\u001b[0;32m--> 236\u001b[0;31m     \u001b[0mscorers\u001b[0m\u001b[0;34m,\u001b[0m \u001b[0m_\u001b[0m \u001b[0;34m=\u001b[0m \u001b[0m_check_multimetric_scoring\u001b[0m\u001b[0;34m(\u001b[0m\u001b[0mestimator\u001b[0m\u001b[0;34m,\u001b[0m \u001b[0mscoring\u001b[0m\u001b[0;34m=\u001b[0m\u001b[0mscoring\u001b[0m\u001b[0;34m)\u001b[0m\u001b[0;34m\u001b[0m\u001b[0;34m\u001b[0m\u001b[0m\n\u001b[0m\u001b[1;32m    237\u001b[0m \u001b[0;34m\u001b[0m\u001b[0m\n\u001b[1;32m    238\u001b[0m     \u001b[0;31m# We clone the estimator to make sure that all the folds are\u001b[0m\u001b[0;34m\u001b[0m\u001b[0;34m\u001b[0m\u001b[0;34m\u001b[0m\u001b[0m\n",
      "\u001b[0;32m/opt/anaconda3/lib/python3.8/site-packages/sklearn/metrics/_scorer.py\u001b[0m in \u001b[0;36m_check_multimetric_scoring\u001b[0;34m(estimator, scoring)\u001b[0m\n\u001b[1;32m    473\u001b[0m     if callable(scoring) or scoring is None or isinstance(scoring,\n\u001b[1;32m    474\u001b[0m                                                           str):\n\u001b[0;32m--> 475\u001b[0;31m         \u001b[0mscorers\u001b[0m \u001b[0;34m=\u001b[0m \u001b[0;34m{\u001b[0m\u001b[0;34m\"score\"\u001b[0m\u001b[0;34m:\u001b[0m \u001b[0mcheck_scoring\u001b[0m\u001b[0;34m(\u001b[0m\u001b[0mestimator\u001b[0m\u001b[0;34m,\u001b[0m \u001b[0mscoring\u001b[0m\u001b[0;34m=\u001b[0m\u001b[0mscoring\u001b[0m\u001b[0;34m)\u001b[0m\u001b[0;34m}\u001b[0m\u001b[0;34m\u001b[0m\u001b[0;34m\u001b[0m\u001b[0m\n\u001b[0m\u001b[1;32m    476\u001b[0m         \u001b[0;32mreturn\u001b[0m \u001b[0mscorers\u001b[0m\u001b[0;34m,\u001b[0m \u001b[0;32mFalse\u001b[0m\u001b[0;34m\u001b[0m\u001b[0;34m\u001b[0m\u001b[0m\n\u001b[1;32m    477\u001b[0m     \u001b[0;32melse\u001b[0m\u001b[0;34m:\u001b[0m\u001b[0;34m\u001b[0m\u001b[0;34m\u001b[0m\u001b[0m\n",
      "\u001b[0;32m/opt/anaconda3/lib/python3.8/site-packages/sklearn/utils/validation.py\u001b[0m in \u001b[0;36minner_f\u001b[0;34m(*args, **kwargs)\u001b[0m\n\u001b[1;32m     70\u001b[0m                           FutureWarning)\n\u001b[1;32m     71\u001b[0m         \u001b[0mkwargs\u001b[0m\u001b[0;34m.\u001b[0m\u001b[0mupdate\u001b[0m\u001b[0;34m(\u001b[0m\u001b[0;34m{\u001b[0m\u001b[0mk\u001b[0m\u001b[0;34m:\u001b[0m \u001b[0marg\u001b[0m \u001b[0;32mfor\u001b[0m \u001b[0mk\u001b[0m\u001b[0;34m,\u001b[0m \u001b[0marg\u001b[0m \u001b[0;32min\u001b[0m \u001b[0mzip\u001b[0m\u001b[0;34m(\u001b[0m\u001b[0msig\u001b[0m\u001b[0;34m.\u001b[0m\u001b[0mparameters\u001b[0m\u001b[0;34m,\u001b[0m \u001b[0margs\u001b[0m\u001b[0;34m)\u001b[0m\u001b[0;34m}\u001b[0m\u001b[0;34m)\u001b[0m\u001b[0;34m\u001b[0m\u001b[0;34m\u001b[0m\u001b[0m\n\u001b[0;32m---> 72\u001b[0;31m         \u001b[0;32mreturn\u001b[0m \u001b[0mf\u001b[0m\u001b[0;34m(\u001b[0m\u001b[0;34m**\u001b[0m\u001b[0mkwargs\u001b[0m\u001b[0;34m)\u001b[0m\u001b[0;34m\u001b[0m\u001b[0;34m\u001b[0m\u001b[0m\n\u001b[0m\u001b[1;32m     73\u001b[0m     \u001b[0;32mreturn\u001b[0m \u001b[0minner_f\u001b[0m\u001b[0;34m\u001b[0m\u001b[0;34m\u001b[0m\u001b[0m\n\u001b[1;32m     74\u001b[0m \u001b[0;34m\u001b[0m\u001b[0m\n",
      "\u001b[0;32m/opt/anaconda3/lib/python3.8/site-packages/sklearn/metrics/_scorer.py\u001b[0m in \u001b[0;36mcheck_scoring\u001b[0;34m(estimator, scoring, allow_none)\u001b[0m\n\u001b[1;32m    423\u001b[0m             \u001b[0;32mreturn\u001b[0m \u001b[0;32mNone\u001b[0m\u001b[0;34m\u001b[0m\u001b[0;34m\u001b[0m\u001b[0m\n\u001b[1;32m    424\u001b[0m         \u001b[0;32melse\u001b[0m\u001b[0;34m:\u001b[0m\u001b[0;34m\u001b[0m\u001b[0;34m\u001b[0m\u001b[0m\n\u001b[0;32m--> 425\u001b[0;31m             raise TypeError(\n\u001b[0m\u001b[1;32m    426\u001b[0m                 \u001b[0;34m\"If no scoring is specified, the estimator passed should \"\u001b[0m\u001b[0;34m\u001b[0m\u001b[0;34m\u001b[0m\u001b[0m\n\u001b[1;32m    427\u001b[0m                 \u001b[0;34m\"have a 'score' method. The estimator %r does not.\"\u001b[0m\u001b[0;34m\u001b[0m\u001b[0;34m\u001b[0m\u001b[0m\n",
      "\u001b[0;31mTypeError\u001b[0m: If no scoring is specified, the estimator passed should have a 'score' method. The estimator <tensorflow.python.keras.engine.sequential.Sequential object at 0x7f8ffcb08b20> does not."
     ]
    }
   ],
   "source": [
    "#bmod = baseline_model(5072)\n",
    "#kfold = StratifiedKFold(n_splits=3, shuffle=True,random_state=1)\n",
    "#estimator = KerasClassifier(build_fn=create_model(5072), epochs=10, batch_size=50, verbose=1)\n",
    "kfold = KFold(n_splits=10, shuffle=True)\n",
    "results = cross_validate(model, X, y, cv=kfold)\n",
    "#print(\"Baseline: %.2f%% (%.2f%%)\" % (results.mean()*100, results.std()*100))\n",
    "\n"
   ]
  },
  {
   "cell_type": "code",
   "execution_count": 200,
   "metadata": {},
   "outputs": [
    {
     "name": "stdout",
     "output_type": "stream",
     "text": [
      "[[1. 0. 0. ... 0. 0. 0.]\n",
      " [1. 0. 0. ... 0. 0. 0.]\n",
      " [1. 0. 0. ... 0. 0. 0.]\n",
      " ...\n",
      " [0. 0. 0. ... 0. 0. 0.]\n",
      " [0. 0. 0. ... 0. 0. 0.]\n",
      " [0. 0. 0. ... 0. 0. 0.]]\n"
     ]
    },
    {
     "ename": "KeyError",
     "evalue": "\"None of [Int64Index([   0,    1,    2,    3,    4,    5,    6,    7,    8,    9,\\n            ...\\n            2067, 2068, 2069, 2070, 2071, 2072, 2073, 2074, 2075, 2076],\\n           dtype='int64', length=1869)] are in the [columns]\"",
     "output_type": "error",
     "traceback": [
      "\u001b[0;31m---------------------------------------------------------------------------\u001b[0m",
      "\u001b[0;31mKeyError\u001b[0m                                  Traceback (most recent call last)",
      "\u001b[0;32m<ipython-input-200-d8fd15706af9>\u001b[0m in \u001b[0;36m<module>\u001b[0;34m\u001b[0m\n\u001b[1;32m      3\u001b[0m     \u001b[0mmodel\u001b[0m \u001b[0;34m=\u001b[0m \u001b[0mcreate_model\u001b[0m\u001b[0;34m(\u001b[0m\u001b[0;36m5072\u001b[0m\u001b[0;34m)\u001b[0m\u001b[0;34m\u001b[0m\u001b[0;34m\u001b[0m\u001b[0m\n\u001b[1;32m      4\u001b[0m     \u001b[0mprint\u001b[0m\u001b[0;34m(\u001b[0m\u001b[0my\u001b[0m\u001b[0;34m[\u001b[0m\u001b[0mtrain\u001b[0m\u001b[0;34m]\u001b[0m\u001b[0;34m)\u001b[0m\u001b[0;34m\u001b[0m\u001b[0;34m\u001b[0m\u001b[0m\n\u001b[0;32m----> 5\u001b[0;31m     \u001b[0mmodel\u001b[0m\u001b[0;34m.\u001b[0m\u001b[0mfit\u001b[0m\u001b[0;34m(\u001b[0m\u001b[0mX\u001b[0m\u001b[0;34m[\u001b[0m\u001b[0mtrain\u001b[0m\u001b[0;34m]\u001b[0m\u001b[0;34m,\u001b[0m\u001b[0my\u001b[0m\u001b[0;34m[\u001b[0m\u001b[0mtrain\u001b[0m\u001b[0;34m]\u001b[0m\u001b[0;34m,\u001b[0m \u001b[0mepochs\u001b[0m\u001b[0;34m=\u001b[0m\u001b[0;36m10\u001b[0m\u001b[0;34m,\u001b[0m \u001b[0mbatch_size\u001b[0m\u001b[0;34m=\u001b[0m\u001b[0;36m50\u001b[0m\u001b[0;34m,\u001b[0m \u001b[0mverbose\u001b[0m\u001b[0;34m=\u001b[0m\u001b[0;36m1\u001b[0m\u001b[0;34m)\u001b[0m\u001b[0;34m\u001b[0m\u001b[0;34m\u001b[0m\u001b[0m\n\u001b[0m\u001b[1;32m      6\u001b[0m     \u001b[0mscores\u001b[0m \u001b[0;34m=\u001b[0m \u001b[0mmodel\u001b[0m\u001b[0;34m.\u001b[0m\u001b[0mevaluate\u001b[0m\u001b[0;34m(\u001b[0m\u001b[0mX\u001b[0m\u001b[0;34m[\u001b[0m\u001b[0mtest\u001b[0m\u001b[0;34m]\u001b[0m\u001b[0;34m,\u001b[0m \u001b[0my\u001b[0m\u001b[0;34m[\u001b[0m\u001b[0mtest\u001b[0m\u001b[0;34m]\u001b[0m\u001b[0;34m,\u001b[0m \u001b[0mverbose\u001b[0m\u001b[0;34m=\u001b[0m\u001b[0;36m1\u001b[0m\u001b[0;34m)\u001b[0m\u001b[0;34m\u001b[0m\u001b[0;34m\u001b[0m\u001b[0m\n\u001b[1;32m      7\u001b[0m     \u001b[0mprint\u001b[0m\u001b[0;34m(\u001b[0m\u001b[0;34m\"%s: %.2f%%\"\u001b[0m \u001b[0;34m%\u001b[0m \u001b[0;34m(\u001b[0m\u001b[0mmodel\u001b[0m\u001b[0;34m.\u001b[0m\u001b[0mmetrics_names\u001b[0m\u001b[0;34m[\u001b[0m\u001b[0;36m1\u001b[0m\u001b[0;34m]\u001b[0m\u001b[0;34m,\u001b[0m \u001b[0mscores\u001b[0m\u001b[0;34m[\u001b[0m\u001b[0;36m1\u001b[0m\u001b[0;34m]\u001b[0m\u001b[0;34m*\u001b[0m\u001b[0;36m100\u001b[0m\u001b[0;34m)\u001b[0m\u001b[0;34m)\u001b[0m\u001b[0;34m\u001b[0m\u001b[0;34m\u001b[0m\u001b[0m\n",
      "\u001b[0;32m/opt/anaconda3/lib/python3.8/site-packages/pandas/core/frame.py\u001b[0m in \u001b[0;36m__getitem__\u001b[0;34m(self, key)\u001b[0m\n\u001b[1;32m   2906\u001b[0m             \u001b[0;32mif\u001b[0m \u001b[0mis_iterator\u001b[0m\u001b[0;34m(\u001b[0m\u001b[0mkey\u001b[0m\u001b[0;34m)\u001b[0m\u001b[0;34m:\u001b[0m\u001b[0;34m\u001b[0m\u001b[0;34m\u001b[0m\u001b[0m\n\u001b[1;32m   2907\u001b[0m                 \u001b[0mkey\u001b[0m \u001b[0;34m=\u001b[0m \u001b[0mlist\u001b[0m\u001b[0;34m(\u001b[0m\u001b[0mkey\u001b[0m\u001b[0;34m)\u001b[0m\u001b[0;34m\u001b[0m\u001b[0;34m\u001b[0m\u001b[0m\n\u001b[0;32m-> 2908\u001b[0;31m             \u001b[0mindexer\u001b[0m \u001b[0;34m=\u001b[0m \u001b[0mself\u001b[0m\u001b[0;34m.\u001b[0m\u001b[0mloc\u001b[0m\u001b[0;34m.\u001b[0m\u001b[0m_get_listlike_indexer\u001b[0m\u001b[0;34m(\u001b[0m\u001b[0mkey\u001b[0m\u001b[0;34m,\u001b[0m \u001b[0maxis\u001b[0m\u001b[0;34m=\u001b[0m\u001b[0;36m1\u001b[0m\u001b[0;34m,\u001b[0m \u001b[0mraise_missing\u001b[0m\u001b[0;34m=\u001b[0m\u001b[0;32mTrue\u001b[0m\u001b[0;34m)\u001b[0m\u001b[0;34m[\u001b[0m\u001b[0;36m1\u001b[0m\u001b[0;34m]\u001b[0m\u001b[0;34m\u001b[0m\u001b[0;34m\u001b[0m\u001b[0m\n\u001b[0m\u001b[1;32m   2909\u001b[0m \u001b[0;34m\u001b[0m\u001b[0m\n\u001b[1;32m   2910\u001b[0m         \u001b[0;31m# take() does not accept boolean indexers\u001b[0m\u001b[0;34m\u001b[0m\u001b[0;34m\u001b[0m\u001b[0;34m\u001b[0m\u001b[0m\n",
      "\u001b[0;32m/opt/anaconda3/lib/python3.8/site-packages/pandas/core/indexing.py\u001b[0m in \u001b[0;36m_get_listlike_indexer\u001b[0;34m(self, key, axis, raise_missing)\u001b[0m\n\u001b[1;32m   1252\u001b[0m             \u001b[0mkeyarr\u001b[0m\u001b[0;34m,\u001b[0m \u001b[0mindexer\u001b[0m\u001b[0;34m,\u001b[0m \u001b[0mnew_indexer\u001b[0m \u001b[0;34m=\u001b[0m \u001b[0max\u001b[0m\u001b[0;34m.\u001b[0m\u001b[0m_reindex_non_unique\u001b[0m\u001b[0;34m(\u001b[0m\u001b[0mkeyarr\u001b[0m\u001b[0;34m)\u001b[0m\u001b[0;34m\u001b[0m\u001b[0;34m\u001b[0m\u001b[0m\n\u001b[1;32m   1253\u001b[0m \u001b[0;34m\u001b[0m\u001b[0m\n\u001b[0;32m-> 1254\u001b[0;31m         \u001b[0mself\u001b[0m\u001b[0;34m.\u001b[0m\u001b[0m_validate_read_indexer\u001b[0m\u001b[0;34m(\u001b[0m\u001b[0mkeyarr\u001b[0m\u001b[0;34m,\u001b[0m \u001b[0mindexer\u001b[0m\u001b[0;34m,\u001b[0m \u001b[0maxis\u001b[0m\u001b[0;34m,\u001b[0m \u001b[0mraise_missing\u001b[0m\u001b[0;34m=\u001b[0m\u001b[0mraise_missing\u001b[0m\u001b[0;34m)\u001b[0m\u001b[0;34m\u001b[0m\u001b[0;34m\u001b[0m\u001b[0m\n\u001b[0m\u001b[1;32m   1255\u001b[0m         \u001b[0;32mreturn\u001b[0m \u001b[0mkeyarr\u001b[0m\u001b[0;34m,\u001b[0m \u001b[0mindexer\u001b[0m\u001b[0;34m\u001b[0m\u001b[0;34m\u001b[0m\u001b[0m\n\u001b[1;32m   1256\u001b[0m \u001b[0;34m\u001b[0m\u001b[0m\n",
      "\u001b[0;32m/opt/anaconda3/lib/python3.8/site-packages/pandas/core/indexing.py\u001b[0m in \u001b[0;36m_validate_read_indexer\u001b[0;34m(self, key, indexer, axis, raise_missing)\u001b[0m\n\u001b[1;32m   1296\u001b[0m             \u001b[0;32mif\u001b[0m \u001b[0mmissing\u001b[0m \u001b[0;34m==\u001b[0m \u001b[0mlen\u001b[0m\u001b[0;34m(\u001b[0m\u001b[0mindexer\u001b[0m\u001b[0;34m)\u001b[0m\u001b[0;34m:\u001b[0m\u001b[0;34m\u001b[0m\u001b[0;34m\u001b[0m\u001b[0m\n\u001b[1;32m   1297\u001b[0m                 \u001b[0maxis_name\u001b[0m \u001b[0;34m=\u001b[0m \u001b[0mself\u001b[0m\u001b[0;34m.\u001b[0m\u001b[0mobj\u001b[0m\u001b[0;34m.\u001b[0m\u001b[0m_get_axis_name\u001b[0m\u001b[0;34m(\u001b[0m\u001b[0maxis\u001b[0m\u001b[0;34m)\u001b[0m\u001b[0;34m\u001b[0m\u001b[0;34m\u001b[0m\u001b[0m\n\u001b[0;32m-> 1298\u001b[0;31m                 \u001b[0;32mraise\u001b[0m \u001b[0mKeyError\u001b[0m\u001b[0;34m(\u001b[0m\u001b[0;34mf\"None of [{key}] are in the [{axis_name}]\"\u001b[0m\u001b[0;34m)\u001b[0m\u001b[0;34m\u001b[0m\u001b[0;34m\u001b[0m\u001b[0m\n\u001b[0m\u001b[1;32m   1299\u001b[0m \u001b[0;34m\u001b[0m\u001b[0m\n\u001b[1;32m   1300\u001b[0m             \u001b[0;31m# We (temporarily) allow for some missing keys with .loc, except in\u001b[0m\u001b[0;34m\u001b[0m\u001b[0;34m\u001b[0m\u001b[0;34m\u001b[0m\u001b[0m\n",
      "\u001b[0;31mKeyError\u001b[0m: \"None of [Int64Index([   0,    1,    2,    3,    4,    5,    6,    7,    8,    9,\\n            ...\\n            2067, 2068, 2069, 2070, 2071, 2072, 2073, 2074, 2075, 2076],\\n           dtype='int64', length=1869)] are in the [columns]\""
     ]
    }
   ],
   "source": [
    "cvscores = []\n",
    "for train, test in kfold.split(X):\n",
    "    model = create_model(5072)\n",
    "    print(y[train])\n",
    "    model.fit(X[train],y[train], epochs=10, batch_size=50, verbose=1)\n",
    "    scores = model.evaluate(X[test], y[test], verbose=1)\n",
    "    print(\"%s: %.2f%%\" % (model.metrics_names[1], scores[1]*100))\n",
    "    cvscores.append(scores[1] * 100)\n",
    "print(\"%.2f%% (+/- %.2f%%)\" % (numpy.mean(cvscores), numpy.std(cvscores)))"
   ]
  },
  {
   "cell_type": "code",
   "execution_count": 148,
   "metadata": {},
   "outputs": [],
   "source": [
    "n_inputs = X35.shape[1]\n",
    "\n",
    "model = keras.Sequential()\n",
    "model.add(keras.layers.Dense(2500, input_dim=n_inputs, kernel_initializer='he_uniform', activation='relu'))\n",
    "model.add(keras.layers.Dense(1000, input_dim=n_inputs, kernel_initializer='he_uniform', activation='relu'))\n",
    "model.add(keras.layers.Dense(500, input_dim=n_inputs, kernel_initializer='he_uniform', activation='relu'))\n",
    "model.add(keras.layers.Dense(75, input_dim=n_inputs, activation='softmax'))\n",
    "\n",
    "\n",
    "\n",
    "model.compile(optimizer = 'adam', loss= 'categorical_crossentropy', \n",
    "                  metrics=['accuracy', 'Precision','Recall', 'mae', 'mse'])\n",
    "\n"
   ]
  },
  {
   "cell_type": "code",
   "execution_count": 149,
   "metadata": {},
   "outputs": [
    {
     "name": "stdout",
     "output_type": "stream",
     "text": [
      "Epoch 1/5\n"
     ]
    },
    {
     "ename": "ValueError",
     "evalue": "in user code:\n\n    /opt/anaconda3/lib/python3.8/site-packages/tensorflow/python/keras/engine/training.py:805 train_function  *\n        return step_function(self, iterator)\n    /opt/anaconda3/lib/python3.8/site-packages/tensorflow/python/keras/engine/training.py:795 step_function  **\n        outputs = model.distribute_strategy.run(run_step, args=(data,))\n    /opt/anaconda3/lib/python3.8/site-packages/tensorflow/python/distribute/distribute_lib.py:1259 run\n        return self._extended.call_for_each_replica(fn, args=args, kwargs=kwargs)\n    /opt/anaconda3/lib/python3.8/site-packages/tensorflow/python/distribute/distribute_lib.py:2730 call_for_each_replica\n        return self._call_for_each_replica(fn, args, kwargs)\n    /opt/anaconda3/lib/python3.8/site-packages/tensorflow/python/distribute/distribute_lib.py:3417 _call_for_each_replica\n        return fn(*args, **kwargs)\n    /opt/anaconda3/lib/python3.8/site-packages/tensorflow/python/keras/engine/training.py:788 run_step  **\n        outputs = model.train_step(data)\n    /opt/anaconda3/lib/python3.8/site-packages/tensorflow/python/keras/engine/training.py:755 train_step\n        loss = self.compiled_loss(\n    /opt/anaconda3/lib/python3.8/site-packages/tensorflow/python/keras/engine/compile_utils.py:203 __call__\n        loss_value = loss_obj(y_t, y_p, sample_weight=sw)\n    /opt/anaconda3/lib/python3.8/site-packages/tensorflow/python/keras/losses.py:152 __call__\n        losses = call_fn(y_true, y_pred)\n    /opt/anaconda3/lib/python3.8/site-packages/tensorflow/python/keras/losses.py:256 call  **\n        return ag_fn(y_true, y_pred, **self._fn_kwargs)\n    /opt/anaconda3/lib/python3.8/site-packages/tensorflow/python/util/dispatch.py:201 wrapper\n        return target(*args, **kwargs)\n    /opt/anaconda3/lib/python3.8/site-packages/tensorflow/python/keras/losses.py:1537 categorical_crossentropy\n        return K.categorical_crossentropy(y_true, y_pred, from_logits=from_logits)\n    /opt/anaconda3/lib/python3.8/site-packages/tensorflow/python/util/dispatch.py:201 wrapper\n        return target(*args, **kwargs)\n    /opt/anaconda3/lib/python3.8/site-packages/tensorflow/python/keras/backend.py:4833 categorical_crossentropy\n        target.shape.assert_is_compatible_with(output.shape)\n    /opt/anaconda3/lib/python3.8/site-packages/tensorflow/python/framework/tensor_shape.py:1134 assert_is_compatible_with\n        raise ValueError(\"Shapes %s and %s are incompatible\" % (self, other))\n\n    ValueError: Shapes (None, 1) and (None, 75) are incompatible\n",
     "output_type": "error",
     "traceback": [
      "\u001b[0;31m---------------------------------------------------------------------------\u001b[0m",
      "\u001b[0;31mValueError\u001b[0m                                Traceback (most recent call last)",
      "\u001b[0;32m<ipython-input-149-30fb0d4449d0>\u001b[0m in \u001b[0;36m<module>\u001b[0;34m\u001b[0m\n\u001b[0;32m----> 1\u001b[0;31m \u001b[0mmhist\u001b[0m \u001b[0;34m=\u001b[0m \u001b[0mmodel\u001b[0m\u001b[0;34m.\u001b[0m\u001b[0mfit\u001b[0m\u001b[0;34m(\u001b[0m\u001b[0mX\u001b[0m\u001b[0;34m,\u001b[0m \u001b[0my\u001b[0m\u001b[0;34m,\u001b[0m \u001b[0mepochs\u001b[0m\u001b[0;34m=\u001b[0m\u001b[0;36m5\u001b[0m\u001b[0;34m,\u001b[0m \u001b[0mbatch_size\u001b[0m\u001b[0;34m=\u001b[0m\u001b[0;36m50\u001b[0m\u001b[0;34m)\u001b[0m\u001b[0;34m\u001b[0m\u001b[0;34m\u001b[0m\u001b[0m\n\u001b[0m\u001b[1;32m      2\u001b[0m \u001b[0mcvscores\u001b[0m \u001b[0;34m=\u001b[0m \u001b[0mmodel\u001b[0m\u001b[0;34m.\u001b[0m\u001b[0mevaluate\u001b[0m\u001b[0;34m(\u001b[0m\u001b[0;34m)\u001b[0m\u001b[0;34m\u001b[0m\u001b[0;34m\u001b[0m\u001b[0m\n",
      "\u001b[0;32m/opt/anaconda3/lib/python3.8/site-packages/tensorflow/python/keras/engine/training.py\u001b[0m in \u001b[0;36mfit\u001b[0;34m(self, x, y, batch_size, epochs, verbose, callbacks, validation_split, validation_data, shuffle, class_weight, sample_weight, initial_epoch, steps_per_epoch, validation_steps, validation_batch_size, validation_freq, max_queue_size, workers, use_multiprocessing)\u001b[0m\n\u001b[1;32m   1098\u001b[0m                 _r=1):\n\u001b[1;32m   1099\u001b[0m               \u001b[0mcallbacks\u001b[0m\u001b[0;34m.\u001b[0m\u001b[0mon_train_batch_begin\u001b[0m\u001b[0;34m(\u001b[0m\u001b[0mstep\u001b[0m\u001b[0;34m)\u001b[0m\u001b[0;34m\u001b[0m\u001b[0;34m\u001b[0m\u001b[0m\n\u001b[0;32m-> 1100\u001b[0;31m               \u001b[0mtmp_logs\u001b[0m \u001b[0;34m=\u001b[0m \u001b[0mself\u001b[0m\u001b[0;34m.\u001b[0m\u001b[0mtrain_function\u001b[0m\u001b[0;34m(\u001b[0m\u001b[0miterator\u001b[0m\u001b[0;34m)\u001b[0m\u001b[0;34m\u001b[0m\u001b[0;34m\u001b[0m\u001b[0m\n\u001b[0m\u001b[1;32m   1101\u001b[0m               \u001b[0;32mif\u001b[0m \u001b[0mdata_handler\u001b[0m\u001b[0;34m.\u001b[0m\u001b[0mshould_sync\u001b[0m\u001b[0;34m:\u001b[0m\u001b[0;34m\u001b[0m\u001b[0;34m\u001b[0m\u001b[0m\n\u001b[1;32m   1102\u001b[0m                 \u001b[0mcontext\u001b[0m\u001b[0;34m.\u001b[0m\u001b[0masync_wait\u001b[0m\u001b[0;34m(\u001b[0m\u001b[0;34m)\u001b[0m\u001b[0;34m\u001b[0m\u001b[0;34m\u001b[0m\u001b[0m\n",
      "\u001b[0;32m/opt/anaconda3/lib/python3.8/site-packages/tensorflow/python/eager/def_function.py\u001b[0m in \u001b[0;36m__call__\u001b[0;34m(self, *args, **kwds)\u001b[0m\n\u001b[1;32m    826\u001b[0m     \u001b[0mtracing_count\u001b[0m \u001b[0;34m=\u001b[0m \u001b[0mself\u001b[0m\u001b[0;34m.\u001b[0m\u001b[0mexperimental_get_tracing_count\u001b[0m\u001b[0;34m(\u001b[0m\u001b[0;34m)\u001b[0m\u001b[0;34m\u001b[0m\u001b[0;34m\u001b[0m\u001b[0m\n\u001b[1;32m    827\u001b[0m     \u001b[0;32mwith\u001b[0m \u001b[0mtrace\u001b[0m\u001b[0;34m.\u001b[0m\u001b[0mTrace\u001b[0m\u001b[0;34m(\u001b[0m\u001b[0mself\u001b[0m\u001b[0;34m.\u001b[0m\u001b[0m_name\u001b[0m\u001b[0;34m)\u001b[0m \u001b[0;32mas\u001b[0m \u001b[0mtm\u001b[0m\u001b[0;34m:\u001b[0m\u001b[0;34m\u001b[0m\u001b[0;34m\u001b[0m\u001b[0m\n\u001b[0;32m--> 828\u001b[0;31m       \u001b[0mresult\u001b[0m \u001b[0;34m=\u001b[0m \u001b[0mself\u001b[0m\u001b[0;34m.\u001b[0m\u001b[0m_call\u001b[0m\u001b[0;34m(\u001b[0m\u001b[0;34m*\u001b[0m\u001b[0margs\u001b[0m\u001b[0;34m,\u001b[0m \u001b[0;34m**\u001b[0m\u001b[0mkwds\u001b[0m\u001b[0;34m)\u001b[0m\u001b[0;34m\u001b[0m\u001b[0;34m\u001b[0m\u001b[0m\n\u001b[0m\u001b[1;32m    829\u001b[0m       \u001b[0mcompiler\u001b[0m \u001b[0;34m=\u001b[0m \u001b[0;34m\"xla\"\u001b[0m \u001b[0;32mif\u001b[0m \u001b[0mself\u001b[0m\u001b[0;34m.\u001b[0m\u001b[0m_experimental_compile\u001b[0m \u001b[0;32melse\u001b[0m \u001b[0;34m\"nonXla\"\u001b[0m\u001b[0;34m\u001b[0m\u001b[0;34m\u001b[0m\u001b[0m\n\u001b[1;32m    830\u001b[0m       \u001b[0mnew_tracing_count\u001b[0m \u001b[0;34m=\u001b[0m \u001b[0mself\u001b[0m\u001b[0;34m.\u001b[0m\u001b[0mexperimental_get_tracing_count\u001b[0m\u001b[0;34m(\u001b[0m\u001b[0;34m)\u001b[0m\u001b[0;34m\u001b[0m\u001b[0;34m\u001b[0m\u001b[0m\n",
      "\u001b[0;32m/opt/anaconda3/lib/python3.8/site-packages/tensorflow/python/eager/def_function.py\u001b[0m in \u001b[0;36m_call\u001b[0;34m(self, *args, **kwds)\u001b[0m\n\u001b[1;32m    869\u001b[0m       \u001b[0;31m# This is the first call of __call__, so we have to initialize.\u001b[0m\u001b[0;34m\u001b[0m\u001b[0;34m\u001b[0m\u001b[0;34m\u001b[0m\u001b[0m\n\u001b[1;32m    870\u001b[0m       \u001b[0minitializers\u001b[0m \u001b[0;34m=\u001b[0m \u001b[0;34m[\u001b[0m\u001b[0;34m]\u001b[0m\u001b[0;34m\u001b[0m\u001b[0;34m\u001b[0m\u001b[0m\n\u001b[0;32m--> 871\u001b[0;31m       \u001b[0mself\u001b[0m\u001b[0;34m.\u001b[0m\u001b[0m_initialize\u001b[0m\u001b[0;34m(\u001b[0m\u001b[0margs\u001b[0m\u001b[0;34m,\u001b[0m \u001b[0mkwds\u001b[0m\u001b[0;34m,\u001b[0m \u001b[0madd_initializers_to\u001b[0m\u001b[0;34m=\u001b[0m\u001b[0minitializers\u001b[0m\u001b[0;34m)\u001b[0m\u001b[0;34m\u001b[0m\u001b[0;34m\u001b[0m\u001b[0m\n\u001b[0m\u001b[1;32m    872\u001b[0m     \u001b[0;32mfinally\u001b[0m\u001b[0;34m:\u001b[0m\u001b[0;34m\u001b[0m\u001b[0;34m\u001b[0m\u001b[0m\n\u001b[1;32m    873\u001b[0m       \u001b[0;31m# At this point we know that the initialization is complete (or less\u001b[0m\u001b[0;34m\u001b[0m\u001b[0;34m\u001b[0m\u001b[0;34m\u001b[0m\u001b[0m\n",
      "\u001b[0;32m/opt/anaconda3/lib/python3.8/site-packages/tensorflow/python/eager/def_function.py\u001b[0m in \u001b[0;36m_initialize\u001b[0;34m(self, args, kwds, add_initializers_to)\u001b[0m\n\u001b[1;32m    723\u001b[0m     \u001b[0mself\u001b[0m\u001b[0;34m.\u001b[0m\u001b[0m_graph_deleter\u001b[0m \u001b[0;34m=\u001b[0m \u001b[0mFunctionDeleter\u001b[0m\u001b[0;34m(\u001b[0m\u001b[0mself\u001b[0m\u001b[0;34m.\u001b[0m\u001b[0m_lifted_initializer_graph\u001b[0m\u001b[0;34m)\u001b[0m\u001b[0;34m\u001b[0m\u001b[0;34m\u001b[0m\u001b[0m\n\u001b[1;32m    724\u001b[0m     self._concrete_stateful_fn = (\n\u001b[0;32m--> 725\u001b[0;31m         self._stateful_fn._get_concrete_function_internal_garbage_collected(  # pylint: disable=protected-access\n\u001b[0m\u001b[1;32m    726\u001b[0m             *args, **kwds))\n\u001b[1;32m    727\u001b[0m \u001b[0;34m\u001b[0m\u001b[0m\n",
      "\u001b[0;32m/opt/anaconda3/lib/python3.8/site-packages/tensorflow/python/eager/function.py\u001b[0m in \u001b[0;36m_get_concrete_function_internal_garbage_collected\u001b[0;34m(self, *args, **kwargs)\u001b[0m\n\u001b[1;32m   2967\u001b[0m       \u001b[0margs\u001b[0m\u001b[0;34m,\u001b[0m \u001b[0mkwargs\u001b[0m \u001b[0;34m=\u001b[0m \u001b[0;32mNone\u001b[0m\u001b[0;34m,\u001b[0m \u001b[0;32mNone\u001b[0m\u001b[0;34m\u001b[0m\u001b[0;34m\u001b[0m\u001b[0m\n\u001b[1;32m   2968\u001b[0m     \u001b[0;32mwith\u001b[0m \u001b[0mself\u001b[0m\u001b[0;34m.\u001b[0m\u001b[0m_lock\u001b[0m\u001b[0;34m:\u001b[0m\u001b[0;34m\u001b[0m\u001b[0;34m\u001b[0m\u001b[0m\n\u001b[0;32m-> 2969\u001b[0;31m       \u001b[0mgraph_function\u001b[0m\u001b[0;34m,\u001b[0m \u001b[0m_\u001b[0m \u001b[0;34m=\u001b[0m \u001b[0mself\u001b[0m\u001b[0;34m.\u001b[0m\u001b[0m_maybe_define_function\u001b[0m\u001b[0;34m(\u001b[0m\u001b[0margs\u001b[0m\u001b[0;34m,\u001b[0m \u001b[0mkwargs\u001b[0m\u001b[0;34m)\u001b[0m\u001b[0;34m\u001b[0m\u001b[0;34m\u001b[0m\u001b[0m\n\u001b[0m\u001b[1;32m   2970\u001b[0m     \u001b[0;32mreturn\u001b[0m \u001b[0mgraph_function\u001b[0m\u001b[0;34m\u001b[0m\u001b[0;34m\u001b[0m\u001b[0m\n\u001b[1;32m   2971\u001b[0m \u001b[0;34m\u001b[0m\u001b[0m\n",
      "\u001b[0;32m/opt/anaconda3/lib/python3.8/site-packages/tensorflow/python/eager/function.py\u001b[0m in \u001b[0;36m_maybe_define_function\u001b[0;34m(self, args, kwargs)\u001b[0m\n\u001b[1;32m   3359\u001b[0m \u001b[0;34m\u001b[0m\u001b[0m\n\u001b[1;32m   3360\u001b[0m           \u001b[0mself\u001b[0m\u001b[0;34m.\u001b[0m\u001b[0m_function_cache\u001b[0m\u001b[0;34m.\u001b[0m\u001b[0mmissed\u001b[0m\u001b[0;34m.\u001b[0m\u001b[0madd\u001b[0m\u001b[0;34m(\u001b[0m\u001b[0mcall_context_key\u001b[0m\u001b[0;34m)\u001b[0m\u001b[0;34m\u001b[0m\u001b[0;34m\u001b[0m\u001b[0m\n\u001b[0;32m-> 3361\u001b[0;31m           \u001b[0mgraph_function\u001b[0m \u001b[0;34m=\u001b[0m \u001b[0mself\u001b[0m\u001b[0;34m.\u001b[0m\u001b[0m_create_graph_function\u001b[0m\u001b[0;34m(\u001b[0m\u001b[0margs\u001b[0m\u001b[0;34m,\u001b[0m \u001b[0mkwargs\u001b[0m\u001b[0;34m)\u001b[0m\u001b[0;34m\u001b[0m\u001b[0;34m\u001b[0m\u001b[0m\n\u001b[0m\u001b[1;32m   3362\u001b[0m           \u001b[0mself\u001b[0m\u001b[0;34m.\u001b[0m\u001b[0m_function_cache\u001b[0m\u001b[0;34m.\u001b[0m\u001b[0mprimary\u001b[0m\u001b[0;34m[\u001b[0m\u001b[0mcache_key\u001b[0m\u001b[0;34m]\u001b[0m \u001b[0;34m=\u001b[0m \u001b[0mgraph_function\u001b[0m\u001b[0;34m\u001b[0m\u001b[0;34m\u001b[0m\u001b[0m\n\u001b[1;32m   3363\u001b[0m \u001b[0;34m\u001b[0m\u001b[0m\n",
      "\u001b[0;32m/opt/anaconda3/lib/python3.8/site-packages/tensorflow/python/eager/function.py\u001b[0m in \u001b[0;36m_create_graph_function\u001b[0;34m(self, args, kwargs, override_flat_arg_shapes)\u001b[0m\n\u001b[1;32m   3194\u001b[0m     \u001b[0marg_names\u001b[0m \u001b[0;34m=\u001b[0m \u001b[0mbase_arg_names\u001b[0m \u001b[0;34m+\u001b[0m \u001b[0mmissing_arg_names\u001b[0m\u001b[0;34m\u001b[0m\u001b[0;34m\u001b[0m\u001b[0m\n\u001b[1;32m   3195\u001b[0m     graph_function = ConcreteFunction(\n\u001b[0;32m-> 3196\u001b[0;31m         func_graph_module.func_graph_from_py_func(\n\u001b[0m\u001b[1;32m   3197\u001b[0m             \u001b[0mself\u001b[0m\u001b[0;34m.\u001b[0m\u001b[0m_name\u001b[0m\u001b[0;34m,\u001b[0m\u001b[0;34m\u001b[0m\u001b[0;34m\u001b[0m\u001b[0m\n\u001b[1;32m   3198\u001b[0m             \u001b[0mself\u001b[0m\u001b[0;34m.\u001b[0m\u001b[0m_python_function\u001b[0m\u001b[0;34m,\u001b[0m\u001b[0;34m\u001b[0m\u001b[0;34m\u001b[0m\u001b[0m\n",
      "\u001b[0;32m/opt/anaconda3/lib/python3.8/site-packages/tensorflow/python/framework/func_graph.py\u001b[0m in \u001b[0;36mfunc_graph_from_py_func\u001b[0;34m(name, python_func, args, kwargs, signature, func_graph, autograph, autograph_options, add_control_dependencies, arg_names, op_return_value, collections, capture_by_value, override_flat_arg_shapes)\u001b[0m\n\u001b[1;32m    988\u001b[0m         \u001b[0m_\u001b[0m\u001b[0;34m,\u001b[0m \u001b[0moriginal_func\u001b[0m \u001b[0;34m=\u001b[0m \u001b[0mtf_decorator\u001b[0m\u001b[0;34m.\u001b[0m\u001b[0munwrap\u001b[0m\u001b[0;34m(\u001b[0m\u001b[0mpython_func\u001b[0m\u001b[0;34m)\u001b[0m\u001b[0;34m\u001b[0m\u001b[0;34m\u001b[0m\u001b[0m\n\u001b[1;32m    989\u001b[0m \u001b[0;34m\u001b[0m\u001b[0m\n\u001b[0;32m--> 990\u001b[0;31m       \u001b[0mfunc_outputs\u001b[0m \u001b[0;34m=\u001b[0m \u001b[0mpython_func\u001b[0m\u001b[0;34m(\u001b[0m\u001b[0;34m*\u001b[0m\u001b[0mfunc_args\u001b[0m\u001b[0;34m,\u001b[0m \u001b[0;34m**\u001b[0m\u001b[0mfunc_kwargs\u001b[0m\u001b[0;34m)\u001b[0m\u001b[0;34m\u001b[0m\u001b[0;34m\u001b[0m\u001b[0m\n\u001b[0m\u001b[1;32m    991\u001b[0m \u001b[0;34m\u001b[0m\u001b[0m\n\u001b[1;32m    992\u001b[0m       \u001b[0;31m# invariant: `func_outputs` contains only Tensors, CompositeTensors,\u001b[0m\u001b[0;34m\u001b[0m\u001b[0;34m\u001b[0m\u001b[0;34m\u001b[0m\u001b[0m\n",
      "\u001b[0;32m/opt/anaconda3/lib/python3.8/site-packages/tensorflow/python/eager/def_function.py\u001b[0m in \u001b[0;36mwrapped_fn\u001b[0;34m(*args, **kwds)\u001b[0m\n\u001b[1;32m    632\u001b[0m             \u001b[0mxla_context\u001b[0m\u001b[0;34m.\u001b[0m\u001b[0mExit\u001b[0m\u001b[0;34m(\u001b[0m\u001b[0;34m)\u001b[0m\u001b[0;34m\u001b[0m\u001b[0;34m\u001b[0m\u001b[0m\n\u001b[1;32m    633\u001b[0m         \u001b[0;32melse\u001b[0m\u001b[0;34m:\u001b[0m\u001b[0;34m\u001b[0m\u001b[0;34m\u001b[0m\u001b[0m\n\u001b[0;32m--> 634\u001b[0;31m           \u001b[0mout\u001b[0m \u001b[0;34m=\u001b[0m \u001b[0mweak_wrapped_fn\u001b[0m\u001b[0;34m(\u001b[0m\u001b[0;34m)\u001b[0m\u001b[0;34m.\u001b[0m\u001b[0m__wrapped__\u001b[0m\u001b[0;34m(\u001b[0m\u001b[0;34m*\u001b[0m\u001b[0margs\u001b[0m\u001b[0;34m,\u001b[0m \u001b[0;34m**\u001b[0m\u001b[0mkwds\u001b[0m\u001b[0;34m)\u001b[0m\u001b[0;34m\u001b[0m\u001b[0;34m\u001b[0m\u001b[0m\n\u001b[0m\u001b[1;32m    635\u001b[0m         \u001b[0;32mreturn\u001b[0m \u001b[0mout\u001b[0m\u001b[0;34m\u001b[0m\u001b[0;34m\u001b[0m\u001b[0m\n\u001b[1;32m    636\u001b[0m \u001b[0;34m\u001b[0m\u001b[0m\n",
      "\u001b[0;32m/opt/anaconda3/lib/python3.8/site-packages/tensorflow/python/framework/func_graph.py\u001b[0m in \u001b[0;36mwrapper\u001b[0;34m(*args, **kwargs)\u001b[0m\n\u001b[1;32m    975\u001b[0m           \u001b[0;32mexcept\u001b[0m \u001b[0mException\u001b[0m \u001b[0;32mas\u001b[0m \u001b[0me\u001b[0m\u001b[0;34m:\u001b[0m  \u001b[0;31m# pylint:disable=broad-except\u001b[0m\u001b[0;34m\u001b[0m\u001b[0;34m\u001b[0m\u001b[0m\n\u001b[1;32m    976\u001b[0m             \u001b[0;32mif\u001b[0m \u001b[0mhasattr\u001b[0m\u001b[0;34m(\u001b[0m\u001b[0me\u001b[0m\u001b[0;34m,\u001b[0m \u001b[0;34m\"ag_error_metadata\"\u001b[0m\u001b[0;34m)\u001b[0m\u001b[0;34m:\u001b[0m\u001b[0;34m\u001b[0m\u001b[0;34m\u001b[0m\u001b[0m\n\u001b[0;32m--> 977\u001b[0;31m               \u001b[0;32mraise\u001b[0m \u001b[0me\u001b[0m\u001b[0;34m.\u001b[0m\u001b[0mag_error_metadata\u001b[0m\u001b[0;34m.\u001b[0m\u001b[0mto_exception\u001b[0m\u001b[0;34m(\u001b[0m\u001b[0me\u001b[0m\u001b[0;34m)\u001b[0m\u001b[0;34m\u001b[0m\u001b[0;34m\u001b[0m\u001b[0m\n\u001b[0m\u001b[1;32m    978\u001b[0m             \u001b[0;32melse\u001b[0m\u001b[0;34m:\u001b[0m\u001b[0;34m\u001b[0m\u001b[0;34m\u001b[0m\u001b[0m\n\u001b[1;32m    979\u001b[0m               \u001b[0;32mraise\u001b[0m\u001b[0;34m\u001b[0m\u001b[0;34m\u001b[0m\u001b[0m\n",
      "\u001b[0;31mValueError\u001b[0m: in user code:\n\n    /opt/anaconda3/lib/python3.8/site-packages/tensorflow/python/keras/engine/training.py:805 train_function  *\n        return step_function(self, iterator)\n    /opt/anaconda3/lib/python3.8/site-packages/tensorflow/python/keras/engine/training.py:795 step_function  **\n        outputs = model.distribute_strategy.run(run_step, args=(data,))\n    /opt/anaconda3/lib/python3.8/site-packages/tensorflow/python/distribute/distribute_lib.py:1259 run\n        return self._extended.call_for_each_replica(fn, args=args, kwargs=kwargs)\n    /opt/anaconda3/lib/python3.8/site-packages/tensorflow/python/distribute/distribute_lib.py:2730 call_for_each_replica\n        return self._call_for_each_replica(fn, args, kwargs)\n    /opt/anaconda3/lib/python3.8/site-packages/tensorflow/python/distribute/distribute_lib.py:3417 _call_for_each_replica\n        return fn(*args, **kwargs)\n    /opt/anaconda3/lib/python3.8/site-packages/tensorflow/python/keras/engine/training.py:788 run_step  **\n        outputs = model.train_step(data)\n    /opt/anaconda3/lib/python3.8/site-packages/tensorflow/python/keras/engine/training.py:755 train_step\n        loss = self.compiled_loss(\n    /opt/anaconda3/lib/python3.8/site-packages/tensorflow/python/keras/engine/compile_utils.py:203 __call__\n        loss_value = loss_obj(y_t, y_p, sample_weight=sw)\n    /opt/anaconda3/lib/python3.8/site-packages/tensorflow/python/keras/losses.py:152 __call__\n        losses = call_fn(y_true, y_pred)\n    /opt/anaconda3/lib/python3.8/site-packages/tensorflow/python/keras/losses.py:256 call  **\n        return ag_fn(y_true, y_pred, **self._fn_kwargs)\n    /opt/anaconda3/lib/python3.8/site-packages/tensorflow/python/util/dispatch.py:201 wrapper\n        return target(*args, **kwargs)\n    /opt/anaconda3/lib/python3.8/site-packages/tensorflow/python/keras/losses.py:1537 categorical_crossentropy\n        return K.categorical_crossentropy(y_true, y_pred, from_logits=from_logits)\n    /opt/anaconda3/lib/python3.8/site-packages/tensorflow/python/util/dispatch.py:201 wrapper\n        return target(*args, **kwargs)\n    /opt/anaconda3/lib/python3.8/site-packages/tensorflow/python/keras/backend.py:4833 categorical_crossentropy\n        target.shape.assert_is_compatible_with(output.shape)\n    /opt/anaconda3/lib/python3.8/site-packages/tensorflow/python/framework/tensor_shape.py:1134 assert_is_compatible_with\n        raise ValueError(\"Shapes %s and %s are incompatible\" % (self, other))\n\n    ValueError: Shapes (None, 1) and (None, 75) are incompatible\n"
     ]
    }
   ],
   "source": [
    "mhist = model.fit(X, y, epochs=5, batch_size=50)\n",
    "cvscores = model.evaluate()\n"
   ]
  },
  {
   "cell_type": "code",
   "execution_count": 110,
   "metadata": {},
   "outputs": [
    {
     "ename": "NameError",
     "evalue": "name 'x_val' is not defined",
     "output_type": "error",
     "traceback": [
      "\u001b[0;31m---------------------------------------------------------------------------\u001b[0m",
      "\u001b[0;31mNameError\u001b[0m                                 Traceback (most recent call last)",
      "\u001b[0;32m<ipython-input-110-53456cf3422d>\u001b[0m in \u001b[0;36m<module>\u001b[0;34m\u001b[0m\n\u001b[0;32m----> 1\u001b[0;31m \u001b[0mcvscores\u001b[0m \u001b[0;34m=\u001b[0m \u001b[0mmodel\u001b[0m\u001b[0;34m.\u001b[0m\u001b[0mevaluate\u001b[0m\u001b[0;34m(\u001b[0m\u001b[0mx_val\u001b[0m\u001b[0;34m,\u001b[0m \u001b[0my_val\u001b[0m\u001b[0;34m,\u001b[0m \u001b[0mverbose\u001b[0m\u001b[0;34m=\u001b[0m\u001b[0;36m0\u001b[0m\u001b[0;34m)\u001b[0m\u001b[0;34m\u001b[0m\u001b[0;34m\u001b[0m\u001b[0m\n\u001b[0m\u001b[1;32m      2\u001b[0m \u001b[0mcvscores\u001b[0m\u001b[0;34m.\u001b[0m\u001b[0mappend\u001b[0m\u001b[0;34m(\u001b[0m\u001b[0mcvscores\u001b[0m\u001b[0;34m)\u001b[0m\u001b[0;34m\u001b[0m\u001b[0;34m\u001b[0m\u001b[0m\n\u001b[1;32m      3\u001b[0m \u001b[0;34m\u001b[0m\u001b[0m\n\u001b[1;32m      4\u001b[0m \u001b[0;34m\u001b[0m\u001b[0m\n\u001b[1;32m      5\u001b[0m \u001b[0;34m\u001b[0m\u001b[0m\n",
      "\u001b[0;31mNameError\u001b[0m: name 'x_val' is not defined"
     ]
    }
   ],
   "source": [
    "cvscores = model.evaluate(x_val, y_val, verbose=0)\n",
    "cvscores.append(cvscores)\n",
    "\n",
    "\n",
    "\n",
    "labels_p = model.predict(test_x)\n",
    "\n",
    "y_predict = np.argmax(labels_p, axis=1)\n",
    "\n"
   ]
  },
  {
   "cell_type": "code",
   "execution_count": 22,
   "metadata": {},
   "outputs": [
    {
     "name": "stdout",
     "output_type": "stream",
     "text": [
      "1. Read files (seed=2)\n",
      "\tReading ./data_family/seed2_35perc.csv\n",
      "\tReading ./data_family/seed2_70perc.csv\n",
      "\tReading ./data_family/seed2_70percHC.csv\n",
      "\tReading ./data_family/seed2_holdOutTest.csv\n",
      "2. Evaluate model with 35% data\n",
      "\tcross validate RandomForestClassifier(max_depth=100, n_estimators=50, random_state=123456) with RepeatedStratifiedKFold(n_repeats=1, n_splits=3, random_state=None)\n",
      "\tvalidate against test set\n"
     ]
    },
    {
     "name": "stderr",
     "output_type": "stream",
     "text": [
      "/opt/anaconda3/lib/python3.8/site-packages/sklearn/metrics/_classification.py:1814: UserWarning: y_pred contains classes not in y_true\n",
      "  warnings.warn('y_pred contains classes not in y_true')\n"
     ]
    },
    {
     "name": "stdout",
     "output_type": "stream",
     "text": [
      "3. Evaluate model with 70% data\n",
      "\tcross validate RandomForestClassifier(max_depth=100, n_estimators=50, random_state=123456) with RepeatedStratifiedKFold(n_repeats=1, n_splits=3, random_state=None)\n",
      "\tvalidate against test set\n",
      "6. Store results.\n",
      "(0.919, 0.919, 0.923, {'ANA PA': 0.6666666666666666, 'CHGL': 0.5, 'CHORDM': 0.3333333333333333, 'CN': 1.0, 'CNS NB, FOXR2': 1.0, 'CONTR, ADENOPIT': 1.0, 'CONTR, CEBM': 0.5, 'CONTR, HEMI': 0.75, 'CONTR, HYPTHAL': 1.0, 'CONTR, INFLAM': 1.0, 'CONTR, PINEAL': 1.0, 'CONTR, PONS': 1.0, 'CONTR, REACT': 0.5714285714285714, 'CONTR, WM': 1.0, 'CPH, ADM': 1.0, 'CPH, PAP': 1.0, 'DLGNT': 0.0, 'DMG, K27': 1.0, 'EFT, CIC': 0.75, 'EPN, MPE': 1.0, 'EPN, PF A': 1.0, 'EPN, PF B': 0.8666666666666667, 'EPN, RELA': 1.0, 'EPN, SPINE': 0.75, 'EPN, YAP': 1.0, 'ETMR': 1.0, 'EWS': 0.5, 'GBM, G34': 0.5833333333333334, 'HGNET, BCOR': 1.0, 'HGNET, MN1': 0.6666666666666666, 'HMB': 1.0, 'IHG': 0.3333333333333333, 'LGG, DIG DIA': 1.0, 'LGG, DNT': 1.0, 'LGG, GG': 0.6666666666666666, 'LGG, MYB': 0.8571428571428571, 'LGG, RGNT': 0.0, 'LGG, SEGA': 1.0, 'LIPN': 0.3333333333333333, 'LYMPHO': 1.0, 'MB, WNT': 1.0, 'MCF ATRT': 1.0, 'MCF ENB': 1.0, 'MCF GBM': 1.0, 'MCF IDH GLM': 0.9836065573770492, 'MCF MB G3G4': 1.0, 'MCF MB SHH': 1.0, 'MCF PA': 0.9433962264150944, 'MCF PLEX T': 0.96, 'MELAN': 0.25, 'MELCYT': 0.8, 'MNG': 1.0, 'PGG, nC': 1.0, 'PIN T,  PB A': 0.3333333333333333, 'PIN T,  PB B': 1.0, 'PIN T, PPT': 1.0, 'PITAD, ACTH': 1.0, 'PITAD, FSH LH': 1.0, 'PITAD, PRL': 0.5, 'PITAD, STH DNS A': 0.0, 'PITAD, STH DNS B': 0.75, 'PITAD, STH SPA': 1.0, 'PITAD, TSH': 0.3333333333333333, 'PITUI': 1.0, 'PLASMA': 1.0, 'PTPR, A': 0.5, 'PTPR, B': 1.0, 'PXA': 0.5384615384615384, 'RETB': 1.0, 'SCHW': 1.0, 'SCHW, MEL': 0.0, 'SFT HMPC': 0.8, 'SUBEPN, PF': 0.9090909090909091, 'SUBEPN, SPINE': 0.3333333333333333, 'SUBEPN, ST': 1.0})\n",
      "   Seed Dataset    ANA PA  CHGL    CHORDM   CN  CNS NB, FOXR2  \\\n",
      "0     2      35  0.666667   0.5  0.333333  1.0            1.0   \n",
      "0     2      70  0.666667   1.0  0.666667  1.0            1.0   \n",
      "\n",
      "   CONTR, ADENOPIT  CONTR, CEBM  CONTR, HEMI  ...  PTPR, A  PTPR, B       PXA  \\\n",
      "0              1.0          0.5         0.75  ...      0.5      1.0  0.538462   \n",
      "0              1.0          1.0         0.75  ...      1.0      1.0  0.615385   \n",
      "\n",
      "       RETB      SCHW  SCHW, MEL  SFT HMPC  SUBEPN, PF  SUBEPN, SPINE  \\\n",
      "0  1.000000  1.000000        0.0       0.8    0.909091       0.333333   \n",
      "0  0.833333  0.857143        0.0       1.0    0.909091       0.666667   \n",
      "\n",
      "   SUBEPN, ST  \n",
      "0         1.0  \n",
      "0         1.0  \n",
      "\n",
      "[2 rows x 77 columns]\n",
      "Result saved to ./output/result_family_seed2_GSE109379_123456.csv\n"
     ]
    },
    {
     "name": "stderr",
     "output_type": "stream",
     "text": [
      "/opt/anaconda3/lib/python3.8/site-packages/sklearn/metrics/_classification.py:1814: UserWarning: y_pred contains classes not in y_true\n",
      "  warnings.warn('y_pred contains classes not in y_true')\n"
     ]
    }
   ],
   "source": [
    "run_one_seeds(123456)"
   ]
  },
  {
   "cell_type": "code",
   "execution_count": 24,
   "metadata": {},
   "outputs": [
    {
     "name": "stdout",
     "output_type": "stream",
     "text": [
      "1. Read files (seed=1)\n",
      "\tReading ./data_family/seed1_35perc.csv\n",
      "\tReading ./data_family/seed1_70perc.csv\n",
      "\tReading ./data_family/seed1_70percHC.csv\n",
      "\tReading ./data_family/seed1_35perc_gse109379.csv\n",
      "\tReading ./data_family/seed1_35perc_HCgse109379.csv\n",
      "\tReading ./data_family/seed1_70perc_gse109379.csv\n",
      "\tReading ./data_family/seed1_70HC_gse109379.csv\n",
      "\tReading ./data_family/seed1_70perc_gse109379HC.csv\n",
      "\tReading ./data_family/seed1_70HC_gse109379HC.csv\n",
      "\tReading ./data_family/seed1_holdOutTest.csv\n",
      "2. Evaluate model with 35% data\n",
      "\tcross validate RandomForestClassifier(max_depth=100, n_estimators=50, random_state=123456) with RepeatedStratifiedKFold(n_repeats=5, n_splits=3, random_state=None)\n",
      "\tvalidate against test set\n"
     ]
    },
    {
     "name": "stderr",
     "output_type": "stream",
     "text": [
      "/opt/anaconda3/lib/python3.8/site-packages/sklearn/metrics/_classification.py:1814: UserWarning: y_pred contains classes not in y_true\n",
      "  warnings.warn('y_pred contains classes not in y_true')\n"
     ]
    },
    {
     "name": "stdout",
     "output_type": "stream",
     "text": [
      "3. Evaluate model with 70% data\n",
      "\tcross validate RandomForestClassifier(max_depth=100, n_estimators=50, random_state=123456) with RepeatedStratifiedKFold(n_repeats=5, n_splits=3, random_state=None)\n",
      "\tvalidate against test set\n"
     ]
    },
    {
     "name": "stderr",
     "output_type": "stream",
     "text": [
      "/opt/anaconda3/lib/python3.8/site-packages/sklearn/metrics/_classification.py:1814: UserWarning: y_pred contains classes not in y_true\n",
      "  warnings.warn('y_pred contains classes not in y_true')\n"
     ]
    },
    {
     "name": "stdout",
     "output_type": "stream",
     "text": [
      "4. Evaluate model with 70% HC\n",
      "\tcross validate RandomForestClassifier(max_depth=100, n_estimators=50, random_state=123456) with RepeatedStratifiedKFold(n_repeats=5, n_splits=3, random_state=None)\n",
      "\tvalidate against test set\n"
     ]
    },
    {
     "name": "stderr",
     "output_type": "stream",
     "text": [
      "/opt/anaconda3/lib/python3.8/site-packages/sklearn/metrics/_classification.py:1814: UserWarning: y_pred contains classes not in y_true\n",
      "  warnings.warn('y_pred contains classes not in y_true')\n"
     ]
    },
    {
     "name": "stdout",
     "output_type": "stream",
     "text": [
      "5. Evaluate model with 35% data with GSE109379\n",
      "\tcross validate RandomForestClassifier(max_depth=100, n_estimators=50, random_state=123456) with RepeatedStratifiedKFold(n_repeats=5, n_splits=3, random_state=None)\n",
      "\tvalidate against test set\n"
     ]
    },
    {
     "name": "stderr",
     "output_type": "stream",
     "text": [
      "/opt/anaconda3/lib/python3.8/site-packages/sklearn/metrics/_classification.py:1814: UserWarning: y_pred contains classes not in y_true\n",
      "  warnings.warn('y_pred contains classes not in y_true')\n"
     ]
    },
    {
     "name": "stdout",
     "output_type": "stream",
     "text": [
      "5. Evaluate model with 35% data with High confident GSE109379\n",
      "\tcross validate RandomForestClassifier(max_depth=100, n_estimators=50, random_state=123456) with RepeatedStratifiedKFold(n_repeats=5, n_splits=3, random_state=None)\n",
      "\tvalidate against test set\n"
     ]
    },
    {
     "name": "stderr",
     "output_type": "stream",
     "text": [
      "/opt/anaconda3/lib/python3.8/site-packages/sklearn/metrics/_classification.py:1814: UserWarning: y_pred contains classes not in y_true\n",
      "  warnings.warn('y_pred contains classes not in y_true')\n"
     ]
    },
    {
     "name": "stdout",
     "output_type": "stream",
     "text": [
      "6. Evaluate model with 70% + GSE90496 pseudo-labeled data\n",
      "\tcross validate RandomForestClassifier(max_depth=100, n_estimators=50, random_state=123456) with RepeatedStratifiedKFold(n_repeats=5, n_splits=3, random_state=None)\n",
      "\tvalidate against test set\n"
     ]
    },
    {
     "name": "stderr",
     "output_type": "stream",
     "text": [
      "/opt/anaconda3/lib/python3.8/site-packages/sklearn/metrics/_classification.py:1814: UserWarning: y_pred contains classes not in y_true\n",
      "  warnings.warn('y_pred contains classes not in y_true')\n"
     ]
    },
    {
     "name": "stdout",
     "output_type": "stream",
     "text": [
      "7. Evaluate model with 70% HC + GSE109379\n",
      "\tcross validate RandomForestClassifier(max_depth=100, n_estimators=50, random_state=123456) with RepeatedStratifiedKFold(n_repeats=5, n_splits=3, random_state=None)\n",
      "\tvalidate against test set\n"
     ]
    },
    {
     "name": "stderr",
     "output_type": "stream",
     "text": [
      "/opt/anaconda3/lib/python3.8/site-packages/sklearn/metrics/_classification.py:1814: UserWarning: y_pred contains classes not in y_true\n",
      "  warnings.warn('y_pred contains classes not in y_true')\n"
     ]
    },
    {
     "name": "stdout",
     "output_type": "stream",
     "text": [
      "8. Evaluate model with 70% + HC GSE90496 \n",
      "\tcross validate RandomForestClassifier(max_depth=100, n_estimators=50, random_state=123456) with RepeatedStratifiedKFold(n_repeats=5, n_splits=3, random_state=None)\n",
      "\tvalidate against test set\n"
     ]
    },
    {
     "name": "stderr",
     "output_type": "stream",
     "text": [
      "/opt/anaconda3/lib/python3.8/site-packages/sklearn/metrics/_classification.py:1814: UserWarning: y_pred contains classes not in y_true\n",
      "  warnings.warn('y_pred contains classes not in y_true')\n"
     ]
    },
    {
     "name": "stdout",
     "output_type": "stream",
     "text": [
      "9. Evaluate model with HC pseudo-labeled data\n",
      "\tcross validate RandomForestClassifier(max_depth=100, n_estimators=50, random_state=123456) with RepeatedStratifiedKFold(n_repeats=5, n_splits=3, random_state=None)\n",
      "\tvalidate against test set\n"
     ]
    },
    {
     "name": "stderr",
     "output_type": "stream",
     "text": [
      "/opt/anaconda3/lib/python3.8/site-packages/sklearn/metrics/_classification.py:1814: UserWarning: y_pred contains classes not in y_true\n",
      "  warnings.warn('y_pred contains classes not in y_true')\n"
     ]
    },
    {
     "name": "stdout",
     "output_type": "stream",
     "text": [
      "6. Store results.\n",
      "Result saved to result_family_seed1_GSE109379_123456.csv\n",
      "1. Read files (seed=2)\n",
      "\tReading ./data_family/seed2_35perc.csv\n",
      "\tReading ./data_family/seed2_70perc.csv\n",
      "\tReading ./data_family/seed2_70percHC.csv\n",
      "\tReading ./data_family/seed2_35perc_gse109379.csv\n",
      "\tReading ./data_family/seed2_35perc_HCgse109379.csv\n",
      "\tReading ./data_family/seed2_70perc_gse109379.csv\n",
      "\tReading ./data_family/seed2_70HC_gse109379.csv\n",
      "\tReading ./data_family/seed2_70perc_gse109379HC.csv\n",
      "\tReading ./data_family/seed2_70HC_gse109379HC.csv\n",
      "\tReading ./data_family/seed2_holdOutTest.csv\n",
      "2. Evaluate model with 35% data\n",
      "\tcross validate RandomForestClassifier(max_depth=100, n_estimators=50, random_state=123456) with RepeatedStratifiedKFold(n_repeats=5, n_splits=3, random_state=None)\n",
      "\tvalidate against test set\n"
     ]
    },
    {
     "name": "stderr",
     "output_type": "stream",
     "text": [
      "/opt/anaconda3/lib/python3.8/site-packages/sklearn/metrics/_classification.py:1814: UserWarning: y_pred contains classes not in y_true\n",
      "  warnings.warn('y_pred contains classes not in y_true')\n"
     ]
    },
    {
     "name": "stdout",
     "output_type": "stream",
     "text": [
      "3. Evaluate model with 70% data\n",
      "\tcross validate RandomForestClassifier(max_depth=100, n_estimators=50, random_state=123456) with RepeatedStratifiedKFold(n_repeats=5, n_splits=3, random_state=None)\n",
      "\tvalidate against test set\n"
     ]
    },
    {
     "name": "stderr",
     "output_type": "stream",
     "text": [
      "/opt/anaconda3/lib/python3.8/site-packages/sklearn/metrics/_classification.py:1814: UserWarning: y_pred contains classes not in y_true\n",
      "  warnings.warn('y_pred contains classes not in y_true')\n"
     ]
    },
    {
     "name": "stdout",
     "output_type": "stream",
     "text": [
      "4. Evaluate model with 70% HC\n",
      "\tcross validate RandomForestClassifier(max_depth=100, n_estimators=50, random_state=123456) with RepeatedStratifiedKFold(n_repeats=5, n_splits=3, random_state=None)\n",
      "\tvalidate against test set\n"
     ]
    },
    {
     "name": "stderr",
     "output_type": "stream",
     "text": [
      "/opt/anaconda3/lib/python3.8/site-packages/sklearn/metrics/_classification.py:1814: UserWarning: y_pred contains classes not in y_true\n",
      "  warnings.warn('y_pred contains classes not in y_true')\n"
     ]
    },
    {
     "name": "stdout",
     "output_type": "stream",
     "text": [
      "5. Evaluate model with 35% data with GSE109379\n",
      "\tcross validate RandomForestClassifier(max_depth=100, n_estimators=50, random_state=123456) with RepeatedStratifiedKFold(n_repeats=5, n_splits=3, random_state=None)\n",
      "\tvalidate against test set\n"
     ]
    },
    {
     "name": "stderr",
     "output_type": "stream",
     "text": [
      "/opt/anaconda3/lib/python3.8/site-packages/sklearn/metrics/_classification.py:1814: UserWarning: y_pred contains classes not in y_true\n",
      "  warnings.warn('y_pred contains classes not in y_true')\n"
     ]
    },
    {
     "name": "stdout",
     "output_type": "stream",
     "text": [
      "5. Evaluate model with 35% data with High confident GSE109379\n",
      "\tcross validate RandomForestClassifier(max_depth=100, n_estimators=50, random_state=123456) with RepeatedStratifiedKFold(n_repeats=5, n_splits=3, random_state=None)\n",
      "\tvalidate against test set\n"
     ]
    },
    {
     "name": "stderr",
     "output_type": "stream",
     "text": [
      "/opt/anaconda3/lib/python3.8/site-packages/sklearn/metrics/_classification.py:1814: UserWarning: y_pred contains classes not in y_true\n",
      "  warnings.warn('y_pred contains classes not in y_true')\n"
     ]
    },
    {
     "name": "stdout",
     "output_type": "stream",
     "text": [
      "6. Evaluate model with 70% + GSE90496 pseudo-labeled data\n",
      "\tcross validate RandomForestClassifier(max_depth=100, n_estimators=50, random_state=123456) with RepeatedStratifiedKFold(n_repeats=5, n_splits=3, random_state=None)\n",
      "\tvalidate against test set\n"
     ]
    },
    {
     "name": "stderr",
     "output_type": "stream",
     "text": [
      "/opt/anaconda3/lib/python3.8/site-packages/sklearn/metrics/_classification.py:1814: UserWarning: y_pred contains classes not in y_true\n",
      "  warnings.warn('y_pred contains classes not in y_true')\n"
     ]
    },
    {
     "name": "stdout",
     "output_type": "stream",
     "text": [
      "7. Evaluate model with 70% HC + GSE109379\n",
      "\tcross validate RandomForestClassifier(max_depth=100, n_estimators=50, random_state=123456) with RepeatedStratifiedKFold(n_repeats=5, n_splits=3, random_state=None)\n",
      "\tvalidate against test set\n"
     ]
    },
    {
     "name": "stderr",
     "output_type": "stream",
     "text": [
      "/opt/anaconda3/lib/python3.8/site-packages/sklearn/metrics/_classification.py:1814: UserWarning: y_pred contains classes not in y_true\n",
      "  warnings.warn('y_pred contains classes not in y_true')\n"
     ]
    },
    {
     "name": "stdout",
     "output_type": "stream",
     "text": [
      "8. Evaluate model with 70% + HC GSE90496 \n",
      "\tcross validate RandomForestClassifier(max_depth=100, n_estimators=50, random_state=123456) with RepeatedStratifiedKFold(n_repeats=5, n_splits=3, random_state=None)\n",
      "\tvalidate against test set\n"
     ]
    },
    {
     "name": "stderr",
     "output_type": "stream",
     "text": [
      "/opt/anaconda3/lib/python3.8/site-packages/sklearn/metrics/_classification.py:1814: UserWarning: y_pred contains classes not in y_true\n",
      "  warnings.warn('y_pred contains classes not in y_true')\n"
     ]
    },
    {
     "name": "stdout",
     "output_type": "stream",
     "text": [
      "9. Evaluate model with HC pseudo-labeled data\n",
      "\tcross validate RandomForestClassifier(max_depth=100, n_estimators=50, random_state=123456) with RepeatedStratifiedKFold(n_repeats=5, n_splits=3, random_state=None)\n",
      "\tvalidate against test set\n"
     ]
    },
    {
     "name": "stderr",
     "output_type": "stream",
     "text": [
      "/opt/anaconda3/lib/python3.8/site-packages/sklearn/metrics/_classification.py:1814: UserWarning: y_pred contains classes not in y_true\n",
      "  warnings.warn('y_pred contains classes not in y_true')\n"
     ]
    },
    {
     "name": "stdout",
     "output_type": "stream",
     "text": [
      "6. Store results.\n",
      "Result saved to result_family_seed2_GSE109379_123456.csv\n",
      "1. Read files (seed=20)\n",
      "\tReading ./data_family/seed20_35perc.csv\n",
      "\tReading ./data_family/seed20_70perc.csv\n",
      "\tReading ./data_family/seed20_70percHC.csv\n",
      "\tReading ./data_family/seed20_35perc_gse109379.csv\n",
      "\tReading ./data_family/seed20_35perc_HCgse109379.csv\n",
      "\tReading ./data_family/seed20_70perc_gse109379.csv\n",
      "\tReading ./data_family/seed20_70HC_gse109379.csv\n",
      "\tReading ./data_family/seed20_70perc_gse109379HC.csv\n",
      "\tReading ./data_family/seed20_70HC_gse109379HC.csv\n",
      "\tReading ./data_family/seed20_holdOutTest.csv\n",
      "2. Evaluate model with 35% data\n",
      "\tcross validate RandomForestClassifier(max_depth=100, n_estimators=50, random_state=123456) with RepeatedStratifiedKFold(n_repeats=5, n_splits=3, random_state=None)\n",
      "\tvalidate against test set\n"
     ]
    },
    {
     "name": "stderr",
     "output_type": "stream",
     "text": [
      "/opt/anaconda3/lib/python3.8/site-packages/sklearn/metrics/_classification.py:1814: UserWarning: y_pred contains classes not in y_true\n",
      "  warnings.warn('y_pred contains classes not in y_true')\n"
     ]
    },
    {
     "name": "stdout",
     "output_type": "stream",
     "text": [
      "3. Evaluate model with 70% data\n",
      "\tcross validate RandomForestClassifier(max_depth=100, n_estimators=50, random_state=123456) with RepeatedStratifiedKFold(n_repeats=5, n_splits=3, random_state=None)\n",
      "\tvalidate against test set\n"
     ]
    },
    {
     "name": "stderr",
     "output_type": "stream",
     "text": [
      "/opt/anaconda3/lib/python3.8/site-packages/sklearn/metrics/_classification.py:1814: UserWarning: y_pred contains classes not in y_true\n",
      "  warnings.warn('y_pred contains classes not in y_true')\n"
     ]
    },
    {
     "name": "stdout",
     "output_type": "stream",
     "text": [
      "4. Evaluate model with 70% HC\n",
      "\tcross validate RandomForestClassifier(max_depth=100, n_estimators=50, random_state=123456) with RepeatedStratifiedKFold(n_repeats=5, n_splits=3, random_state=None)\n",
      "\tvalidate against test set\n"
     ]
    },
    {
     "name": "stderr",
     "output_type": "stream",
     "text": [
      "/opt/anaconda3/lib/python3.8/site-packages/sklearn/metrics/_classification.py:1814: UserWarning: y_pred contains classes not in y_true\n",
      "  warnings.warn('y_pred contains classes not in y_true')\n"
     ]
    },
    {
     "name": "stdout",
     "output_type": "stream",
     "text": [
      "5. Evaluate model with 35% data with GSE109379\n",
      "\tcross validate RandomForestClassifier(max_depth=100, n_estimators=50, random_state=123456) with RepeatedStratifiedKFold(n_repeats=5, n_splits=3, random_state=None)\n",
      "\tvalidate against test set\n"
     ]
    },
    {
     "name": "stderr",
     "output_type": "stream",
     "text": [
      "/opt/anaconda3/lib/python3.8/site-packages/sklearn/metrics/_classification.py:1814: UserWarning: y_pred contains classes not in y_true\n",
      "  warnings.warn('y_pred contains classes not in y_true')\n"
     ]
    },
    {
     "name": "stdout",
     "output_type": "stream",
     "text": [
      "5. Evaluate model with 35% data with High confident GSE109379\n",
      "\tcross validate RandomForestClassifier(max_depth=100, n_estimators=50, random_state=123456) with RepeatedStratifiedKFold(n_repeats=5, n_splits=3, random_state=None)\n",
      "\tvalidate against test set\n"
     ]
    },
    {
     "name": "stderr",
     "output_type": "stream",
     "text": [
      "/opt/anaconda3/lib/python3.8/site-packages/sklearn/metrics/_classification.py:1814: UserWarning: y_pred contains classes not in y_true\n",
      "  warnings.warn('y_pred contains classes not in y_true')\n"
     ]
    },
    {
     "name": "stdout",
     "output_type": "stream",
     "text": [
      "6. Evaluate model with 70% + GSE90496 pseudo-labeled data\n",
      "\tcross validate RandomForestClassifier(max_depth=100, n_estimators=50, random_state=123456) with RepeatedStratifiedKFold(n_repeats=5, n_splits=3, random_state=None)\n",
      "\tvalidate against test set\n"
     ]
    },
    {
     "name": "stderr",
     "output_type": "stream",
     "text": [
      "/opt/anaconda3/lib/python3.8/site-packages/sklearn/metrics/_classification.py:1814: UserWarning: y_pred contains classes not in y_true\n",
      "  warnings.warn('y_pred contains classes not in y_true')\n"
     ]
    },
    {
     "name": "stdout",
     "output_type": "stream",
     "text": [
      "7. Evaluate model with 70% HC + GSE109379\n",
      "\tcross validate RandomForestClassifier(max_depth=100, n_estimators=50, random_state=123456) with RepeatedStratifiedKFold(n_repeats=5, n_splits=3, random_state=None)\n",
      "\tvalidate against test set\n"
     ]
    },
    {
     "name": "stderr",
     "output_type": "stream",
     "text": [
      "/opt/anaconda3/lib/python3.8/site-packages/sklearn/metrics/_classification.py:1814: UserWarning: y_pred contains classes not in y_true\n",
      "  warnings.warn('y_pred contains classes not in y_true')\n"
     ]
    },
    {
     "name": "stdout",
     "output_type": "stream",
     "text": [
      "8. Evaluate model with 70% + HC GSE90496 \n",
      "\tcross validate RandomForestClassifier(max_depth=100, n_estimators=50, random_state=123456) with RepeatedStratifiedKFold(n_repeats=5, n_splits=3, random_state=None)\n",
      "\tvalidate against test set\n"
     ]
    },
    {
     "name": "stderr",
     "output_type": "stream",
     "text": [
      "/opt/anaconda3/lib/python3.8/site-packages/sklearn/metrics/_classification.py:1814: UserWarning: y_pred contains classes not in y_true\n",
      "  warnings.warn('y_pred contains classes not in y_true')\n"
     ]
    },
    {
     "name": "stdout",
     "output_type": "stream",
     "text": [
      "9. Evaluate model with HC pseudo-labeled data\n",
      "\tcross validate RandomForestClassifier(max_depth=100, n_estimators=50, random_state=123456) with RepeatedStratifiedKFold(n_repeats=5, n_splits=3, random_state=None)\n",
      "\tvalidate against test set\n"
     ]
    },
    {
     "name": "stderr",
     "output_type": "stream",
     "text": [
      "/opt/anaconda3/lib/python3.8/site-packages/sklearn/metrics/_classification.py:1814: UserWarning: y_pred contains classes not in y_true\n",
      "  warnings.warn('y_pred contains classes not in y_true')\n"
     ]
    },
    {
     "name": "stdout",
     "output_type": "stream",
     "text": [
      "6. Store results.\n",
      "Result saved to result_family_seed20_GSE109379_123456.csv\n",
      "1. Read files (seed=40)\n",
      "\tReading ./data_family/seed40_35perc.csv\n",
      "\tReading ./data_family/seed40_70perc.csv\n",
      "\tReading ./data_family/seed40_70percHC.csv\n",
      "\tReading ./data_family/seed40_35perc_gse109379.csv\n",
      "\tReading ./data_family/seed40_35perc_HCgse109379.csv\n",
      "\tReading ./data_family/seed40_70perc_gse109379.csv\n",
      "\tReading ./data_family/seed40_70HC_gse109379.csv\n",
      "\tReading ./data_family/seed40_70perc_gse109379HC.csv\n",
      "\tReading ./data_family/seed40_70HC_gse109379HC.csv\n",
      "\tReading ./data_family/seed40_holdOutTest.csv\n",
      "2. Evaluate model with 35% data\n",
      "\tcross validate RandomForestClassifier(max_depth=100, n_estimators=50, random_state=123456) with RepeatedStratifiedKFold(n_repeats=5, n_splits=3, random_state=None)\n",
      "\tvalidate against test set\n"
     ]
    },
    {
     "name": "stderr",
     "output_type": "stream",
     "text": [
      "/opt/anaconda3/lib/python3.8/site-packages/sklearn/metrics/_classification.py:1814: UserWarning: y_pred contains classes not in y_true\n",
      "  warnings.warn('y_pred contains classes not in y_true')\n"
     ]
    },
    {
     "name": "stdout",
     "output_type": "stream",
     "text": [
      "3. Evaluate model with 70% data\n",
      "\tcross validate RandomForestClassifier(max_depth=100, n_estimators=50, random_state=123456) with RepeatedStratifiedKFold(n_repeats=5, n_splits=3, random_state=None)\n",
      "\tvalidate against test set\n"
     ]
    },
    {
     "name": "stderr",
     "output_type": "stream",
     "text": [
      "/opt/anaconda3/lib/python3.8/site-packages/sklearn/metrics/_classification.py:1814: UserWarning: y_pred contains classes not in y_true\n",
      "  warnings.warn('y_pred contains classes not in y_true')\n"
     ]
    },
    {
     "name": "stdout",
     "output_type": "stream",
     "text": [
      "4. Evaluate model with 70% HC\n",
      "\tcross validate RandomForestClassifier(max_depth=100, n_estimators=50, random_state=123456) with RepeatedStratifiedKFold(n_repeats=5, n_splits=3, random_state=None)\n",
      "\tvalidate against test set\n"
     ]
    },
    {
     "name": "stderr",
     "output_type": "stream",
     "text": [
      "/opt/anaconda3/lib/python3.8/site-packages/sklearn/metrics/_classification.py:1814: UserWarning: y_pred contains classes not in y_true\n",
      "  warnings.warn('y_pred contains classes not in y_true')\n"
     ]
    },
    {
     "name": "stdout",
     "output_type": "stream",
     "text": [
      "5. Evaluate model with 35% data with GSE109379\n",
      "\tcross validate RandomForestClassifier(max_depth=100, n_estimators=50, random_state=123456) with RepeatedStratifiedKFold(n_repeats=5, n_splits=3, random_state=None)\n",
      "\tvalidate against test set\n"
     ]
    },
    {
     "name": "stderr",
     "output_type": "stream",
     "text": [
      "/opt/anaconda3/lib/python3.8/site-packages/sklearn/metrics/_classification.py:1814: UserWarning: y_pred contains classes not in y_true\n",
      "  warnings.warn('y_pred contains classes not in y_true')\n"
     ]
    },
    {
     "name": "stdout",
     "output_type": "stream",
     "text": [
      "5. Evaluate model with 35% data with High confident GSE109379\n",
      "\tcross validate RandomForestClassifier(max_depth=100, n_estimators=50, random_state=123456) with RepeatedStratifiedKFold(n_repeats=5, n_splits=3, random_state=None)\n",
      "\tvalidate against test set\n"
     ]
    },
    {
     "name": "stderr",
     "output_type": "stream",
     "text": [
      "/opt/anaconda3/lib/python3.8/site-packages/sklearn/metrics/_classification.py:1814: UserWarning: y_pred contains classes not in y_true\n",
      "  warnings.warn('y_pred contains classes not in y_true')\n"
     ]
    },
    {
     "name": "stdout",
     "output_type": "stream",
     "text": [
      "6. Evaluate model with 70% + GSE90496 pseudo-labeled data\n",
      "\tcross validate RandomForestClassifier(max_depth=100, n_estimators=50, random_state=123456) with RepeatedStratifiedKFold(n_repeats=5, n_splits=3, random_state=None)\n",
      "\tvalidate against test set\n"
     ]
    },
    {
     "name": "stderr",
     "output_type": "stream",
     "text": [
      "/opt/anaconda3/lib/python3.8/site-packages/sklearn/metrics/_classification.py:1814: UserWarning: y_pred contains classes not in y_true\n",
      "  warnings.warn('y_pred contains classes not in y_true')\n"
     ]
    },
    {
     "name": "stdout",
     "output_type": "stream",
     "text": [
      "7. Evaluate model with 70% HC + GSE109379\n",
      "\tcross validate RandomForestClassifier(max_depth=100, n_estimators=50, random_state=123456) with RepeatedStratifiedKFold(n_repeats=5, n_splits=3, random_state=None)\n",
      "\tvalidate against test set\n"
     ]
    },
    {
     "name": "stderr",
     "output_type": "stream",
     "text": [
      "/opt/anaconda3/lib/python3.8/site-packages/sklearn/metrics/_classification.py:1814: UserWarning: y_pred contains classes not in y_true\n",
      "  warnings.warn('y_pred contains classes not in y_true')\n"
     ]
    },
    {
     "name": "stdout",
     "output_type": "stream",
     "text": [
      "8. Evaluate model with 70% + HC GSE90496 \n",
      "\tcross validate RandomForestClassifier(max_depth=100, n_estimators=50, random_state=123456) with RepeatedStratifiedKFold(n_repeats=5, n_splits=3, random_state=None)\n",
      "\tvalidate against test set\n"
     ]
    },
    {
     "name": "stderr",
     "output_type": "stream",
     "text": [
      "/opt/anaconda3/lib/python3.8/site-packages/sklearn/metrics/_classification.py:1814: UserWarning: y_pred contains classes not in y_true\n",
      "  warnings.warn('y_pred contains classes not in y_true')\n"
     ]
    },
    {
     "name": "stdout",
     "output_type": "stream",
     "text": [
      "9. Evaluate model with HC pseudo-labeled data\n",
      "\tcross validate RandomForestClassifier(max_depth=100, n_estimators=50, random_state=123456) with RepeatedStratifiedKFold(n_repeats=5, n_splits=3, random_state=None)\n",
      "\tvalidate against test set\n"
     ]
    },
    {
     "name": "stderr",
     "output_type": "stream",
     "text": [
      "/opt/anaconda3/lib/python3.8/site-packages/sklearn/metrics/_classification.py:1814: UserWarning: y_pred contains classes not in y_true\n",
      "  warnings.warn('y_pred contains classes not in y_true')\n"
     ]
    },
    {
     "name": "stdout",
     "output_type": "stream",
     "text": [
      "6. Store results.\n",
      "Result saved to result_family_seed40_GSE109379_123456.csv\n",
      "1. Read files (seed=80)\n",
      "\tReading ./data_family/seed80_35perc.csv\n",
      "\tReading ./data_family/seed80_70perc.csv\n",
      "\tReading ./data_family/seed80_70percHC.csv\n",
      "\tReading ./data_family/seed80_35perc_gse109379.csv\n",
      "\tReading ./data_family/seed80_35perc_HCgse109379.csv\n",
      "\tReading ./data_family/seed80_70perc_gse109379.csv\n",
      "\tReading ./data_family/seed80_70HC_gse109379.csv\n",
      "\tReading ./data_family/seed80_70perc_gse109379HC.csv\n",
      "\tReading ./data_family/seed80_70HC_gse109379HC.csv\n",
      "\tReading ./data_family/seed80_holdOutTest.csv\n",
      "2. Evaluate model with 35% data\n",
      "\tcross validate RandomForestClassifier(max_depth=100, n_estimators=50, random_state=123456) with RepeatedStratifiedKFold(n_repeats=5, n_splits=3, random_state=None)\n",
      "\tvalidate against test set\n"
     ]
    },
    {
     "name": "stderr",
     "output_type": "stream",
     "text": [
      "/opt/anaconda3/lib/python3.8/site-packages/sklearn/metrics/_classification.py:1814: UserWarning: y_pred contains classes not in y_true\n",
      "  warnings.warn('y_pred contains classes not in y_true')\n"
     ]
    },
    {
     "name": "stdout",
     "output_type": "stream",
     "text": [
      "3. Evaluate model with 70% data\n",
      "\tcross validate RandomForestClassifier(max_depth=100, n_estimators=50, random_state=123456) with RepeatedStratifiedKFold(n_repeats=5, n_splits=3, random_state=None)\n",
      "\tvalidate against test set\n"
     ]
    },
    {
     "name": "stderr",
     "output_type": "stream",
     "text": [
      "/opt/anaconda3/lib/python3.8/site-packages/sklearn/metrics/_classification.py:1814: UserWarning: y_pred contains classes not in y_true\n",
      "  warnings.warn('y_pred contains classes not in y_true')\n"
     ]
    },
    {
     "name": "stdout",
     "output_type": "stream",
     "text": [
      "4. Evaluate model with 70% HC\n",
      "\tcross validate RandomForestClassifier(max_depth=100, n_estimators=50, random_state=123456) with RepeatedStratifiedKFold(n_repeats=5, n_splits=3, random_state=None)\n",
      "\tvalidate against test set\n"
     ]
    },
    {
     "name": "stderr",
     "output_type": "stream",
     "text": [
      "/opt/anaconda3/lib/python3.8/site-packages/sklearn/metrics/_classification.py:1814: UserWarning: y_pred contains classes not in y_true\n",
      "  warnings.warn('y_pred contains classes not in y_true')\n"
     ]
    },
    {
     "name": "stdout",
     "output_type": "stream",
     "text": [
      "5. Evaluate model with 35% data with GSE109379\n",
      "\tcross validate RandomForestClassifier(max_depth=100, n_estimators=50, random_state=123456) with RepeatedStratifiedKFold(n_repeats=5, n_splits=3, random_state=None)\n",
      "\tvalidate against test set\n"
     ]
    },
    {
     "name": "stderr",
     "output_type": "stream",
     "text": [
      "/opt/anaconda3/lib/python3.8/site-packages/sklearn/metrics/_classification.py:1814: UserWarning: y_pred contains classes not in y_true\n",
      "  warnings.warn('y_pred contains classes not in y_true')\n"
     ]
    },
    {
     "name": "stdout",
     "output_type": "stream",
     "text": [
      "5. Evaluate model with 35% data with High confident GSE109379\n",
      "\tcross validate RandomForestClassifier(max_depth=100, n_estimators=50, random_state=123456) with RepeatedStratifiedKFold(n_repeats=5, n_splits=3, random_state=None)\n",
      "\tvalidate against test set\n"
     ]
    },
    {
     "name": "stderr",
     "output_type": "stream",
     "text": [
      "/opt/anaconda3/lib/python3.8/site-packages/sklearn/metrics/_classification.py:1814: UserWarning: y_pred contains classes not in y_true\n",
      "  warnings.warn('y_pred contains classes not in y_true')\n"
     ]
    },
    {
     "name": "stdout",
     "output_type": "stream",
     "text": [
      "6. Evaluate model with 70% + GSE90496 pseudo-labeled data\n",
      "\tcross validate RandomForestClassifier(max_depth=100, n_estimators=50, random_state=123456) with RepeatedStratifiedKFold(n_repeats=5, n_splits=3, random_state=None)\n",
      "\tvalidate against test set\n"
     ]
    },
    {
     "name": "stderr",
     "output_type": "stream",
     "text": [
      "/opt/anaconda3/lib/python3.8/site-packages/sklearn/metrics/_classification.py:1814: UserWarning: y_pred contains classes not in y_true\n",
      "  warnings.warn('y_pred contains classes not in y_true')\n"
     ]
    },
    {
     "name": "stdout",
     "output_type": "stream",
     "text": [
      "7. Evaluate model with 70% HC + GSE109379\n",
      "\tcross validate RandomForestClassifier(max_depth=100, n_estimators=50, random_state=123456) with RepeatedStratifiedKFold(n_repeats=5, n_splits=3, random_state=None)\n",
      "\tvalidate against test set\n"
     ]
    },
    {
     "name": "stderr",
     "output_type": "stream",
     "text": [
      "/opt/anaconda3/lib/python3.8/site-packages/sklearn/metrics/_classification.py:1814: UserWarning: y_pred contains classes not in y_true\n",
      "  warnings.warn('y_pred contains classes not in y_true')\n"
     ]
    },
    {
     "name": "stdout",
     "output_type": "stream",
     "text": [
      "8. Evaluate model with 70% + HC GSE90496 \n",
      "\tcross validate RandomForestClassifier(max_depth=100, n_estimators=50, random_state=123456) with RepeatedStratifiedKFold(n_repeats=5, n_splits=3, random_state=None)\n",
      "\tvalidate against test set\n"
     ]
    },
    {
     "name": "stderr",
     "output_type": "stream",
     "text": [
      "/opt/anaconda3/lib/python3.8/site-packages/sklearn/metrics/_classification.py:1814: UserWarning: y_pred contains classes not in y_true\n",
      "  warnings.warn('y_pred contains classes not in y_true')\n"
     ]
    },
    {
     "name": "stdout",
     "output_type": "stream",
     "text": [
      "9. Evaluate model with HC pseudo-labeled data\n",
      "\tcross validate RandomForestClassifier(max_depth=100, n_estimators=50, random_state=123456) with RepeatedStratifiedKFold(n_repeats=5, n_splits=3, random_state=None)\n",
      "\tvalidate against test set\n"
     ]
    },
    {
     "name": "stderr",
     "output_type": "stream",
     "text": [
      "/opt/anaconda3/lib/python3.8/site-packages/sklearn/metrics/_classification.py:1814: UserWarning: y_pred contains classes not in y_true\n",
      "  warnings.warn('y_pred contains classes not in y_true')\n"
     ]
    },
    {
     "name": "stdout",
     "output_type": "stream",
     "text": [
      "6. Store results.\n",
      "Result saved to result_family_seed80_GSE109379_123456.csv\n",
      "1. Read files (seed=160)\n",
      "\tReading ./data_family/seed160_35perc.csv\n",
      "\tReading ./data_family/seed160_70perc.csv\n",
      "\tReading ./data_family/seed160_70percHC.csv\n",
      "\tReading ./data_family/seed160_35perc_gse109379.csv\n",
      "\tReading ./data_family/seed160_35perc_HCgse109379.csv\n",
      "\tReading ./data_family/seed160_70perc_gse109379.csv\n",
      "\tReading ./data_family/seed160_70HC_gse109379.csv\n",
      "\tReading ./data_family/seed160_70perc_gse109379HC.csv\n",
      "\tReading ./data_family/seed160_70HC_gse109379HC.csv\n",
      "\tReading ./data_family/seed160_holdOutTest.csv\n",
      "2. Evaluate model with 35% data\n",
      "\tcross validate RandomForestClassifier(max_depth=100, n_estimators=50, random_state=123456) with RepeatedStratifiedKFold(n_repeats=5, n_splits=3, random_state=None)\n",
      "\tvalidate against test set\n"
     ]
    },
    {
     "name": "stderr",
     "output_type": "stream",
     "text": [
      "/opt/anaconda3/lib/python3.8/site-packages/sklearn/metrics/_classification.py:1814: UserWarning: y_pred contains classes not in y_true\n",
      "  warnings.warn('y_pred contains classes not in y_true')\n"
     ]
    },
    {
     "name": "stdout",
     "output_type": "stream",
     "text": [
      "3. Evaluate model with 70% data\n",
      "\tcross validate RandomForestClassifier(max_depth=100, n_estimators=50, random_state=123456) with RepeatedStratifiedKFold(n_repeats=5, n_splits=3, random_state=None)\n",
      "\tvalidate against test set\n"
     ]
    },
    {
     "name": "stderr",
     "output_type": "stream",
     "text": [
      "/opt/anaconda3/lib/python3.8/site-packages/sklearn/metrics/_classification.py:1814: UserWarning: y_pred contains classes not in y_true\n",
      "  warnings.warn('y_pred contains classes not in y_true')\n"
     ]
    },
    {
     "name": "stdout",
     "output_type": "stream",
     "text": [
      "4. Evaluate model with 70% HC\n",
      "\tcross validate RandomForestClassifier(max_depth=100, n_estimators=50, random_state=123456) with RepeatedStratifiedKFold(n_repeats=5, n_splits=3, random_state=None)\n",
      "\tvalidate against test set\n"
     ]
    },
    {
     "name": "stderr",
     "output_type": "stream",
     "text": [
      "/opt/anaconda3/lib/python3.8/site-packages/sklearn/metrics/_classification.py:1814: UserWarning: y_pred contains classes not in y_true\n",
      "  warnings.warn('y_pred contains classes not in y_true')\n"
     ]
    },
    {
     "name": "stdout",
     "output_type": "stream",
     "text": [
      "5. Evaluate model with 35% data with GSE109379\n",
      "\tcross validate RandomForestClassifier(max_depth=100, n_estimators=50, random_state=123456) with RepeatedStratifiedKFold(n_repeats=5, n_splits=3, random_state=None)\n",
      "\tvalidate against test set\n"
     ]
    },
    {
     "name": "stderr",
     "output_type": "stream",
     "text": [
      "/opt/anaconda3/lib/python3.8/site-packages/sklearn/metrics/_classification.py:1814: UserWarning: y_pred contains classes not in y_true\n",
      "  warnings.warn('y_pred contains classes not in y_true')\n"
     ]
    },
    {
     "name": "stdout",
     "output_type": "stream",
     "text": [
      "5. Evaluate model with 35% data with High confident GSE109379\n",
      "\tcross validate RandomForestClassifier(max_depth=100, n_estimators=50, random_state=123456) with RepeatedStratifiedKFold(n_repeats=5, n_splits=3, random_state=None)\n",
      "\tvalidate against test set\n"
     ]
    },
    {
     "name": "stderr",
     "output_type": "stream",
     "text": [
      "/opt/anaconda3/lib/python3.8/site-packages/sklearn/metrics/_classification.py:1814: UserWarning: y_pred contains classes not in y_true\n",
      "  warnings.warn('y_pred contains classes not in y_true')\n"
     ]
    },
    {
     "name": "stdout",
     "output_type": "stream",
     "text": [
      "6. Evaluate model with 70% + GSE90496 pseudo-labeled data\n",
      "\tcross validate RandomForestClassifier(max_depth=100, n_estimators=50, random_state=123456) with RepeatedStratifiedKFold(n_repeats=5, n_splits=3, random_state=None)\n",
      "\tvalidate against test set\n"
     ]
    },
    {
     "name": "stderr",
     "output_type": "stream",
     "text": [
      "/opt/anaconda3/lib/python3.8/site-packages/sklearn/metrics/_classification.py:1814: UserWarning: y_pred contains classes not in y_true\n",
      "  warnings.warn('y_pred contains classes not in y_true')\n"
     ]
    },
    {
     "name": "stdout",
     "output_type": "stream",
     "text": [
      "7. Evaluate model with 70% HC + GSE109379\n",
      "\tcross validate RandomForestClassifier(max_depth=100, n_estimators=50, random_state=123456) with RepeatedStratifiedKFold(n_repeats=5, n_splits=3, random_state=None)\n",
      "\tvalidate against test set\n"
     ]
    },
    {
     "name": "stderr",
     "output_type": "stream",
     "text": [
      "/opt/anaconda3/lib/python3.8/site-packages/sklearn/metrics/_classification.py:1814: UserWarning: y_pred contains classes not in y_true\n",
      "  warnings.warn('y_pred contains classes not in y_true')\n"
     ]
    },
    {
     "name": "stdout",
     "output_type": "stream",
     "text": [
      "8. Evaluate model with 70% + HC GSE90496 \n",
      "\tcross validate RandomForestClassifier(max_depth=100, n_estimators=50, random_state=123456) with RepeatedStratifiedKFold(n_repeats=5, n_splits=3, random_state=None)\n",
      "\tvalidate against test set\n"
     ]
    },
    {
     "name": "stderr",
     "output_type": "stream",
     "text": [
      "/opt/anaconda3/lib/python3.8/site-packages/sklearn/metrics/_classification.py:1814: UserWarning: y_pred contains classes not in y_true\n",
      "  warnings.warn('y_pred contains classes not in y_true')\n"
     ]
    },
    {
     "name": "stdout",
     "output_type": "stream",
     "text": [
      "9. Evaluate model with HC pseudo-labeled data\n",
      "\tcross validate RandomForestClassifier(max_depth=100, n_estimators=50, random_state=123456) with RepeatedStratifiedKFold(n_repeats=5, n_splits=3, random_state=None)\n",
      "\tvalidate against test set\n"
     ]
    },
    {
     "name": "stderr",
     "output_type": "stream",
     "text": [
      "/opt/anaconda3/lib/python3.8/site-packages/sklearn/metrics/_classification.py:1814: UserWarning: y_pred contains classes not in y_true\n",
      "  warnings.warn('y_pred contains classes not in y_true')\n"
     ]
    },
    {
     "name": "stdout",
     "output_type": "stream",
     "text": [
      "6. Store results.\n",
      "Result saved to result_family_seed160_GSE109379_123456.csv\n",
      "1. Read files (seed=320)\n",
      "\tReading ./data_family/seed320_35perc.csv\n",
      "\tReading ./data_family/seed320_70perc.csv\n",
      "\tReading ./data_family/seed320_70percHC.csv\n",
      "\tReading ./data_family/seed320_35perc_gse109379.csv\n",
      "\tReading ./data_family/seed320_35perc_HCgse109379.csv\n",
      "\tReading ./data_family/seed320_70perc_gse109379.csv\n",
      "\tReading ./data_family/seed320_70HC_gse109379.csv\n",
      "\tReading ./data_family/seed320_70perc_gse109379HC.csv\n",
      "\tReading ./data_family/seed320_70HC_gse109379HC.csv\n",
      "\tReading ./data_family/seed320_holdOutTest.csv\n",
      "2. Evaluate model with 35% data\n",
      "\tcross validate RandomForestClassifier(max_depth=100, n_estimators=50, random_state=123456) with RepeatedStratifiedKFold(n_repeats=5, n_splits=3, random_state=None)\n",
      "\tvalidate against test set\n"
     ]
    },
    {
     "name": "stderr",
     "output_type": "stream",
     "text": [
      "/opt/anaconda3/lib/python3.8/site-packages/sklearn/metrics/_classification.py:1814: UserWarning: y_pred contains classes not in y_true\n",
      "  warnings.warn('y_pred contains classes not in y_true')\n"
     ]
    },
    {
     "name": "stdout",
     "output_type": "stream",
     "text": [
      "3. Evaluate model with 70% data\n",
      "\tcross validate RandomForestClassifier(max_depth=100, n_estimators=50, random_state=123456) with RepeatedStratifiedKFold(n_repeats=5, n_splits=3, random_state=None)\n",
      "\tvalidate against test set\n"
     ]
    },
    {
     "name": "stderr",
     "output_type": "stream",
     "text": [
      "/opt/anaconda3/lib/python3.8/site-packages/sklearn/metrics/_classification.py:1814: UserWarning: y_pred contains classes not in y_true\n",
      "  warnings.warn('y_pred contains classes not in y_true')\n"
     ]
    },
    {
     "name": "stdout",
     "output_type": "stream",
     "text": [
      "4. Evaluate model with 70% HC\n",
      "\tcross validate RandomForestClassifier(max_depth=100, n_estimators=50, random_state=123456) with RepeatedStratifiedKFold(n_repeats=5, n_splits=3, random_state=None)\n",
      "\tvalidate against test set\n"
     ]
    },
    {
     "name": "stderr",
     "output_type": "stream",
     "text": [
      "/opt/anaconda3/lib/python3.8/site-packages/sklearn/metrics/_classification.py:1814: UserWarning: y_pred contains classes not in y_true\n",
      "  warnings.warn('y_pred contains classes not in y_true')\n"
     ]
    },
    {
     "name": "stdout",
     "output_type": "stream",
     "text": [
      "5. Evaluate model with 35% data with GSE109379\n",
      "\tcross validate RandomForestClassifier(max_depth=100, n_estimators=50, random_state=123456) with RepeatedStratifiedKFold(n_repeats=5, n_splits=3, random_state=None)\n",
      "\tvalidate against test set\n"
     ]
    },
    {
     "name": "stderr",
     "output_type": "stream",
     "text": [
      "/opt/anaconda3/lib/python3.8/site-packages/sklearn/metrics/_classification.py:1814: UserWarning: y_pred contains classes not in y_true\n",
      "  warnings.warn('y_pred contains classes not in y_true')\n"
     ]
    },
    {
     "name": "stdout",
     "output_type": "stream",
     "text": [
      "5. Evaluate model with 35% data with High confident GSE109379\n",
      "\tcross validate RandomForestClassifier(max_depth=100, n_estimators=50, random_state=123456) with RepeatedStratifiedKFold(n_repeats=5, n_splits=3, random_state=None)\n",
      "\tvalidate against test set\n"
     ]
    },
    {
     "name": "stderr",
     "output_type": "stream",
     "text": [
      "/opt/anaconda3/lib/python3.8/site-packages/sklearn/metrics/_classification.py:1814: UserWarning: y_pred contains classes not in y_true\n",
      "  warnings.warn('y_pred contains classes not in y_true')\n"
     ]
    },
    {
     "name": "stdout",
     "output_type": "stream",
     "text": [
      "6. Evaluate model with 70% + GSE90496 pseudo-labeled data\n",
      "\tcross validate RandomForestClassifier(max_depth=100, n_estimators=50, random_state=123456) with RepeatedStratifiedKFold(n_repeats=5, n_splits=3, random_state=None)\n",
      "\tvalidate against test set\n"
     ]
    },
    {
     "name": "stderr",
     "output_type": "stream",
     "text": [
      "/opt/anaconda3/lib/python3.8/site-packages/sklearn/metrics/_classification.py:1814: UserWarning: y_pred contains classes not in y_true\n",
      "  warnings.warn('y_pred contains classes not in y_true')\n"
     ]
    },
    {
     "name": "stdout",
     "output_type": "stream",
     "text": [
      "7. Evaluate model with 70% HC + GSE109379\n",
      "\tcross validate RandomForestClassifier(max_depth=100, n_estimators=50, random_state=123456) with RepeatedStratifiedKFold(n_repeats=5, n_splits=3, random_state=None)\n",
      "\tvalidate against test set\n"
     ]
    },
    {
     "name": "stderr",
     "output_type": "stream",
     "text": [
      "/opt/anaconda3/lib/python3.8/site-packages/sklearn/metrics/_classification.py:1814: UserWarning: y_pred contains classes not in y_true\n",
      "  warnings.warn('y_pred contains classes not in y_true')\n"
     ]
    },
    {
     "name": "stdout",
     "output_type": "stream",
     "text": [
      "8. Evaluate model with 70% + HC GSE90496 \n",
      "\tcross validate RandomForestClassifier(max_depth=100, n_estimators=50, random_state=123456) with RepeatedStratifiedKFold(n_repeats=5, n_splits=3, random_state=None)\n",
      "\tvalidate against test set\n"
     ]
    },
    {
     "name": "stderr",
     "output_type": "stream",
     "text": [
      "/opt/anaconda3/lib/python3.8/site-packages/sklearn/metrics/_classification.py:1814: UserWarning: y_pred contains classes not in y_true\n",
      "  warnings.warn('y_pred contains classes not in y_true')\n"
     ]
    },
    {
     "name": "stdout",
     "output_type": "stream",
     "text": [
      "9. Evaluate model with HC pseudo-labeled data\n",
      "\tcross validate RandomForestClassifier(max_depth=100, n_estimators=50, random_state=123456) with RepeatedStratifiedKFold(n_repeats=5, n_splits=3, random_state=None)\n",
      "\tvalidate against test set\n",
      "6. Store results.\n",
      "Result saved to result_family_seed320_GSE109379_123456.csv\n"
     ]
    },
    {
     "name": "stderr",
     "output_type": "stream",
     "text": [
      "/opt/anaconda3/lib/python3.8/site-packages/sklearn/metrics/_classification.py:1814: UserWarning: y_pred contains classes not in y_true\n",
      "  warnings.warn('y_pred contains classes not in y_true')\n"
     ]
    }
   ],
   "source": [
    "run_all_seeds(123456)"
   ]
  },
  {
   "cell_type": "code",
   "execution_count": null,
   "metadata": {},
   "outputs": [],
   "source": []
  },
  {
   "cell_type": "code",
   "execution_count": 3,
   "metadata": {
    "jupyter": {
     "source_hidden": true
    }
   },
   "outputs": [],
   "source": [
    "file1 = './data/seed2_35perc_train.Mat'\n",
    "file2='./data/seed2_70perc_SSLabel.csv'\n",
    "file3='./data/seed2_SSLabel_HC.csv'\n",
    "X35, y35, xitest, yitest = read_Mat(file1)\n",
    "X70, y70 = process_csv(file2)\n",
    "XHC, yHC = process_csv(file3)"
   ]
  },
  {
   "cell_type": "code",
   "execution_count": 7,
   "metadata": {
    "collapsed": true,
    "jupyter": {
     "outputs_hidden": true,
     "source_hidden": true
    }
   },
   "outputs": [
    {
     "name": "stderr",
     "output_type": "stream",
     "text": [
      "/opt/anaconda3/lib/python3.8/site-packages/sklearn/metrics/_classification.py:1814: UserWarning: y_pred contains classes not in y_true\n",
      "  warnings.warn('y_pred contains classes not in y_true')\n"
     ]
    }
   ],
   "source": [
    "result35 = apply_CV(model, cv, X35, y35)\n",
    "result_ts_35 = evaluate_against_test_set(model, X35, y35, xitest, yitest)"
   ]
  },
  {
   "cell_type": "code",
   "execution_count": 8,
   "metadata": {
    "collapsed": true,
    "jupyter": {
     "outputs_hidden": true,
     "source_hidden": true
    }
   },
   "outputs": [
    {
     "name": "stderr",
     "output_type": "stream",
     "text": [
      "/opt/anaconda3/lib/python3.8/site-packages/sklearn/metrics/_classification.py:1814: UserWarning: y_pred contains classes not in y_true\n",
      "  warnings.warn('y_pred contains classes not in y_true')\n"
     ]
    }
   ],
   "source": [
    "result70 = apply_CV(model, cv, X70, y70)\n",
    "result_ts_70 = evaluate_against_test_set(model, X70, y70, xitest, yitest)"
   ]
  },
  {
   "cell_type": "code",
   "execution_count": 9,
   "metadata": {
    "collapsed": true,
    "jupyter": {
     "outputs_hidden": true,
     "source_hidden": true
    }
   },
   "outputs": [
    {
     "name": "stderr",
     "output_type": "stream",
     "text": [
      "/opt/anaconda3/lib/python3.8/site-packages/sklearn/metrics/_classification.py:1814: UserWarning: y_pred contains classes not in y_true\n",
      "  warnings.warn('y_pred contains classes not in y_true')\n"
     ]
    }
   ],
   "source": [
    "resultHC = apply_CV(model, cv, XHC, yHC)\n",
    "result_ts_HC = evaluate_against_test_set(model, XHC, yHC, xitest, yitest)"
   ]
  },
  {
   "cell_type": "code",
   "execution_count": 10,
   "metadata": {
    "jupyter": {
     "source_hidden": true
    }
   },
   "outputs": [],
   "source": [
    "result_df = pandas.DataFrame(data=[], columns=['Seed','Dataset','Validation','Metric','Value'])"
   ]
  },
  {
   "cell_type": "code",
   "execution_count": 11,
   "metadata": {
    "jupyter": {
     "source_hidden": true
    }
   },
   "outputs": [],
   "source": [
    "result_df = append_cv_results(result_df, result35, 2, '35%')\n",
    "result_df = append_testset_results(result_df, result_ts_35, 2, '35%')\n",
    "result_df = append_cv_results(result_df, result70, 2, '70%')\n",
    "result_df = append_testset_results(result_df, result_ts_70, 2, '70%')\n",
    "result_df = append_cv_results(result_df, resultHC, 2, 'HC')\n",
    "result_df = append_testset_results(result_df, result_ts_HC, 2, 'HC')"
   ]
  },
  {
   "cell_type": "code",
   "execution_count": 15,
   "metadata": {
    "collapsed": true,
    "jupyter": {
     "outputs_hidden": true,
     "source_hidden": true
    }
   },
   "outputs": [
    {
     "data": {
      "text/html": [
       "<div>\n",
       "<style scoped>\n",
       "    .dataframe tbody tr th:only-of-type {\n",
       "        vertical-align: middle;\n",
       "    }\n",
       "\n",
       "    .dataframe tbody tr th {\n",
       "        vertical-align: top;\n",
       "    }\n",
       "\n",
       "    .dataframe thead th {\n",
       "        text-align: right;\n",
       "    }\n",
       "</style>\n",
       "<table border=\"1\" class=\"dataframe\">\n",
       "  <thead>\n",
       "    <tr style=\"text-align: right;\">\n",
       "      <th></th>\n",
       "      <th>Seed</th>\n",
       "      <th>Dataset</th>\n",
       "      <th>Validation</th>\n",
       "      <th>Metric</th>\n",
       "      <th>Value</th>\n",
       "    </tr>\n",
       "  </thead>\n",
       "  <tbody>\n",
       "    <tr>\n",
       "      <th>0</th>\n",
       "      <td>2</td>\n",
       "      <td>35%</td>\n",
       "      <td>cross_val</td>\n",
       "      <td>balanced_acc</td>\n",
       "      <td>0.710</td>\n",
       "    </tr>\n",
       "    <tr>\n",
       "      <th>1</th>\n",
       "      <td>2</td>\n",
       "      <td>35%</td>\n",
       "      <td>cross_val</td>\n",
       "      <td>f1</td>\n",
       "      <td>0.810</td>\n",
       "    </tr>\n",
       "    <tr>\n",
       "      <th>2</th>\n",
       "      <td>2</td>\n",
       "      <td>35%</td>\n",
       "      <td>cross_val</td>\n",
       "      <td>roc_auc_ovr</td>\n",
       "      <td>0.990</td>\n",
       "    </tr>\n",
       "    <tr>\n",
       "      <th>3</th>\n",
       "      <td>2</td>\n",
       "      <td>35%</td>\n",
       "      <td>vs_testset</td>\n",
       "      <td>prec</td>\n",
       "      <td>0.860</td>\n",
       "    </tr>\n",
       "    <tr>\n",
       "      <th>4</th>\n",
       "      <td>2</td>\n",
       "      <td>35%</td>\n",
       "      <td>vs_testset</td>\n",
       "      <td>rec</td>\n",
       "      <td>0.880</td>\n",
       "    </tr>\n",
       "    <tr>\n",
       "      <th>5</th>\n",
       "      <td>2</td>\n",
       "      <td>35%</td>\n",
       "      <td>vs_testset</td>\n",
       "      <td>acc</td>\n",
       "      <td>0.880</td>\n",
       "    </tr>\n",
       "    <tr>\n",
       "      <th>6</th>\n",
       "      <td>2</td>\n",
       "      <td>35%</td>\n",
       "      <td>vs_testset</td>\n",
       "      <td>balanced_acc</td>\n",
       "      <td>0.903</td>\n",
       "    </tr>\n",
       "    <tr>\n",
       "      <th>7</th>\n",
       "      <td>2</td>\n",
       "      <td>70%</td>\n",
       "      <td>cross_val</td>\n",
       "      <td>balanced_acc</td>\n",
       "      <td>0.830</td>\n",
       "    </tr>\n",
       "    <tr>\n",
       "      <th>8</th>\n",
       "      <td>2</td>\n",
       "      <td>70%</td>\n",
       "      <td>cross_val</td>\n",
       "      <td>f1</td>\n",
       "      <td>0.900</td>\n",
       "    </tr>\n",
       "    <tr>\n",
       "      <th>9</th>\n",
       "      <td>2</td>\n",
       "      <td>70%</td>\n",
       "      <td>cross_val</td>\n",
       "      <td>roc_auc_ovr</td>\n",
       "      <td>1.000</td>\n",
       "    </tr>\n",
       "    <tr>\n",
       "      <th>10</th>\n",
       "      <td>2</td>\n",
       "      <td>70%</td>\n",
       "      <td>vs_testset</td>\n",
       "      <td>prec</td>\n",
       "      <td>0.912</td>\n",
       "    </tr>\n",
       "    <tr>\n",
       "      <th>11</th>\n",
       "      <td>2</td>\n",
       "      <td>70%</td>\n",
       "      <td>vs_testset</td>\n",
       "      <td>rec</td>\n",
       "      <td>0.918</td>\n",
       "    </tr>\n",
       "    <tr>\n",
       "      <th>12</th>\n",
       "      <td>2</td>\n",
       "      <td>70%</td>\n",
       "      <td>vs_testset</td>\n",
       "      <td>acc</td>\n",
       "      <td>0.918</td>\n",
       "    </tr>\n",
       "    <tr>\n",
       "      <th>13</th>\n",
       "      <td>2</td>\n",
       "      <td>70%</td>\n",
       "      <td>vs_testset</td>\n",
       "      <td>balanced_acc</td>\n",
       "      <td>0.930</td>\n",
       "    </tr>\n",
       "    <tr>\n",
       "      <th>14</th>\n",
       "      <td>2</td>\n",
       "      <td>HC</td>\n",
       "      <td>cross_val</td>\n",
       "      <td>balanced_acc</td>\n",
       "      <td>0.820</td>\n",
       "    </tr>\n",
       "    <tr>\n",
       "      <th>15</th>\n",
       "      <td>2</td>\n",
       "      <td>HC</td>\n",
       "      <td>cross_val</td>\n",
       "      <td>f1</td>\n",
       "      <td>0.910</td>\n",
       "    </tr>\n",
       "    <tr>\n",
       "      <th>16</th>\n",
       "      <td>2</td>\n",
       "      <td>HC</td>\n",
       "      <td>cross_val</td>\n",
       "      <td>roc_auc_ovr</td>\n",
       "      <td>1.000</td>\n",
       "    </tr>\n",
       "    <tr>\n",
       "      <th>17</th>\n",
       "      <td>2</td>\n",
       "      <td>HC</td>\n",
       "      <td>vs_testset</td>\n",
       "      <td>prec</td>\n",
       "      <td>0.893</td>\n",
       "    </tr>\n",
       "    <tr>\n",
       "      <th>18</th>\n",
       "      <td>2</td>\n",
       "      <td>HC</td>\n",
       "      <td>vs_testset</td>\n",
       "      <td>rec</td>\n",
       "      <td>0.913</td>\n",
       "    </tr>\n",
       "    <tr>\n",
       "      <th>19</th>\n",
       "      <td>2</td>\n",
       "      <td>HC</td>\n",
       "      <td>vs_testset</td>\n",
       "      <td>acc</td>\n",
       "      <td>0.913</td>\n",
       "    </tr>\n",
       "    <tr>\n",
       "      <th>20</th>\n",
       "      <td>2</td>\n",
       "      <td>HC</td>\n",
       "      <td>vs_testset</td>\n",
       "      <td>balanced_acc</td>\n",
       "      <td>0.936</td>\n",
       "    </tr>\n",
       "  </tbody>\n",
       "</table>\n",
       "</div>"
      ],
      "text/plain": [
       "   Seed Dataset  Validation        Metric  Value\n",
       "0     2     35%   cross_val  balanced_acc  0.710\n",
       "1     2     35%   cross_val            f1  0.810\n",
       "2     2     35%   cross_val   roc_auc_ovr  0.990\n",
       "3     2     35%  vs_testset          prec  0.860\n",
       "4     2     35%  vs_testset           rec  0.880\n",
       "5     2     35%  vs_testset           acc  0.880\n",
       "6     2     35%  vs_testset  balanced_acc  0.903\n",
       "7     2     70%   cross_val  balanced_acc  0.830\n",
       "8     2     70%   cross_val            f1  0.900\n",
       "9     2     70%   cross_val   roc_auc_ovr  1.000\n",
       "10    2     70%  vs_testset          prec  0.912\n",
       "11    2     70%  vs_testset           rec  0.918\n",
       "12    2     70%  vs_testset           acc  0.918\n",
       "13    2     70%  vs_testset  balanced_acc  0.930\n",
       "14    2      HC   cross_val  balanced_acc  0.820\n",
       "15    2      HC   cross_val            f1  0.910\n",
       "16    2      HC   cross_val   roc_auc_ovr  1.000\n",
       "17    2      HC  vs_testset          prec  0.893\n",
       "18    2      HC  vs_testset           rec  0.913\n",
       "19    2      HC  vs_testset           acc  0.913\n",
       "20    2      HC  vs_testset  balanced_acc  0.936"
      ]
     },
     "execution_count": 15,
     "metadata": {},
     "output_type": "execute_result"
    }
   ],
   "source": [
    "result_df"
   ]
  }
 ],
 "metadata": {
  "kernelspec": {
   "display_name": "Python 3",
   "language": "python",
   "name": "python3"
  },
  "language_info": {
   "codemirror_mode": {
    "name": "ipython",
    "version": 3
   },
   "file_extension": ".py",
   "mimetype": "text/x-python",
   "name": "python",
   "nbconvert_exporter": "python",
   "pygments_lexer": "ipython3",
   "version": "3.8.5"
  }
 },
 "nbformat": 4,
 "nbformat_minor": 4
}
