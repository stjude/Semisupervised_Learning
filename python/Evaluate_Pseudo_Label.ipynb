{
 "cells": [
  {
   "cell_type": "markdown",
   "metadata": {},
   "source": [
    "# Evaluate Pseudo Labels"
   ]
  },
  {
   "cell_type": "markdown",
   "metadata": {},
   "source": [
    "Questions:\n",
    "1. tba\n",
    "2. tba"
   ]
  },
  {
   "cell_type": "markdown",
   "metadata": {},
   "source": [
    "## Design\n",
    "\n",
    "Original data set has 2801 samples x 5072 features. This data were split into 70% train and 30% test. This process was repeated 7 times to create 7 different train-test splits.\n",
    "\n",
    "For each split:\n",
    "1. Create a random model\n",
    "2. Evaluate the model on 35% data  with itest\n",
    "3. Evaluate the model on 35% data + 35% pseudo-label data with itest\n",
    "4. Evaluate the model on 35% data + high confident pseudo-label data with itest\n",
    "\n",
    "Box plots for each model (1 box plot show the average accuracies of each model over the 7 train-test splits)"
   ]
  },
  {
   "cell_type": "code",
   "execution_count": 4,
   "metadata": {},
   "outputs": [],
   "source": [
    "import scipy.io\n",
    "from sklearn.ensemble import RandomForestClassifier\n",
    "from sklearn.model_selection import cross_validate, RepeatedStratifiedKFold\n",
    "from sklearn.metrics import accuracy_score, precision_score, recall_score, balanced_accuracy_score\n",
    "import pandas\n",
    "import numpy as np\n",
    "\n",
    "def read_Mat(filename):\n",
    "    d = scipy.io.loadmat(filename)\n",
    "    xtrain = d['xtrain']\n",
    "    ytrain = [x[0][0].strip() for x in d['ytrain']]\n",
    "    xitest = d['xitest']\n",
    "    yitest = [x[0][0].strip() for x in d['yitest']]\n",
    "    return(xtrain, ytrain, xitest, yitest)\n",
    "\n",
    "def process_csv(filename):\n",
    "    df = pandas.read_csv(filename, index_col=0)\n",
    "    y = df.y\n",
    "    X = df.drop(columns=['y'])\n",
    "    return (X, y)\n",
    "\n",
    "def append_result(p, df):\n",
    "    s = pandas.Series(p, index=df.columns)\n",
    "    return df.append(s, ignore_index=True)\n",
    "\n",
    "def apply_CV(mod, cv, X, y):\n",
    "    return cross_validate(mod, X, y, cv=cv, scoring=['balanced_accuracy', 'accuracy', 'recall_weighted'])\n",
    "\n",
    "def append_cv_results(df, r, seed_name, dataset_name):\n",
    "    df = append_result([seed_name, dataset_name, 'cross_val', 'balanced_acc', r['test_balanced_accuracy'].mean().round(2)], df)\n",
    "    df = append_result([seed_name, dataset_name, 'cross_val', 'accuracy', r['test_accuracy'].mean().round(2)], df)\n",
    "    df = append_result([seed_name, dataset_name, 'cross_val', 'recall_weighted', r['test_recall_weighted'].mean().round(2)], df)\n",
    "    return df\n",
    "\n",
    "def evaluate_against_test_set(mod, x_train, y_train, x_test, y_test):\n",
    "    mod.fit(x_train, y_train)\n",
    "    y_pred = mod.predict(x_test)\n",
    "    rec = recall_score(y_test, y_pred,  average='weighted', zero_division=0).round(3)\n",
    "    acc = accuracy_score(y_pred, y_test).round(3)\n",
    "    b_acc = balanced_accuracy_score(y_pred, y_test).round(3)\n",
    "    return (rec, acc, b_acc)\n",
    "\n",
    "def append_testset_results(df, r, seed_name, dataset_name):\n",
    "    df = append_result([seed_name, dataset_name, 'vs_testset', 'accuracy', r[0]], df)\n",
    "    df = append_result([seed_name, dataset_name, 'vs_testset', 'balanced_acc', r[1]], df)\n",
    "    df = append_result([seed_name, dataset_name, 'vs_testset', 'recall_weighted', r[2]], df)\n",
    "    return df\n",
    "\n",
    "def evaluate(seed, model, cv):\n",
    "    print('1. Read files (seed={})'.format(seed))\n",
    "    file1 = './data/seed{}_35perc_train.csv'.format(seed)\n",
    "    file2='./data/seed{}_70perc_SSLabel.csv'.format(seed)\n",
    "    file3='./data/seed{}_SSLabel_HC.csv'.format(seed)\n",
    "    file4 = './data/seed{}_holdOutTest.csv'.format(seed)\n",
    "    print('\\tReading', file1)\n",
    "    X35, y35 = process_csv(file1)\n",
    "    print('\\tReading', file2)\n",
    "    X70, y70 = process_csv(file2)\n",
    "    print('\\tReading', file3)\n",
    "    XHC, yHC = process_csv(file3)\n",
    "    print('\\tReading', file4)\n",
    "    xitest, yitest = process_csv(file4)\n",
    "    \n",
    "    print('2. Evaluate model with 35% data')\n",
    "    print('\\tcross validate', model, 'with', cv)\n",
    "    result_cv_35 = apply_CV(model, cv, X35, y35)\n",
    "    print('\\tvalidate against test set')\n",
    "    result_ts_35 = evaluate_against_test_set(model, X35, y35, xitest, yitest)\n",
    "          \n",
    "    print('3. Evaluate model with 70% data')\n",
    "    print('\\tcross validate', model, 'with', cv)\n",
    "    result_cv_70 = apply_CV(model, cv, X70, y70)\n",
    "    print('\\tvalidate against test set')\n",
    "    result_ts_70 = evaluate_against_test_set(model, X70, y70, xitest, yitest)\n",
    "\n",
    "    print('4. Evaluate model with HC pseudo-labeled data')    \n",
    "    print('\\tcross validate', model, 'with', cv)\n",
    "    result_cv_HC = apply_CV(model, cv, XHC, yHC)\n",
    "    print('\\tvalidate against test set')\n",
    "    result_ts_HC = evaluate_against_test_set(model, XHC, yHC, xitest, yitest)\n",
    "\n",
    "    print('5. Store results.')\n",
    "    df = pandas.DataFrame(data=[], columns=['Seed','Dataset','Validation','Metric','Value'])\n",
    "    df = append_cv_results(df, result_cv_35, seed, '35%')\n",
    "    df = append_testset_results(df, result_ts_35, seed, '35%')\n",
    "    df = append_cv_results(df, result_cv_70, seed, '70%')\n",
    "    df = append_testset_results(df, result_ts_70, seed, '70%')\n",
    "    df = append_cv_results(df, result_cv_HC, seed, 'HC')\n",
    "    df = append_testset_results(df, result_ts_HC, seed, 'HC')\n",
    "    \n",
    "    return df\n",
    "def run_all_seeds(rand):\n",
    "    model = RandomForestClassifier(n_estimators = 50, max_depth=100, random_state=rand)\n",
    "    cv = RepeatedStratifiedKFold(n_splits=3, n_repeats=5)\n",
    "    for seed in [1, 2, 20, 40, 80, 160, 320]:\n",
    "        result = evaluate(seed, model, cv)\n",
    "        output_file = 'result_seed{}_{}.csv'.format(seed, rand)\n",
    "        result.to_csv(output_file, index=False)\n",
    "        print('Result saved to', output_file)"
   ]
  },
  {
   "cell_type": "code",
   "execution_count": 5,
   "metadata": {},
   "outputs": [
    {
     "name": "stdout",
     "output_type": "stream",
     "text": [
      "1. Read files (seed=1)\n",
      "\tReading ./data/seed1_35perc_train.csv\n",
      "\tReading ./data/seed1_70perc_SSLabel.csv\n",
      "\tReading ./data/seed1_SSLabel_HC.csv\n",
      "\tReading ./data/seed1_holdOutTest.csv\n",
      "2. Evaluate model with 35% data\n",
      "\tcross validate RandomForestClassifier(max_depth=100, n_estimators=50, random_state=123456) with RepeatedStratifiedKFold(n_repeats=5, n_splits=3, random_state=None)\n",
      "\tvalidate against test set\n"
     ]
    },
    {
     "name": "stderr",
     "output_type": "stream",
     "text": [
      "/opt/anaconda3/lib/python3.8/site-packages/sklearn/metrics/_classification.py:1814: UserWarning: y_pred contains classes not in y_true\n",
      "  warnings.warn('y_pred contains classes not in y_true')\n"
     ]
    },
    {
     "name": "stdout",
     "output_type": "stream",
     "text": [
      "3. Evaluate model with 70% data\n",
      "\tcross validate RandomForestClassifier(max_depth=100, n_estimators=50, random_state=123456) with RepeatedStratifiedKFold(n_repeats=5, n_splits=3, random_state=None)\n",
      "\tvalidate against test set\n"
     ]
    },
    {
     "name": "stderr",
     "output_type": "stream",
     "text": [
      "/opt/anaconda3/lib/python3.8/site-packages/sklearn/metrics/_classification.py:1814: UserWarning: y_pred contains classes not in y_true\n",
      "  warnings.warn('y_pred contains classes not in y_true')\n"
     ]
    },
    {
     "name": "stdout",
     "output_type": "stream",
     "text": [
      "4. Evaluate model with HC pseudo-labeled data\n",
      "\tcross validate RandomForestClassifier(max_depth=100, n_estimators=50, random_state=123456) with RepeatedStratifiedKFold(n_repeats=5, n_splits=3, random_state=None)\n",
      "\tvalidate against test set\n"
     ]
    },
    {
     "name": "stderr",
     "output_type": "stream",
     "text": [
      "/opt/anaconda3/lib/python3.8/site-packages/sklearn/metrics/_classification.py:1814: UserWarning: y_pred contains classes not in y_true\n",
      "  warnings.warn('y_pred contains classes not in y_true')\n"
     ]
    },
    {
     "name": "stdout",
     "output_type": "stream",
     "text": [
      "5. Store results.\n",
      "Result saved to result_seed1_123456.csv\n",
      "1. Read files (seed=2)\n",
      "\tReading ./data/seed2_35perc_train.csv\n",
      "\tReading ./data/seed2_70perc_SSLabel.csv\n",
      "\tReading ./data/seed2_SSLabel_HC.csv\n",
      "\tReading ./data/seed2_holdOutTest.csv\n",
      "2. Evaluate model with 35% data\n",
      "\tcross validate RandomForestClassifier(max_depth=100, n_estimators=50, random_state=123456) with RepeatedStratifiedKFold(n_repeats=5, n_splits=3, random_state=None)\n",
      "\tvalidate against test set\n"
     ]
    },
    {
     "name": "stderr",
     "output_type": "stream",
     "text": [
      "/opt/anaconda3/lib/python3.8/site-packages/sklearn/metrics/_classification.py:1814: UserWarning: y_pred contains classes not in y_true\n",
      "  warnings.warn('y_pred contains classes not in y_true')\n"
     ]
    },
    {
     "name": "stdout",
     "output_type": "stream",
     "text": [
      "3. Evaluate model with 70% data\n",
      "\tcross validate RandomForestClassifier(max_depth=100, n_estimators=50, random_state=123456) with RepeatedStratifiedKFold(n_repeats=5, n_splits=3, random_state=None)\n",
      "\tvalidate against test set\n"
     ]
    },
    {
     "name": "stderr",
     "output_type": "stream",
     "text": [
      "/opt/anaconda3/lib/python3.8/site-packages/sklearn/metrics/_classification.py:1814: UserWarning: y_pred contains classes not in y_true\n",
      "  warnings.warn('y_pred contains classes not in y_true')\n"
     ]
    },
    {
     "name": "stdout",
     "output_type": "stream",
     "text": [
      "4. Evaluate model with HC pseudo-labeled data\n",
      "\tcross validate RandomForestClassifier(max_depth=100, n_estimators=50, random_state=123456) with RepeatedStratifiedKFold(n_repeats=5, n_splits=3, random_state=None)\n",
      "\tvalidate against test set\n"
     ]
    },
    {
     "name": "stderr",
     "output_type": "stream",
     "text": [
      "/opt/anaconda3/lib/python3.8/site-packages/sklearn/metrics/_classification.py:1814: UserWarning: y_pred contains classes not in y_true\n",
      "  warnings.warn('y_pred contains classes not in y_true')\n"
     ]
    },
    {
     "name": "stdout",
     "output_type": "stream",
     "text": [
      "5. Store results.\n",
      "Result saved to result_seed2_123456.csv\n",
      "1. Read files (seed=20)\n",
      "\tReading ./data/seed20_35perc_train.csv\n",
      "\tReading ./data/seed20_70perc_SSLabel.csv\n",
      "\tReading ./data/seed20_SSLabel_HC.csv\n",
      "\tReading ./data/seed20_holdOutTest.csv\n",
      "2. Evaluate model with 35% data\n",
      "\tcross validate RandomForestClassifier(max_depth=100, n_estimators=50, random_state=123456) with RepeatedStratifiedKFold(n_repeats=5, n_splits=3, random_state=None)\n",
      "\tvalidate against test set\n"
     ]
    },
    {
     "name": "stderr",
     "output_type": "stream",
     "text": [
      "/opt/anaconda3/lib/python3.8/site-packages/sklearn/metrics/_classification.py:1814: UserWarning: y_pred contains classes not in y_true\n",
      "  warnings.warn('y_pred contains classes not in y_true')\n"
     ]
    },
    {
     "name": "stdout",
     "output_type": "stream",
     "text": [
      "3. Evaluate model with 70% data\n",
      "\tcross validate RandomForestClassifier(max_depth=100, n_estimators=50, random_state=123456) with RepeatedStratifiedKFold(n_repeats=5, n_splits=3, random_state=None)\n",
      "\tvalidate against test set\n"
     ]
    },
    {
     "name": "stderr",
     "output_type": "stream",
     "text": [
      "/opt/anaconda3/lib/python3.8/site-packages/sklearn/metrics/_classification.py:1814: UserWarning: y_pred contains classes not in y_true\n",
      "  warnings.warn('y_pred contains classes not in y_true')\n"
     ]
    },
    {
     "name": "stdout",
     "output_type": "stream",
     "text": [
      "4. Evaluate model with HC pseudo-labeled data\n",
      "\tcross validate RandomForestClassifier(max_depth=100, n_estimators=50, random_state=123456) with RepeatedStratifiedKFold(n_repeats=5, n_splits=3, random_state=None)\n",
      "\tvalidate against test set\n"
     ]
    },
    {
     "name": "stderr",
     "output_type": "stream",
     "text": [
      "/opt/anaconda3/lib/python3.8/site-packages/sklearn/metrics/_classification.py:1814: UserWarning: y_pred contains classes not in y_true\n",
      "  warnings.warn('y_pred contains classes not in y_true')\n"
     ]
    },
    {
     "name": "stdout",
     "output_type": "stream",
     "text": [
      "5. Store results.\n",
      "Result saved to result_seed20_123456.csv\n",
      "1. Read files (seed=40)\n",
      "\tReading ./data/seed40_35perc_train.csv\n",
      "\tReading ./data/seed40_70perc_SSLabel.csv\n",
      "\tReading ./data/seed40_SSLabel_HC.csv\n",
      "\tReading ./data/seed40_holdOutTest.csv\n",
      "2. Evaluate model with 35% data\n",
      "\tcross validate RandomForestClassifier(max_depth=100, n_estimators=50, random_state=123456) with RepeatedStratifiedKFold(n_repeats=5, n_splits=3, random_state=None)\n",
      "\tvalidate against test set\n"
     ]
    },
    {
     "name": "stderr",
     "output_type": "stream",
     "text": [
      "/opt/anaconda3/lib/python3.8/site-packages/sklearn/metrics/_classification.py:1814: UserWarning: y_pred contains classes not in y_true\n",
      "  warnings.warn('y_pred contains classes not in y_true')\n"
     ]
    },
    {
     "name": "stdout",
     "output_type": "stream",
     "text": [
      "3. Evaluate model with 70% data\n",
      "\tcross validate RandomForestClassifier(max_depth=100, n_estimators=50, random_state=123456) with RepeatedStratifiedKFold(n_repeats=5, n_splits=3, random_state=None)\n",
      "\tvalidate against test set\n"
     ]
    },
    {
     "name": "stderr",
     "output_type": "stream",
     "text": [
      "/opt/anaconda3/lib/python3.8/site-packages/sklearn/metrics/_classification.py:1814: UserWarning: y_pred contains classes not in y_true\n",
      "  warnings.warn('y_pred contains classes not in y_true')\n"
     ]
    },
    {
     "name": "stdout",
     "output_type": "stream",
     "text": [
      "4. Evaluate model with HC pseudo-labeled data\n",
      "\tcross validate RandomForestClassifier(max_depth=100, n_estimators=50, random_state=123456) with RepeatedStratifiedKFold(n_repeats=5, n_splits=3, random_state=None)\n",
      "\tvalidate against test set\n"
     ]
    },
    {
     "name": "stderr",
     "output_type": "stream",
     "text": [
      "/opt/anaconda3/lib/python3.8/site-packages/sklearn/metrics/_classification.py:1814: UserWarning: y_pred contains classes not in y_true\n",
      "  warnings.warn('y_pred contains classes not in y_true')\n"
     ]
    },
    {
     "name": "stdout",
     "output_type": "stream",
     "text": [
      "5. Store results.\n",
      "Result saved to result_seed40_123456.csv\n",
      "1. Read files (seed=80)\n",
      "\tReading ./data/seed80_35perc_train.csv\n",
      "\tReading ./data/seed80_70perc_SSLabel.csv\n",
      "\tReading ./data/seed80_SSLabel_HC.csv\n",
      "\tReading ./data/seed80_holdOutTest.csv\n",
      "2. Evaluate model with 35% data\n",
      "\tcross validate RandomForestClassifier(max_depth=100, n_estimators=50, random_state=123456) with RepeatedStratifiedKFold(n_repeats=5, n_splits=3, random_state=None)\n",
      "\tvalidate against test set\n"
     ]
    },
    {
     "name": "stderr",
     "output_type": "stream",
     "text": [
      "/opt/anaconda3/lib/python3.8/site-packages/sklearn/metrics/_classification.py:1814: UserWarning: y_pred contains classes not in y_true\n",
      "  warnings.warn('y_pred contains classes not in y_true')\n"
     ]
    },
    {
     "name": "stdout",
     "output_type": "stream",
     "text": [
      "3. Evaluate model with 70% data\n",
      "\tcross validate RandomForestClassifier(max_depth=100, n_estimators=50, random_state=123456) with RepeatedStratifiedKFold(n_repeats=5, n_splits=3, random_state=None)\n",
      "\tvalidate against test set\n"
     ]
    },
    {
     "name": "stderr",
     "output_type": "stream",
     "text": [
      "/opt/anaconda3/lib/python3.8/site-packages/sklearn/metrics/_classification.py:1814: UserWarning: y_pred contains classes not in y_true\n",
      "  warnings.warn('y_pred contains classes not in y_true')\n"
     ]
    },
    {
     "name": "stdout",
     "output_type": "stream",
     "text": [
      "4. Evaluate model with HC pseudo-labeled data\n",
      "\tcross validate RandomForestClassifier(max_depth=100, n_estimators=50, random_state=123456) with RepeatedStratifiedKFold(n_repeats=5, n_splits=3, random_state=None)\n",
      "\tvalidate against test set\n"
     ]
    },
    {
     "name": "stderr",
     "output_type": "stream",
     "text": [
      "/opt/anaconda3/lib/python3.8/site-packages/sklearn/metrics/_classification.py:1814: UserWarning: y_pred contains classes not in y_true\n",
      "  warnings.warn('y_pred contains classes not in y_true')\n"
     ]
    },
    {
     "name": "stdout",
     "output_type": "stream",
     "text": [
      "5. Store results.\n",
      "Result saved to result_seed80_123456.csv\n",
      "1. Read files (seed=160)\n",
      "\tReading ./data/seed160_35perc_train.csv\n",
      "\tReading ./data/seed160_70perc_SSLabel.csv\n",
      "\tReading ./data/seed160_SSLabel_HC.csv\n",
      "\tReading ./data/seed160_holdOutTest.csv\n",
      "2. Evaluate model with 35% data\n",
      "\tcross validate RandomForestClassifier(max_depth=100, n_estimators=50, random_state=123456) with RepeatedStratifiedKFold(n_repeats=5, n_splits=3, random_state=None)\n",
      "\tvalidate against test set\n"
     ]
    },
    {
     "name": "stderr",
     "output_type": "stream",
     "text": [
      "/opt/anaconda3/lib/python3.8/site-packages/sklearn/metrics/_classification.py:1814: UserWarning: y_pred contains classes not in y_true\n",
      "  warnings.warn('y_pred contains classes not in y_true')\n"
     ]
    },
    {
     "name": "stdout",
     "output_type": "stream",
     "text": [
      "3. Evaluate model with 70% data\n",
      "\tcross validate RandomForestClassifier(max_depth=100, n_estimators=50, random_state=123456) with RepeatedStratifiedKFold(n_repeats=5, n_splits=3, random_state=None)\n",
      "\tvalidate against test set\n"
     ]
    },
    {
     "name": "stderr",
     "output_type": "stream",
     "text": [
      "/opt/anaconda3/lib/python3.8/site-packages/sklearn/metrics/_classification.py:1814: UserWarning: y_pred contains classes not in y_true\n",
      "  warnings.warn('y_pred contains classes not in y_true')\n"
     ]
    },
    {
     "name": "stdout",
     "output_type": "stream",
     "text": [
      "4. Evaluate model with HC pseudo-labeled data\n",
      "\tcross validate RandomForestClassifier(max_depth=100, n_estimators=50, random_state=123456) with RepeatedStratifiedKFold(n_repeats=5, n_splits=3, random_state=None)\n",
      "\tvalidate against test set\n"
     ]
    },
    {
     "name": "stderr",
     "output_type": "stream",
     "text": [
      "/opt/anaconda3/lib/python3.8/site-packages/sklearn/metrics/_classification.py:1814: UserWarning: y_pred contains classes not in y_true\n",
      "  warnings.warn('y_pred contains classes not in y_true')\n"
     ]
    },
    {
     "name": "stdout",
     "output_type": "stream",
     "text": [
      "5. Store results.\n",
      "Result saved to result_seed160_123456.csv\n",
      "1. Read files (seed=320)\n",
      "\tReading ./data/seed320_35perc_train.csv\n",
      "\tReading ./data/seed320_70perc_SSLabel.csv\n",
      "\tReading ./data/seed320_SSLabel_HC.csv\n",
      "\tReading ./data/seed320_holdOutTest.csv\n",
      "2. Evaluate model with 35% data\n",
      "\tcross validate RandomForestClassifier(max_depth=100, n_estimators=50, random_state=123456) with RepeatedStratifiedKFold(n_repeats=5, n_splits=3, random_state=None)\n",
      "\tvalidate against test set\n"
     ]
    },
    {
     "name": "stderr",
     "output_type": "stream",
     "text": [
      "/opt/anaconda3/lib/python3.8/site-packages/sklearn/metrics/_classification.py:1814: UserWarning: y_pred contains classes not in y_true\n",
      "  warnings.warn('y_pred contains classes not in y_true')\n"
     ]
    },
    {
     "name": "stdout",
     "output_type": "stream",
     "text": [
      "3. Evaluate model with 70% data\n",
      "\tcross validate RandomForestClassifier(max_depth=100, n_estimators=50, random_state=123456) with RepeatedStratifiedKFold(n_repeats=5, n_splits=3, random_state=None)\n",
      "\tvalidate against test set\n"
     ]
    },
    {
     "name": "stderr",
     "output_type": "stream",
     "text": [
      "/opt/anaconda3/lib/python3.8/site-packages/sklearn/metrics/_classification.py:1814: UserWarning: y_pred contains classes not in y_true\n",
      "  warnings.warn('y_pred contains classes not in y_true')\n"
     ]
    },
    {
     "name": "stdout",
     "output_type": "stream",
     "text": [
      "4. Evaluate model with HC pseudo-labeled data\n",
      "\tcross validate RandomForestClassifier(max_depth=100, n_estimators=50, random_state=123456) with RepeatedStratifiedKFold(n_repeats=5, n_splits=3, random_state=None)\n",
      "\tvalidate against test set\n"
     ]
    },
    {
     "name": "stderr",
     "output_type": "stream",
     "text": [
      "/opt/anaconda3/lib/python3.8/site-packages/sklearn/metrics/_classification.py:1814: UserWarning: y_pred contains classes not in y_true\n",
      "  warnings.warn('y_pred contains classes not in y_true')\n"
     ]
    },
    {
     "name": "stdout",
     "output_type": "stream",
     "text": [
      "5. Store results.\n",
      "Result saved to result_seed320_123456.csv\n"
     ]
    }
   ],
   "source": [
    "run_all_seeds(123456)"
   ]
  },
  {
   "cell_type": "code",
   "execution_count": null,
   "metadata": {},
   "outputs": [],
   "source": []
  },
  {
   "cell_type": "code",
   "execution_count": null,
   "metadata": {},
   "outputs": [],
   "source": []
  },
  {
   "cell_type": "code",
   "execution_count": null,
   "metadata": {},
   "outputs": [],
   "source": []
  },
  {
   "cell_type": "code",
   "execution_count": 3,
   "metadata": {
    "jupyter": {
     "source_hidden": true
    }
   },
   "outputs": [],
   "source": [
    "file1 = './data/seed2_35perc_train.Mat'\n",
    "file2='./data/seed2_70perc_SSLabel.csv'\n",
    "file3='./data/seed2_SSLabel_HC.csv'\n",
    "X35, y35, xitest, yitest = read_Mat(file1)\n",
    "X70, y70 = process_csv(file2)\n",
    "XHC, yHC = process_csv(file3)"
   ]
  },
  {
   "cell_type": "code",
   "execution_count": 7,
   "metadata": {
    "collapsed": true,
    "jupyter": {
     "outputs_hidden": true,
     "source_hidden": true
    }
   },
   "outputs": [
    {
     "name": "stderr",
     "output_type": "stream",
     "text": [
      "/opt/anaconda3/lib/python3.8/site-packages/sklearn/metrics/_classification.py:1814: UserWarning: y_pred contains classes not in y_true\n",
      "  warnings.warn('y_pred contains classes not in y_true')\n"
     ]
    }
   ],
   "source": [
    "result35 = apply_CV(model, cv, X35, y35)\n",
    "result_ts_35 = evaluate_against_test_set(model, X35, y35, xitest, yitest)"
   ]
  },
  {
   "cell_type": "code",
   "execution_count": 8,
   "metadata": {
    "collapsed": true,
    "jupyter": {
     "outputs_hidden": true,
     "source_hidden": true
    }
   },
   "outputs": [
    {
     "name": "stderr",
     "output_type": "stream",
     "text": [
      "/opt/anaconda3/lib/python3.8/site-packages/sklearn/metrics/_classification.py:1814: UserWarning: y_pred contains classes not in y_true\n",
      "  warnings.warn('y_pred contains classes not in y_true')\n"
     ]
    }
   ],
   "source": [
    "result70 = apply_CV(model, cv, X70, y70)\n",
    "result_ts_70 = evaluate_against_test_set(model, X70, y70, xitest, yitest)"
   ]
  },
  {
   "cell_type": "code",
   "execution_count": 9,
   "metadata": {
    "collapsed": true,
    "jupyter": {
     "outputs_hidden": true,
     "source_hidden": true
    }
   },
   "outputs": [
    {
     "name": "stderr",
     "output_type": "stream",
     "text": [
      "/opt/anaconda3/lib/python3.8/site-packages/sklearn/metrics/_classification.py:1814: UserWarning: y_pred contains classes not in y_true\n",
      "  warnings.warn('y_pred contains classes not in y_true')\n"
     ]
    }
   ],
   "source": [
    "resultHC = apply_CV(model, cv, XHC, yHC)\n",
    "result_ts_HC = evaluate_against_test_set(model, XHC, yHC, xitest, yitest)"
   ]
  },
  {
   "cell_type": "code",
   "execution_count": 10,
   "metadata": {
    "jupyter": {
     "source_hidden": true
    }
   },
   "outputs": [],
   "source": [
    "result_df = pandas.DataFrame(data=[], columns=['Seed','Dataset','Validation','Metric','Value'])"
   ]
  },
  {
   "cell_type": "code",
   "execution_count": 11,
   "metadata": {
    "jupyter": {
     "source_hidden": true
    }
   },
   "outputs": [],
   "source": [
    "result_df = append_cv_results(result_df, result35, 2, '35%')\n",
    "result_df = append_testset_results(result_df, result_ts_35, 2, '35%')\n",
    "result_df = append_cv_results(result_df, result70, 2, '70%')\n",
    "result_df = append_testset_results(result_df, result_ts_70, 2, '70%')\n",
    "result_df = append_cv_results(result_df, resultHC, 2, 'HC')\n",
    "result_df = append_testset_results(result_df, result_ts_HC, 2, 'HC')"
   ]
  },
  {
   "cell_type": "code",
   "execution_count": 15,
   "metadata": {
    "collapsed": true,
    "jupyter": {
     "outputs_hidden": true,
     "source_hidden": true
    }
   },
   "outputs": [
    {
     "data": {
      "text/html": [
       "<div>\n",
       "<style scoped>\n",
       "    .dataframe tbody tr th:only-of-type {\n",
       "        vertical-align: middle;\n",
       "    }\n",
       "\n",
       "    .dataframe tbody tr th {\n",
       "        vertical-align: top;\n",
       "    }\n",
       "\n",
       "    .dataframe thead th {\n",
       "        text-align: right;\n",
       "    }\n",
       "</style>\n",
       "<table border=\"1\" class=\"dataframe\">\n",
       "  <thead>\n",
       "    <tr style=\"text-align: right;\">\n",
       "      <th></th>\n",
       "      <th>Seed</th>\n",
       "      <th>Dataset</th>\n",
       "      <th>Validation</th>\n",
       "      <th>Metric</th>\n",
       "      <th>Value</th>\n",
       "    </tr>\n",
       "  </thead>\n",
       "  <tbody>\n",
       "    <tr>\n",
       "      <th>0</th>\n",
       "      <td>2</td>\n",
       "      <td>35%</td>\n",
       "      <td>cross_val</td>\n",
       "      <td>balanced_acc</td>\n",
       "      <td>0.710</td>\n",
       "    </tr>\n",
       "    <tr>\n",
       "      <th>1</th>\n",
       "      <td>2</td>\n",
       "      <td>35%</td>\n",
       "      <td>cross_val</td>\n",
       "      <td>f1</td>\n",
       "      <td>0.810</td>\n",
       "    </tr>\n",
       "    <tr>\n",
       "      <th>2</th>\n",
       "      <td>2</td>\n",
       "      <td>35%</td>\n",
       "      <td>cross_val</td>\n",
       "      <td>roc_auc_ovr</td>\n",
       "      <td>0.990</td>\n",
       "    </tr>\n",
       "    <tr>\n",
       "      <th>3</th>\n",
       "      <td>2</td>\n",
       "      <td>35%</td>\n",
       "      <td>vs_testset</td>\n",
       "      <td>prec</td>\n",
       "      <td>0.860</td>\n",
       "    </tr>\n",
       "    <tr>\n",
       "      <th>4</th>\n",
       "      <td>2</td>\n",
       "      <td>35%</td>\n",
       "      <td>vs_testset</td>\n",
       "      <td>rec</td>\n",
       "      <td>0.880</td>\n",
       "    </tr>\n",
       "    <tr>\n",
       "      <th>5</th>\n",
       "      <td>2</td>\n",
       "      <td>35%</td>\n",
       "      <td>vs_testset</td>\n",
       "      <td>acc</td>\n",
       "      <td>0.880</td>\n",
       "    </tr>\n",
       "    <tr>\n",
       "      <th>6</th>\n",
       "      <td>2</td>\n",
       "      <td>35%</td>\n",
       "      <td>vs_testset</td>\n",
       "      <td>balanced_acc</td>\n",
       "      <td>0.903</td>\n",
       "    </tr>\n",
       "    <tr>\n",
       "      <th>7</th>\n",
       "      <td>2</td>\n",
       "      <td>70%</td>\n",
       "      <td>cross_val</td>\n",
       "      <td>balanced_acc</td>\n",
       "      <td>0.830</td>\n",
       "    </tr>\n",
       "    <tr>\n",
       "      <th>8</th>\n",
       "      <td>2</td>\n",
       "      <td>70%</td>\n",
       "      <td>cross_val</td>\n",
       "      <td>f1</td>\n",
       "      <td>0.900</td>\n",
       "    </tr>\n",
       "    <tr>\n",
       "      <th>9</th>\n",
       "      <td>2</td>\n",
       "      <td>70%</td>\n",
       "      <td>cross_val</td>\n",
       "      <td>roc_auc_ovr</td>\n",
       "      <td>1.000</td>\n",
       "    </tr>\n",
       "    <tr>\n",
       "      <th>10</th>\n",
       "      <td>2</td>\n",
       "      <td>70%</td>\n",
       "      <td>vs_testset</td>\n",
       "      <td>prec</td>\n",
       "      <td>0.912</td>\n",
       "    </tr>\n",
       "    <tr>\n",
       "      <th>11</th>\n",
       "      <td>2</td>\n",
       "      <td>70%</td>\n",
       "      <td>vs_testset</td>\n",
       "      <td>rec</td>\n",
       "      <td>0.918</td>\n",
       "    </tr>\n",
       "    <tr>\n",
       "      <th>12</th>\n",
       "      <td>2</td>\n",
       "      <td>70%</td>\n",
       "      <td>vs_testset</td>\n",
       "      <td>acc</td>\n",
       "      <td>0.918</td>\n",
       "    </tr>\n",
       "    <tr>\n",
       "      <th>13</th>\n",
       "      <td>2</td>\n",
       "      <td>70%</td>\n",
       "      <td>vs_testset</td>\n",
       "      <td>balanced_acc</td>\n",
       "      <td>0.930</td>\n",
       "    </tr>\n",
       "    <tr>\n",
       "      <th>14</th>\n",
       "      <td>2</td>\n",
       "      <td>HC</td>\n",
       "      <td>cross_val</td>\n",
       "      <td>balanced_acc</td>\n",
       "      <td>0.820</td>\n",
       "    </tr>\n",
       "    <tr>\n",
       "      <th>15</th>\n",
       "      <td>2</td>\n",
       "      <td>HC</td>\n",
       "      <td>cross_val</td>\n",
       "      <td>f1</td>\n",
       "      <td>0.910</td>\n",
       "    </tr>\n",
       "    <tr>\n",
       "      <th>16</th>\n",
       "      <td>2</td>\n",
       "      <td>HC</td>\n",
       "      <td>cross_val</td>\n",
       "      <td>roc_auc_ovr</td>\n",
       "      <td>1.000</td>\n",
       "    </tr>\n",
       "    <tr>\n",
       "      <th>17</th>\n",
       "      <td>2</td>\n",
       "      <td>HC</td>\n",
       "      <td>vs_testset</td>\n",
       "      <td>prec</td>\n",
       "      <td>0.893</td>\n",
       "    </tr>\n",
       "    <tr>\n",
       "      <th>18</th>\n",
       "      <td>2</td>\n",
       "      <td>HC</td>\n",
       "      <td>vs_testset</td>\n",
       "      <td>rec</td>\n",
       "      <td>0.913</td>\n",
       "    </tr>\n",
       "    <tr>\n",
       "      <th>19</th>\n",
       "      <td>2</td>\n",
       "      <td>HC</td>\n",
       "      <td>vs_testset</td>\n",
       "      <td>acc</td>\n",
       "      <td>0.913</td>\n",
       "    </tr>\n",
       "    <tr>\n",
       "      <th>20</th>\n",
       "      <td>2</td>\n",
       "      <td>HC</td>\n",
       "      <td>vs_testset</td>\n",
       "      <td>balanced_acc</td>\n",
       "      <td>0.936</td>\n",
       "    </tr>\n",
       "  </tbody>\n",
       "</table>\n",
       "</div>"
      ],
      "text/plain": [
       "   Seed Dataset  Validation        Metric  Value\n",
       "0     2     35%   cross_val  balanced_acc  0.710\n",
       "1     2     35%   cross_val            f1  0.810\n",
       "2     2     35%   cross_val   roc_auc_ovr  0.990\n",
       "3     2     35%  vs_testset          prec  0.860\n",
       "4     2     35%  vs_testset           rec  0.880\n",
       "5     2     35%  vs_testset           acc  0.880\n",
       "6     2     35%  vs_testset  balanced_acc  0.903\n",
       "7     2     70%   cross_val  balanced_acc  0.830\n",
       "8     2     70%   cross_val            f1  0.900\n",
       "9     2     70%   cross_val   roc_auc_ovr  1.000\n",
       "10    2     70%  vs_testset          prec  0.912\n",
       "11    2     70%  vs_testset           rec  0.918\n",
       "12    2     70%  vs_testset           acc  0.918\n",
       "13    2     70%  vs_testset  balanced_acc  0.930\n",
       "14    2      HC   cross_val  balanced_acc  0.820\n",
       "15    2      HC   cross_val            f1  0.910\n",
       "16    2      HC   cross_val   roc_auc_ovr  1.000\n",
       "17    2      HC  vs_testset          prec  0.893\n",
       "18    2      HC  vs_testset           rec  0.913\n",
       "19    2      HC  vs_testset           acc  0.913\n",
       "20    2      HC  vs_testset  balanced_acc  0.936"
      ]
     },
     "execution_count": 15,
     "metadata": {},
     "output_type": "execute_result"
    }
   ],
   "source": [
    "result_df"
   ]
  }
 ],
 "metadata": {
  "kernelspec": {
   "display_name": "Python 3",
   "language": "python",
   "name": "python3"
  },
  "language_info": {
   "codemirror_mode": {
    "name": "ipython",
    "version": 3
   },
   "file_extension": ".py",
   "mimetype": "text/x-python",
   "name": "python",
   "nbconvert_exporter": "python",
   "pygments_lexer": "ipython3",
   "version": "3.8.5"
  }
 },
 "nbformat": 4,
 "nbformat_minor": 4
}
